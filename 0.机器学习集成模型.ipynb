{
 "cells": [
  {
   "cell_type": "code",
   "execution_count": null,
   "id": "d1c110851ac8fd1b",
   "metadata": {},
   "outputs": [],
   "source": [
    "# 构建机器学习模型并训练：数据集训练测试切分、回归模型、分类模型、学习曲线可视化、分类结果评价标准（混淆矩阵）可视化、拟合曲线可视化、模型中特征重要性可视化、调参、树模型可视化\n",
    "# python3.9 + sklearn + numpy + scipy + pandas + matplotlib + hyperopt (调参数) + bayesian-optimization (调参数 from bayes_opt import BayesianOptimization) + catboost （需要gpu）+ tensorflow 2.13 (keras)\n",
    "# lightgbm + xgboost\n",
    "# pip install bayesian-optimization=1.4.0\n",
    "\n",
    "# 数据集训练测试切分：Hold-Out-Method、KFold、LeaveOneOut、LeavePOut、ShuffleSplit、StratifiedKFold分层K折交叉验证、StratifiedShuffleSplit。\n",
    "# 分类评价标准：pre、recall、f1、acc、auc、mcc、混淆矩阵可视化。\n",
    "# 回归模型：LinearRegression、Ridge、Lasso、ElasticNet、SVR、KNeighborsRegressor、DecisionTreeRegressor、RandomForestRegressor、GradientBoostingRegressor、xgboost.XGBRegressor、lightgbm.LGBMRegressor。\n",
    "# 分类模型：LogisticRegression、KNeighborsClassifier、GaussianNB、tree、BaggingClassifier、RandomForestClassifier、ExtraTreesClassifier、AdaBoostClassifier、GradientBoostingClassifier、lightgbm.LGBMClassifier、xgboost.XGBClassifier。\n",
    "# 模型习得特征重要性的可视化。\n",
    "# 学习过程的可视化曲线。\n",
    "# 拟合曲线、效果曲线、\n",
    "# 正则化：L1、L2、elasticnet。\n",
    "# 调参：GridSearchCV、RandomizedSearchCV。\n",
    "\n",
    "# 重要模型：lightgbm模型、catboost、xgboost、RF，比赛也就是这几个模型的融合"
   ]
  },
  {
   "cell_type": "code",
   "execution_count": 1,
   "id": "initial_id",
   "metadata": {
    "ExecuteTime": {
     "end_time": "2023-08-25T13:20:29.663923Z",
     "start_time": "2023-08-25T13:20:29.369607Z"
    }
   },
   "outputs": [
    {
     "name": "stdout",
     "output_type": "stream",
     "text": [
      "info:\n",
      "<class 'pandas.core.frame.DataFrame'>\n",
      "RangeIndex: 2888 entries, 0 to 2887\n",
      "Data columns (total 39 columns):\n",
      " #   Column  Non-Null Count  Dtype  \n",
      "---  ------  --------------  -----  \n",
      " 0   V0      2888 non-null   float64\n",
      " 1   V1      2888 non-null   float64\n",
      " 2   V2      2888 non-null   float64\n",
      " 3   V3      2888 non-null   float64\n",
      " 4   V4      2888 non-null   float64\n",
      " 5   V5      2888 non-null   float64\n",
      " 6   V6      2888 non-null   float64\n",
      " 7   V7      2888 non-null   float64\n",
      " 8   V8      2888 non-null   float64\n",
      " 9   V9      2888 non-null   float64\n",
      " 10  V10     2888 non-null   float64\n",
      " 11  V11     2888 non-null   float64\n",
      " 12  V12     2888 non-null   float64\n",
      " 13  V13     2888 non-null   float64\n",
      " 14  V14     2888 non-null   float64\n",
      " 15  V15     2888 non-null   float64\n",
      " 16  V16     2888 non-null   float64\n",
      " 17  V17     2888 non-null   float64\n",
      " 18  V18     2888 non-null   float64\n",
      " 19  V19     2888 non-null   float64\n",
      " 20  V20     2888 non-null   float64\n",
      " 21  V21     2888 non-null   float64\n",
      " 22  V22     2888 non-null   float64\n",
      " 23  V23     2888 non-null   float64\n",
      " 24  V24     2888 non-null   float64\n",
      " 25  V25     2888 non-null   float64\n",
      " 26  V26     2888 non-null   float64\n",
      " 27  V27     2888 non-null   float64\n",
      " 28  V28     2888 non-null   float64\n",
      " 29  V29     2888 non-null   float64\n",
      " 30  V30     2888 non-null   float64\n",
      " 31  V31     2888 non-null   float64\n",
      " 32  V32     2888 non-null   float64\n",
      " 33  V33     2888 non-null   float64\n",
      " 34  V34     2888 non-null   float64\n",
      " 35  V35     2888 non-null   float64\n",
      " 36  V36     2888 non-null   float64\n",
      " 37  V37     2888 non-null   float64\n",
      " 38  target  2888 non-null   float64\n",
      "dtypes: float64(39)\n",
      "memory usage: 880.1 KB\n",
      "\n",
      "\n",
      "head(3):\n",
      "    V0   V1    V2   V3   V4  ...   V34   V35   V36   V37  target\n",
      "0 0.57 0.02 -0.14 0.41 0.45  ... -4.79 -5.10 -2.61 -3.51    0.17\n",
      "1 0.97 0.44  0.07 0.57 0.19  ...  0.16  0.36 -0.34 -0.73    0.68\n",
      "2 1.01 0.57  0.23 0.37 0.11  ...  0.16  0.36  0.77 -0.59    0.63\n",
      "\n",
      "[3 rows x 39 columns]\n",
      "\n",
      "\n",
      "describe:\n"
     ]
    }
   ],
   "source": [
    "# pandas和numpy：参数设置和读取文件\n",
    "# 数据1：回归\n",
    "\n",
    "import pandas as pd\n",
    "import numpy as np\n",
    "\n",
    "# pandas 参数设置\n",
    "pd.set_option('display.max_columns',10)\n",
    "pd.set_option('display.max_rows',20)\n",
    "#禁用科学计数法\n",
    "np.set_printoptions(suppress=True,   precision=10,  threshold=2000,  linewidth=150)  \n",
    "pd.set_option('display.float_format',lambda x : '%.2f' % x)\n",
    "\n",
    "# 读取数据\n",
    "train_data = pd.read_csv(\"./data/zhengqi/zhengqi_train.txt\", sep='\\t', encoding='utf-8')\n",
    "test_data = pd.read_csv(\"./data/zhengqi/zhengqi_test.txt\", sep='\\t', encoding='utf-8')\n",
    "\n",
    "# 查看和统计\n",
    "print('info:')\n",
    "train_data.info()\n",
    "print('\\n\\nhead(3):')\n",
    "print(train_data.head(3))\n",
    "print('\\n\\ndescribe:')\n",
    "train_data.describe()\n",
    "\n",
    "# dataframe简单操作\n",
    "# data_all = pd.concat([train_data,test_data]) \n",
    "# data_all =  data_all.drop(['V0'], axis=1)\n",
    "# data_all =  data_all.drop(['target'], axis=1, inplace=True)\n",
    "# data_all = data_all[data_all['V9']>-7.5]\n",
    "##删除异常值\n",
    "train_data = train_data[train_data['V9']>-7.5]\n",
    "test_data = test_data[test_data['V9']>-7.5]\n",
    "\n",
    "##归一化数据\n",
    "from sklearn import preprocessing\n",
    "features_columns = [col for col in train_data.columns if col not in ['target']]\n",
    "min_max_scaler = preprocessing.MinMaxScaler()\n",
    "min_max_scaler = min_max_scaler.fit(train_data[features_columns])\n",
    "train_data_scaler = min_max_scaler.transform(train_data[features_columns])\n",
    "test_data_scaler = min_max_scaler.transform(test_data[features_columns])\n",
    "\n",
    "train_data_scaler = pd.DataFrame(train_data_scaler)\n",
    "train_data_scaler.columns = features_columns\n",
    "test_data_scaler = pd.DataFrame(test_data_scaler)\n",
    "test_data_scaler.columns = features_columns\n",
    "train_data_scaler['target'] = train_data['target']\n",
    "\n",
    "##PCA降维 保持90%的信息\n",
    "from sklearn.decomposition import PCA   #主成分分析法\n",
    "pca = PCA(n_components=0.9)\n",
    "new_train_pca_90 = pca.fit_transform(train_data_scaler.iloc[:,0:-1])\n",
    "new_test_pca_90 = pca.transform(test_data_scaler)\n",
    "new_train_pca_90 = pd.DataFrame(new_train_pca_90)\n",
    "new_test_pca_90 = pd.DataFrame(new_test_pca_90)\n",
    "new_train_pca_90['target'] = train_data_scaler['target']\n",
    "\n",
    "pca = PCA(n_components=0.95)\n",
    "new_train_pca_16 = pca.fit_transform(train_data_scaler.iloc[:,0:-1])\n",
    "new_test_pca_16 = pca.transform(test_data_scaler)\n",
    "new_train_pca_16 = pd.DataFrame(new_train_pca_16)\n",
    "new_test_pca_16 = pd.DataFrame(new_test_pca_16)\n",
    "new_train_pca_16['target'] = train_data_scaler['target']"
   ]
  },
  {
   "cell_type": "code",
   "execution_count": 55,
   "id": "44830ea2",
   "metadata": {
    "ExecuteTime": {
     "end_time": "2023-08-25T15:04:39.849924Z",
     "start_time": "2023-08-25T15:04:31.618025Z"
    }
   },
   "outputs": [
    {
     "name": "stdout",
     "output_type": "stream",
     "text": [
      "(train_test_split) Accuracy: 0.9275 (+/- 0.0000)\n",
      "(cross_val_score) Accuracy: 0.9355 (+/- 0.0020)\n",
      "(cross_val_score) F1: 0.4833 (+/- 0.0005)\n",
      "(cross_val_score) Accuracy: 0.9343 (+/- 0.0109)\n"
     ]
    }
   ],
   "source": [
    "# 另一个数据集(分类数据)，统计离散值并可视化，节约内存小技巧\n",
    "# 数据集2：分类\n",
    "# 读取特征工程后的特征数据\n",
    "\n",
    "import pandas as pd\n",
    "import numpy as np\n",
    "from sklearn.model_selection import train_test_split, cross_val_score, ShuffleSplit\n",
    "from sklearn.ensemble import RandomForestClassifier\n",
    "from sklearn import metrics\n",
    "import warnings\n",
    "warnings.filterwarnings(\"ignore\")\n",
    "%matplotlib inline\n",
    "\n",
    "train_data = pd.read_csv('./data/tmall/train_all.csv',nrows=10000)\n",
    "test_data = pd.read_csv('./data/tmall/test_all.csv',nrows=100)\n",
    "\n",
    "features_columns = [col for col in train_data.columns if col not in ['user_id','label']]\n",
    "train = train_data[features_columns].values\n",
    "test = test_data[features_columns].values\n",
    "target =train_data['label'].values\n",
    "\n",
    "\n",
    "X_train, X_test, y_train, y_test = train_test_split(train, target, test_size=0.4, random_state=0)\n",
    "clf = RandomForestClassifier(n_estimators=100, max_depth=2, random_state=0, n_jobs=-1)\n",
    "clf = clf.fit(X_train, y_train)\n",
    "scores = clf.score(X_test, y_test)\n",
    "print(\"(train_test_split) Accuracy: %0.4f (+/- %0.4f)\" % (scores.mean(), scores.std() * 2)) \n",
    "\n",
    "clf = RandomForestClassifier(n_estimators=100, max_depth=2, random_state=0, n_jobs=-1)\n",
    "scores = cross_val_score(clf, train, target, cv=5)\n",
    "print(\"(cross_val_score) Accuracy: %0.4f (+/- %0.4f)\" % (scores.mean(), scores.std() * 2))\n",
    "scores = cross_val_score(clf, train, target, cv=5, scoring='f1_macro')\n",
    "print(\"(cross_val_score) F1: %0.4f (+/- %0.4f)\" % (scores.mean(), scores.std() * 2))\n",
    "\n",
    "clf = RandomForestClassifier(n_estimators=100, max_depth=2, random_state=0, n_jobs=-1)\n",
    "cv = ShuffleSplit(n_splits=5, test_size=0.3, random_state=0)\n",
    "scores = cross_val_score(clf, train, target, cv=cv)  \n",
    "print(\"(cross_val_score) Accuracy: %0.4f (+/- %0.4f)\" % (scores.mean(), scores.std() * 2))\n"
   ]
  },
  {
   "cell_type": "code",
   "execution_count": 1,
   "outputs": [
    {
     "name": "stdout",
     "output_type": "stream",
     "text": [
      "<class 'pandas.core.frame.DataFrame'> <class 'numpy.ndarray'> <class 'pandas.core.frame.DataFrame'> <class 'numpy.ndarray'> <class 'list'> <class 'list'>\n",
      "(172339, 1538) (172339, 16) (172339, 1538) (172339, 16) 172339 172339\n"
     ]
    }
   ],
   "source": [
    "# 读取数据集: \n",
    "# 数据集4：时间序列-kaggle销量预测\n",
    "\n",
    "import pickle\n",
    "import warnings\n",
    "warnings.filterwarnings(\"ignore\")\n",
    "%matplotlib inline\n",
    "\n",
    "with open('./data/kaggleSalesForecasting/X_train.pickle', 'rb') as f:\n",
    "    X_train = pickle.load(f)\n",
    "with open('./data/kaggleSalesForecasting/y_train.pickle', 'rb') as f:\n",
    "    y_train = pickle.load(f)\n",
    "with open('./data/kaggleSalesForecasting/X_val.pickle', 'rb') as f:\n",
    "    X_val = pickle.load(f)\n",
    "with open('./data/kaggleSalesForecasting/y_val.pickle', 'rb') as f:\n",
    "    y_val = pickle.load(f)\n",
    "with open('./data/kaggleSalesForecasting/X_test.pickle', 'rb') as f:\n",
    "    X_test = pickle.load(f)\n",
    "with open('./data/kaggleSalesForecasting/train_weight.pickle', 'rb') as f:\n",
    "    train_weight = pickle.load(f)\n",
    "with open('./data/kaggleSalesForecasting/val_weight.pickle', 'rb') as f:\n",
    "    val_weight = pickle.load(f)\n",
    "\n",
    "print(type(X_train), type(y_train), type(X_val), type(y_val), type(train_weight), type(val_weight))\n",
    "print(X_train.shape, y_train.shape, X_val.shape, y_val.shape, len(train_weight), len(val_weight))"
   ],
   "metadata": {
    "collapsed": false,
    "ExecuteTime": {
     "end_time": "2023-08-26T05:44:03.546930Z",
     "start_time": "2023-08-26T05:44:00.776971Z"
    }
   },
   "id": "1c3a9f03fc123732"
  },
  {
   "cell_type": "code",
   "execution_count": 2,
   "id": "308f66ee995178e1",
   "metadata": {
    "ExecuteTime": {
     "end_time": "2023-08-25T13:18:45.696260Z",
     "start_time": "2023-08-25T13:18:45.669174Z"
    }
   },
   "outputs": [
    {
     "name": "stdout",
     "output_type": "stream",
     "text": [
      "Hold-Out: (2308, 21) (578, 21) (2308,) (578,)\n",
      "KFold:\n",
      "\t 0 [0 1 3 4 5 6 7 9] [2 8]\n",
      "\t 1 [0 1 2 3 5 6 7 8] [4 9]\n",
      "\t 2 [0 2 3 4 5 7 8 9] [1 6]\n",
      "\t 3 [0 1 2 4 5 6 8 9] [3 7]\n",
      "\t 4 [1 2 3 4 6 7 8 9] [0 5]\n",
      "LeaveOneOut:\n",
      "\t 0 [1 2 3 4 5 6 7 8 9] [0]\n",
      "\t 1 [0 2 3 4 5 6 7 8 9] [1]\n",
      "\t 2 [0 1 3 4 5 6 7 8 9] [2]\n",
      "\t 3 [0 1 2 4 5 6 7 8 9] [3]\n",
      "\t 4 [0 1 2 3 5 6 7 8 9] [4]\n",
      "\t 5 [0 1 2 3 4 6 7 8 9] [5]\n",
      "\t 6 [0 1 2 3 4 5 7 8 9] [6]\n",
      "\t 7 [0 1 2 3 4 5 6 8 9] [7]\n",
      "\t 8 [0 1 2 3 4 5 6 7 9] [8]\n",
      "\t 9 [0 1 2 3 4 5 6 7 8] [9]\n",
      "LeavePOut:\n",
      "\t 0 [2 3 4 5 6 7 8 9] [0 1]\n",
      "\t 1 [1 3 4 5 6 7 8 9] [0 2]\n",
      "\t 2 [1 2 4 5 6 7 8 9] [0 3]\n",
      "\t 3 [1 2 3 5 6 7 8 9] [0 4]\n",
      "\t 4 [1 2 3 4 6 7 8 9] [0 5]\n",
      "\t 5 [1 2 3 4 5 7 8 9] [0 6]\n",
      "\t 6 [1 2 3 4 5 6 8 9] [0 7]\n",
      "\t 7 [1 2 3 4 5 6 7 9] [0 8]\n",
      "\t 8 [1 2 3 4 5 6 7 8] [0 9]\n",
      "\t 9 [0 3 4 5 6 7 8 9] [1 2]\n",
      "\t 10 [0 2 4 5 6 7 8 9] [1 3]\n",
      "\t 11 [0 2 3 5 6 7 8 9] [1 4]\n",
      "\t 12 [0 2 3 4 6 7 8 9] [1 5]\n",
      "\t 13 [0 2 3 4 5 7 8 9] [1 6]\n",
      "\t 14 [0 2 3 4 5 6 8 9] [1 7]\n",
      "\t 15 [0 2 3 4 5 6 7 9] [1 8]\n",
      "\t 16 [0 2 3 4 5 6 7 8] [1 9]\n",
      "\t 17 [0 1 4 5 6 7 8 9] [2 3]\n",
      "\t 18 [0 1 3 5 6 7 8 9] [2 4]\n",
      "\t 19 [0 1 3 4 6 7 8 9] [2 5]\n",
      "\t 20 [0 1 3 4 5 7 8 9] [2 6]\n",
      "\t 21 [0 1 3 4 5 6 8 9] [2 7]\n",
      "\t 22 [0 1 3 4 5 6 7 9] [2 8]\n",
      "\t 23 [0 1 3 4 5 6 7 8] [2 9]\n",
      "\t 24 [0 1 2 5 6 7 8 9] [3 4]\n",
      "\t 25 [0 1 2 4 6 7 8 9] [3 5]\n",
      "\t 26 [0 1 2 4 5 7 8 9] [3 6]\n",
      "\t 27 [0 1 2 4 5 6 8 9] [3 7]\n",
      "\t 28 [0 1 2 4 5 6 7 9] [3 8]\n",
      "\t 29 [0 1 2 4 5 6 7 8] [3 9]\n",
      "\t 30 [0 1 2 3 6 7 8 9] [4 5]\n",
      "\t 31 [0 1 2 3 5 7 8 9] [4 6]\n",
      "\t 32 [0 1 2 3 5 6 8 9] [4 7]\n",
      "\t 33 [0 1 2 3 5 6 7 9] [4 8]\n",
      "\t 34 [0 1 2 3 5 6 7 8] [4 9]\n",
      "\t 35 [0 1 2 3 4 7 8 9] [5 6]\n",
      "\t 36 [0 1 2 3 4 6 8 9] [5 7]\n",
      "\t 37 [0 1 2 3 4 6 7 9] [5 8]\n",
      "\t 38 [0 1 2 3 4 6 7 8] [5 9]\n",
      "\t 39 [0 1 2 3 4 5 8 9] [6 7]\n",
      "\t 40 [0 1 2 3 4 5 7 9] [6 8]\n",
      "\t 41 [0 1 2 3 4 5 7 8] [6 9]\n",
      "\t 42 [0 1 2 3 4 5 6 9] [7 8]\n",
      "\t 43 [0 1 2 3 4 5 6 8] [7 9]\n",
      "\t 44 [0 1 2 3 4 5 6 7] [8 9]\n",
      "ShuffleSplit:\n",
      "\t 0 [9 1 6 7 3 0 5] [2 8 4]\n",
      "\t 1 [2 9 8 0 6 7 4] [3 5 1]\n",
      "\t 2 [4 5 1 0 6 9 7] [2 3 8]\n",
      "StratifiedKFold:\n",
      "\t 0 [4 5 6 7 8 9] [0 1 2 3]\n",
      "\t 1 [0 1 2 3 7 8 9] [4 5 6]\n",
      "\t 2 [0 1 2 3 4 5 6] [7 8 9]\n",
      "StratifiedShuffleSplit:\n",
      "\t 0 [7 1 6 9 5 2 8 4 0] [3]\n",
      "\t 1 [9 1 8 6 4 3 2 5 7] [0]\n",
      "\t 2 [7 0 4 6 1 8 9 2 3] [5]\n",
      "GroupKFold:\n",
      "\t 0 [0 1 2 3 4 5] [6 7 8 9]\n",
      "\t 1 [0 1 2 6 7 8 9] [3 4 5]\n",
      "\t 2 [3 4 5 6 7 8 9] [0 1 2]\n",
      "LeaveOneGroupOut:\n",
      "\t 0 [3 4 5 6 7 8 9] [0 1 2]\n",
      "\t 1 [0 1 2 6 7 8 9] [3 4 5]\n",
      "\t 2 [0 1 2 3 4 5] [6 7 8 9]\n",
      "LeavePGroupsOut:\n",
      "\t 0 [6 7 8 9] [0 1 2 3 4 5]\n",
      "\t 1 [3 4 5] [0 1 2 6 7 8 9]\n",
      "\t 2 [0 1 2] [3 4 5 6 7 8 9]\n",
      "GroupShuffleSplit:\n",
      "\t 0 [0 1 2] [3 4 5 6 7 8 9]\n",
      "\t 1 [3 4 5] [0 1 2 6 7 8 9]\n",
      "\t 2 [3 4 5] [0 1 2 6 7 8 9]\n",
      "\t 3 [3 4 5] [0 1 2 6 7 8 9]\n",
      "TimeSeriesSplit:\n",
      "\t 0 [0 1 2 3] [4 5]\n",
      "\t 1 [0 1 2 3 4 5] [6 7]\n",
      "\t 2 [0 1 2 3 4 5 6 7] [8 9]\n"
     ]
    }
   ],
   "source": [
    "# 切分数据集： \n",
    "# 数据1：回归\n",
    "from sklearn.model_selection import train_test_split  # 切分数据\n",
    "\n",
    "new_train_pca_16 = new_train_pca_16.fillna(0)  #采用 pca 保留16维特征的数据\n",
    "train = new_train_pca_16[new_test_pca_16.columns]\n",
    "target = new_train_pca_16['target']\n",
    "\n",
    "\n",
    "# 简单交叉验证Hold-Out-Method: 训练数据80% 验证数据20%\n",
    "train_data, test_data, train_target, test_target = train_test_split(train, target, test_size=0.2, random_state=0)\n",
    "print('Hold-Out:', train_data.shape, test_data.shape, train_target.shape, test_target.shape)\n",
    "\n",
    "# K折交叉验证K-Fold-CV\n",
    "from sklearn.model_selection import KFold\n",
    "kf = KFold(n_splits=5, random_state=0, shuffle=True)\n",
    "print('KFold:')\n",
    "for i, (train_index, test_index) in enumerate(kf.split(train_data.head(10))):\n",
    "    print('\\t', i, train_index, test_index)\n",
    "\n",
    "# 留一法交叉验证LOO-CV:\n",
    "from sklearn.model_selection import LeaveOneOut \n",
    "loo = LeaveOneOut()\n",
    "print('LeaveOneOut:')\n",
    "for i, (train_index, test_index) in enumerate(loo.split(train_data.head(10))):\n",
    "    print('\\t', i, train_index, test_index)\n",
    "\n",
    "# 留P法交叉验证LPO-CV\n",
    "from sklearn.model_selection import LeavePOut \n",
    "lpo = LeavePOut(p=2)\n",
    "print('LeavePOut:')\n",
    "for i, (train_index, test_index) in enumerate(lpo.split(train_data.head(10))):\n",
    "    print('\\t', i, train_index, test_index)\n",
    "\n",
    "# 随机排列划分子集\n",
    "from sklearn.model_selection import ShuffleSplit \n",
    "ss = ShuffleSplit(n_splits=3, test_size=0.25, random_state=0)\n",
    "print('ShuffleSplit:')\n",
    "for i, (train_index, test_index) in enumerate(ss.split(train_data.head(10))):\n",
    "    print('\\t', i, train_index, test_index)\n",
    "\n",
    "# 分层K折交叉验证、分层随机交叉验证\n",
    "from sklearn.model_selection import StratifiedKFold \n",
    "skf = StratifiedKFold(n_splits=3)  #各个类别的比例大致和完整数据集中相同\n",
    "print('StratifiedKFold:')\n",
    "for i, (train_index, test_index) in enumerate(skf.split(train_data.head(10).values[:,:-1], train_data.head(10).values[:,-1].astype(np.int8))):\n",
    "    print('\\t', i, train_index, test_index)\n",
    "\n",
    "# 划分中每个类的比例和完整数据集中的相同\n",
    "from sklearn.model_selection import StratifiedShuffleSplit \n",
    "sss = StratifiedShuffleSplit(n_splits=3)  \n",
    "print('StratifiedShuffleSplit:')\n",
    "for i, (train_index, test_index) in enumerate(sss.split(train_data.head(10).values[:,:-1], train_data.head(10).values[:,-1].astype(np.int8))):\n",
    "    print('\\t', i, train_index, test_index)\n",
    "\n",
    "\n",
    "\n",
    "\n",
    "# =====组 k-fold交叉验证、留一组交叉验证、留 P 组交叉验证、Group Shuffle Split=====\n",
    "X = [0.1, 0.2, 2.2, 2.4, 2.3, 4.55, 5.8, 8.8, 9, 10]\n",
    "y = [\"a\", \"b\", \"b\", \"b\", \"c\", \"c\", \"c\", \"d\", \"d\", \"d\"]\n",
    "groups = [1, 1, 1, 2, 2, 2, 3, 3, 3, 3]\n",
    "\n",
    "# k折分组\n",
    "from sklearn.model_selection import GroupKFold \n",
    "gkf = GroupKFold(n_splits=3)  # 训练集和测试集属于不同的组\n",
    "print('GroupKFold:')\n",
    "for i, (train_index, test_index) in enumerate(gkf.split(X, y, groups=groups)):\n",
    "    print('\\t', i, train_index, test_index)\n",
    "\n",
    "# 留一分组\n",
    "from sklearn.model_selection import LeaveOneGroupOut \n",
    "logo = LeaveOneGroupOut()\n",
    "print('LeaveOneGroupOut:')\n",
    "for i, (train_index, test_index) in enumerate(logo.split(X, y, groups=groups)):\n",
    "    print('\\t', i, train_index, test_index)\n",
    "\n",
    "# 留p分组\n",
    "from sklearn.model_selection import LeavePGroupsOut \n",
    "lpgo = LeavePGroupsOut(n_groups=2)\n",
    "print('LeavePGroupsOut:')\n",
    "for i, (train_index, test_index) in enumerate(lpgo.split(X, y, groups=groups)):\n",
    "    print('\\t', i, train_index, test_index)\n",
    "\n",
    "# 随机分组\n",
    "from sklearn.model_selection import GroupShuffleSplit \n",
    "gss = GroupShuffleSplit(n_splits=4, test_size=0.5, random_state=0)\n",
    "print('GroupShuffleSplit:')\n",
    "for i, (train_index, test_index) in enumerate(gss.split(X, y, groups=groups)):\n",
    "    print('\\t', i, train_index, test_index)\n",
    "\n",
    "\n",
    "# =====时间序列分割=====\n",
    "from sklearn.model_selection import TimeSeriesSplit \n",
    "tscv = TimeSeriesSplit(n_splits=3)\n",
    "# TimeSeriesSplit(max_train_size=None, n_splits=3)\n",
    "print('TimeSeriesSplit:')\n",
    "for i, (train_index, test_index) in enumerate(tscv.split(train_data.head(10))):\n",
    "    print('\\t', i, train_index, test_index)"
   ]
  },
  {
   "cell_type": "code",
   "execution_count": 3,
   "id": "36226c3d",
   "metadata": {
    "ExecuteTime": {
     "end_time": "2023-08-25T01:28:31.375198700Z",
     "start_time": "2023-08-25T01:28:30.331723100Z"
    }
   },
   "outputs": [
    {
     "name": "stdout",
     "output_type": "stream",
     "text": [
      "acc = 0.926 auc = 0.49571734475374735 mcc = -0.023871938507169333\n",
      "              precision    recall  f1-score   support\n",
      "\n",
      "         0.0       0.93      0.99      0.96       467\n",
      "         1.0       0.00      0.00      0.00        33\n",
      "\n",
      "    accuracy                           0.93       500\n",
      "   macro avg       0.47      0.50      0.48       500\n",
      "weighted avg       0.87      0.93      0.90       500\n",
      "\n",
      "Confusion matrix, without normalization\n",
      "[[463   4]\n",
      " [ 33   0]]\n",
      "Normalized confusion matrix\n",
      "[[0.99 0.01]\n",
      " [1.   0.  ]]\n"
     ]
    },
    {
     "data": {
      "text/plain": "<Figure size 640x480 with 2 Axes>",
      "image/png": "[encoded data removed]"
     },
     "metadata": {},
     "output_type": "display_data"
    },
    {
     "data": {
      "text/plain": "<Figure size 640x480 with 2 Axes>",
      "image/png": "[encoded data removed]"
     },
     "metadata": {},
     "output_type": "display_data"
    }
   ],
   "source": [
    "# 分类评价：混淆矩阵、auc等\n",
    "# 数据集2：分类\n",
    "\n",
    "import itertools\n",
    "import numpy as np\n",
    "import matplotlib.pyplot as plt\n",
    "\n",
    "from sklearn.model_selection import train_test_split\n",
    "from sklearn.metrics import confusion_matrix, classification_report\n",
    "from sklearn.ensemble import RandomForestClassifier\n",
    "from sklearn.metrics import roc_auc_score, accuracy_score, matthews_corrcoef\n",
    "import warnings\n",
    "warnings.filterwarnings(\"ignore\")\n",
    "%matplotlib inline\n",
    "\n",
    "# label name\n",
    "class_names = ['no-repeat', 'repeat']\n",
    "\n",
    "# Split the data into a training set and a test set\n",
    "X_train, X_test, y_train, y_test = train_test_split(train, target, random_state=0)\n",
    "\n",
    "# Run classifier, using a model that is too regularized (C too low) to see\n",
    "# the impact on the results\n",
    "clf = RandomForestClassifier(n_jobs=-1)\n",
    "y_pred = clf.fit(X_train, y_train).predict(X_test)\n",
    "# 不同评价标准下的结果\n",
    "acc = accuracy_score(y_test, y_pred)\n",
    "auc = roc_auc_score(y_test, y_pred)\n",
    "mcc = matthews_corrcoef(y_test, y_pred)\n",
    "print('acc =', acc, 'auc =', auc, 'mcc =', mcc)\n",
    "print(classification_report(y_test, y_pred))\n",
    "\n",
    "\n",
    "def plot_confusion_matrix(cm, classes, normalize=False, title='Confusion matrix', cmap=plt.cm.Blues):\n",
    "    \"\"\"\n",
    "    This function prints and plots the confusion matrix.\n",
    "    Normalization can be applied by setting `normalize=True`.\n",
    "    \"\"\"\n",
    "    if normalize:\n",
    "        cm = cm.astype('float') / cm.sum(axis=1)[:, np.newaxis]\n",
    "        print(\"Normalized confusion matrix\")\n",
    "    else:\n",
    "        print('Confusion matrix, without normalization')\n",
    "\n",
    "    print(cm)\n",
    "\n",
    "    plt.imshow(cm, interpolation='nearest', cmap=cmap)\n",
    "    plt.title(title)\n",
    "    plt.colorbar()\n",
    "    tick_marks = np.arange(len(classes))\n",
    "    plt.xticks(tick_marks, classes, rotation=45)\n",
    "    plt.yticks(tick_marks, classes)\n",
    "\n",
    "    fmt = '.2f' if normalize else 'd'\n",
    "    thresh = cm.max() / 2.\n",
    "    for i, j in itertools.product(range(cm.shape[0]), range(cm.shape[1])):\n",
    "        plt.text(j, i, format(cm[i, j], fmt), horizontalalignment=\"center\", color=\"white\" if cm[i, j] > thresh else \"black\")\n",
    "\n",
    "    plt.ylabel('True label')\n",
    "    plt.xlabel('Predicted label')\n",
    "    plt.tight_layout()\n",
    "\n",
    "\n",
    "# Compute confusion matrix\n",
    "cnf_matrix = confusion_matrix(y_test, y_pred)\n",
    "np.set_printoptions(precision=2)\n",
    "\n",
    "# Plot non-normalized confusion matrix\n",
    "plt.figure()\n",
    "plot_confusion_matrix(cnf_matrix, classes=class_names, title='Confusion matrix, without normalization')\n",
    "\n",
    "# Plot normalized confusion matrix\n",
    "plt.figure()\n",
    "plot_confusion_matrix(cnf_matrix, classes=class_names, normalize=True, title='Normalized confusion matrix')\n",
    "plt.show()"
   ]
  },
  {
   "cell_type": "code",
   "execution_count": 33,
   "id": "87e572b125302f93",
   "metadata": {
    "ExecuteTime": {
     "end_time": "2023-08-24T05:34:07.968209900Z",
     "start_time": "2023-08-24T05:34:07.905712500Z"
    }
   },
   "outputs": [
    {
     "name": "stdout",
     "output_type": "stream",
     "text": [
      "Wall time: 0 ns\n",
      "LinearRegression:    0.2642337917628173\n"
     ]
    }
   ],
   "source": [
    "# 线性回归模型 LinearRegression\n",
    "# 数据1：回归\n",
    "\n",
    "from sklearn.linear_model import LinearRegression\n",
    "from sklearn.metrics import mean_squared_error\n",
    "\n",
    "clf = LinearRegression()\n",
    "%time clf.fit(train_data, train_target)\n",
    "test_pred = clf.predict(test_data)\n",
    "score = mean_squared_error(test_target, clf.predict(test_data))\n",
    "print(\"LinearRegression:   \", score)"
   ]
  },
  {
   "cell_type": "code",
   "execution_count": 73,
   "id": "d183298605fabb45",
   "metadata": {
    "ExecuteTime": {
     "end_time": "2023-08-24T07:22:37.836579600Z",
     "start_time": "2023-08-24T07:22:37.758460Z"
    }
   },
   "outputs": [
    {
     "name": "stdout",
     "output_type": "stream",
     "text": [
      "Wall time: 0 ns\n",
      "Ridge:    0.26390267274268325\n"
     ]
    }
   ],
   "source": [
    "# 岭回归模型 Ridge\n",
    "# 数据1：回归\n",
    "\n",
    "from sklearn.linear_model import Ridge\n",
    "from sklearn.metrics import mean_squared_error\n",
    "\n",
    "clf = Ridge()\n",
    "%time clf.fit(train_data, train_target)\n",
    "test_pred = clf.predict(test_data)\n",
    "score = mean_squared_error(test_target, clf.predict(test_data))\n",
    "print(\"Ridge:   \", score)"
   ]
  },
  {
   "cell_type": "code",
   "execution_count": 74,
   "id": "2844694c86aee9ef",
   "metadata": {
    "ExecuteTime": {
     "end_time": "2023-08-24T07:23:12.836557200Z",
     "start_time": "2023-08-24T07:23:12.741743700Z"
    }
   },
   "outputs": [
    {
     "name": "stdout",
     "output_type": "stream",
     "text": [
      "Wall time: 76.2 ms\n",
      "Lasso:    1.0272506955811558\n"
     ]
    }
   ],
   "source": [
    "# Lasso回归模型 Lasso\n",
    "# 数据1：回归\n",
    "\n",
    "from sklearn.linear_model import Lasso\n",
    "from sklearn.metrics import mean_squared_error\n",
    "\n",
    "clf = Lasso()\n",
    "%time clf.fit(train_data, train_target)\n",
    "test_pred = clf.predict(test_data)\n",
    "score = mean_squared_error(test_target, clf.predict(test_data))\n",
    "print(\"Lasso:   \", score)"
   ]
  },
  {
   "cell_type": "code",
   "execution_count": 75,
   "id": "58cfcb5d0d078ecb",
   "metadata": {
    "ExecuteTime": {
     "end_time": "2023-08-24T07:23:45.445339600Z",
     "start_time": "2023-08-24T07:23:45.378770200Z"
    }
   },
   "outputs": [
    {
     "name": "stdout",
     "output_type": "stream",
     "text": [
      "Wall time: 75.3 µs\n",
      "ElasticNet:    1.0272506955811558\n"
     ]
    }
   ],
   "source": [
    "# ElasticNet回归模型 ElasticNet\n",
    "# 数据1：回归\n",
    "\n",
    "from sklearn.linear_model import ElasticNet\n",
    "from sklearn.metrics import mean_squared_error\n",
    "\n",
    "clf = ElasticNet()\n",
    "%time clf.fit(train_data, train_target)\n",
    "test_pred = clf.predict(test_data)\n",
    "score = mean_squared_error(test_target, clf.predict(test_data))\n",
    "print(\"ElasticNet:   \", score)"
   ]
  },
  {
   "cell_type": "code",
   "execution_count": 77,
   "id": "2243b9888b9101fe",
   "metadata": {
    "ExecuteTime": {
     "end_time": "2023-08-24T07:25:02.082553900Z",
     "start_time": "2023-08-24T07:25:00.671073Z"
    }
   },
   "outputs": [
    {
     "name": "stdout",
     "output_type": "stream",
     "text": [
      "Wall time: 430 ms\n",
      "SVR:    0.216637323528845\n"
     ]
    }
   ],
   "source": [
    "# SVR回归模型 SVR\n",
    "# 数据1：回归\n",
    "\n",
    "from sklearn.svm import SVR\n",
    "from sklearn.metrics import mean_squared_error\n",
    "\n",
    "clf = SVR()\n",
    "%time clf.fit(train_data, train_target)\n",
    "test_pred = clf.predict(test_data)\n",
    "score = mean_squared_error(test_target, clf.predict(test_data))\n",
    "print(\"SVR:   \", score)"
   ]
  },
  {
   "cell_type": "code",
   "execution_count": 34,
   "id": "ed74b01206bb2abf",
   "metadata": {
    "ExecuteTime": {
     "end_time": "2023-08-24T05:34:08.061951200Z",
     "start_time": "2023-08-24T05:34:07.952586600Z"
    }
   },
   "outputs": [
    {
     "name": "stdout",
     "output_type": "stream",
     "text": [
      "Wall time: 0 ns\n",
      "KNeighborsRegressor:    0.27619208861976163\n"
     ]
    }
   ],
   "source": [
    "# K近邻回归模型算法\n",
    "# 数据1：回归\n",
    "\n",
    "from sklearn.neighbors import KNeighborsRegressor\n",
    "from sklearn.metrics import mean_squared_error\n",
    "\n",
    "clf = KNeighborsRegressor(n_neighbors=3)  # 最近三个\n",
    "%time clf.fit(train_data, train_target)\n",
    "test_pred = clf.predict(test_data)\n",
    "score = mean_squared_error(test_target, clf.predict(test_data))\n",
    "print(\"KNeighborsRegressor:   \", score)"
   ]
  },
  {
   "cell_type": "code",
   "execution_count": 16,
   "id": "159b9efb50fe826",
   "metadata": {
    "ExecuteTime": {
     "end_time": "2023-08-24T03:38:24.888326700Z",
     "start_time": "2023-08-24T03:38:24.810176700Z"
    }
   },
   "outputs": [
    {
     "name": "stdout",
     "output_type": "stream",
     "text": [
      "Wall time: 62.5 ms\n",
      "DecisionTreeRegressor:    0.6050157525951557\n"
     ]
    }
   ],
   "source": [
    "# 决策回归树模型算法\n",
    "# 数据1：回归\n",
    "\n",
    "from sklearn.tree import DecisionTreeRegressor\n",
    "from sklearn.metrics import mean_squared_error\n",
    "\n",
    "clf = DecisionTreeRegressor()\n",
    "%time clf.fit(train_data, train_target)\n",
    "test_pred = clf.predict(test_data)\n",
    "score = mean_squared_error(test_target, clf.predict(test_data))\n",
    "print(\"DecisionTreeRegressor:   \", score)"
   ]
  },
  {
   "cell_type": "code",
   "execution_count": 17,
   "id": "7608e8688a4e21e3",
   "metadata": {
    "ExecuteTime": {
     "end_time": "2023-08-24T03:38:35.550659900Z",
     "start_time": "2023-08-24T03:38:30.092201600Z"
    }
   },
   "outputs": [
    {
     "name": "stdout",
     "output_type": "stream",
     "text": [
      "Wall time: 5.32 s\n",
      "RandomForestRegressor:    0.24614504410601207\n"
     ]
    }
   ],
   "source": [
    "# 随机森林回归树模型算法 (**)\n",
    "# 数据1：回归\n",
    "\n",
    "from sklearn.ensemble import RandomForestRegressor\n",
    "from sklearn.metrics import mean_squared_error\n",
    "\n",
    "clf = RandomForestRegressor(n_estimators=200) # 200棵树模型\n",
    "%time clf.fit(train_data, train_target)\n",
    "test_pred = clf.predict(test_data)\n",
    "score = mean_squared_error(test_target, clf.predict(test_data))\n",
    "print(\"RandomForestRegressor:   \", score)"
   ]
  },
  {
   "cell_type": "code",
   "execution_count": 78,
   "id": "85e1dfa678fd451c",
   "metadata": {
    "ExecuteTime": {
     "end_time": "2023-08-24T07:27:13.534662Z",
     "start_time": "2023-08-24T07:27:12.319800300Z"
    }
   },
   "outputs": [
    {
     "name": "stdout",
     "output_type": "stream",
     "text": [
      "Wall time: 1.16 s\n",
      "GradientBoostingRegressor:    0.27728686198310526\n"
     ]
    }
   ],
   "source": [
    "# GBDT模型 GradientBoostingRegressor (*)\n",
    "# 数据1：回归\n",
    "\n",
    "from sklearn.ensemble import GradientBoostingRegressor\n",
    "from sklearn.metrics import mean_squared_error\n",
    "\n",
    "clf = GradientBoostingRegressor()\n",
    "%time clf.fit(train_data, train_target)\n",
    "test_pred = clf.predict(test_data)\n",
    "score = mean_squared_error(test_target, clf.predict(test_data))\n",
    "print(\"GradientBoostingRegressor:   \", score)"
   ]
  },
  {
   "cell_type": "code",
   "execution_count": 4,
   "id": "924020dce85581ab",
   "metadata": {},
   "outputs": [
    {
     "name": "stdout",
     "output_type": "stream",
     "text": [
      "CPU times: user 2.35 s, sys: 631 ms, total: 2.98 s\n",
      "Wall time: 472 ms\n",
      "XGBRegressor:    0.26703937432297636\n"
     ]
    }
   ],
   "source": [
    "# XGB模型 XGBRegressor (**)\n",
    "# 数据1：回归\n",
    "\n",
    "from xgboost import XGBRegressor\n",
    "from sklearn.metrics import mean_squared_error\n",
    "\n",
    "clf = XGBRegressor(objective='reg:squarederror')\n",
    "%time clf.fit(train_data, train_target)\n",
    "test_pred = clf.predict(test_data)\n",
    "score = mean_squared_error(test_target, clf.predict(test_data))\n",
    "print(\"XGBRegressor:   \", score)"
   ]
  },
  {
   "cell_type": "code",
   "execution_count": 5,
   "id": "64299f69f58e06ff",
   "metadata": {
    "ExecuteTime": {
     "end_time": "2023-08-24T03:40:33.819165Z",
     "start_time": "2023-08-24T03:40:30.566932400Z"
    }
   },
   "outputs": [
    {
     "name": "stdout",
     "output_type": "stream",
     "text": [
      "CPU times: user 34.3 s, sys: 2.24 s, total: 36.5 s\n",
      "Wall time: 4.73 s\n",
      "lightGbm:    0.23134714151049274\n"
     ]
    }
   ],
   "source": [
    "# lgb回归模型 (***)\n",
    "# 数据1：回归\n",
    "# 如果pip3 install lightgbm安装有问题，则lightgbm在conda里安装\n",
    "\n",
    "from lightgbm import LGBMRegressor #lightGbm模型\n",
    "from sklearn.metrics import mean_squared_error\n",
    "clf = LGBMRegressor(\n",
    "    learning_rate=0.01,\n",
    "    max_depth=-1,\n",
    "    n_estimators=5000,\n",
    "    boosting_type='gbdt',\n",
    "    random_state=2019,\n",
    "    objective='regression',\n",
    ")\n",
    "# 训练模型\n",
    "%time clf.fit(X=train_data, y=train_target, eval_metric='MSE', verbose=50)\n",
    "score = mean_squared_error(test_target, clf.predict(test_data))\n",
    "print(\"lightGbm:   \", score)"
   ]
  },
  {
   "cell_type": "code",
   "execution_count": 11,
   "id": "32071dff",
   "metadata": {},
   "outputs": [
    {
     "name": "stdout",
     "output_type": "stream",
     "text": [
      "CPU times: user 2.15 s, sys: 39.1 ms, total: 2.19 s\n",
      "Wall time: 327 ms\n"
     ]
    },
    {
     "data": {
      "text/plain": [
       "0.926"
      ]
     },
     "execution_count": 11,
     "metadata": {},
     "output_type": "execute_result"
    }
   ],
   "source": [
    "# LR模型 LogisticRegression\n",
    "# 数据2：分类\n",
    "\n",
    "from sklearn.linear_model import LogisticRegression\n",
    "from sklearn.preprocessing import StandardScaler\n",
    "\n",
    "stdScaler = StandardScaler()\n",
    "X = stdScaler.fit_transform(train)\n",
    "# Split the data into a training set and a test set\n",
    "X_train, X_test, y_train, y_test = train_test_split(X, target, random_state=0)\n",
    "clf = LogisticRegression(random_state=0, solver='lbfgs', multi_class='multinomial')\n",
    "%time clf.fit(X_train, y_train)\n",
    "clf.score(X_test, y_test)"
   ]
  },
  {
   "cell_type": "code",
   "execution_count": 3,
   "id": "8b821b67",
   "metadata": {},
   "outputs": [
    {
     "name": "stdout",
     "output_type": "stream",
     "text": [
      "CPU times: user 981 µs, sys: 56 µs, total: 1.04 ms\n",
      "Wall time: 1.05 ms\n"
     ]
    },
    {
     "ename": "AttributeError",
     "evalue": "dlsym(0x9ade32b0, openblas_get_parallel): symbol not found",
     "output_type": "error",
     "traceback": [
      "\u001B[0;31m---------------------------------------------------------------------------\u001B[0m",
      "\u001B[0;31mAttributeError\u001B[0m                            Traceback (most recent call last)",
      "Input \u001B[0;32mIn [3]\u001B[0m, in \u001B[0;36m<cell line: 14>\u001B[0;34m()\u001B[0m\n\u001B[1;32m     12\u001B[0m clf \u001B[38;5;241m=\u001B[39m KNeighborsClassifier(n_neighbors\u001B[38;5;241m=\u001B[39m\u001B[38;5;241m3\u001B[39m)\n\u001B[1;32m     13\u001B[0m get_ipython()\u001B[38;5;241m.\u001B[39mrun_line_magic(\u001B[38;5;124m'\u001B[39m\u001B[38;5;124mtime\u001B[39m\u001B[38;5;124m'\u001B[39m, \u001B[38;5;124m'\u001B[39m\u001B[38;5;124mclf.fit(X_train, y_train)\u001B[39m\u001B[38;5;124m'\u001B[39m)\n\u001B[0;32m---> 14\u001B[0m \u001B[43mclf\u001B[49m\u001B[38;5;241;43m.\u001B[39;49m\u001B[43mscore\u001B[49m\u001B[43m(\u001B[49m\u001B[43mX_test\u001B[49m\u001B[43m,\u001B[49m\u001B[43m \u001B[49m\u001B[43my_test\u001B[49m\u001B[43m)\u001B[49m\n",
      "File \u001B[0;32m~/opt/anaconda3/lib/python3.9/site-packages/sklearn/base.py:666\u001B[0m, in \u001B[0;36mClassifierMixin.score\u001B[0;34m(self, X, y, sample_weight)\u001B[0m\n\u001B[1;32m    641\u001B[0m \u001B[38;5;124;03m\"\"\"\u001B[39;00m\n\u001B[1;32m    642\u001B[0m \u001B[38;5;124;03mReturn the mean accuracy on the given test data and labels.\u001B[39;00m\n\u001B[1;32m    643\u001B[0m \n\u001B[0;32m   (...)\u001B[0m\n\u001B[1;32m    662\u001B[0m \u001B[38;5;124;03m    Mean accuracy of ``self.predict(X)`` wrt. `y`.\u001B[39;00m\n\u001B[1;32m    663\u001B[0m \u001B[38;5;124;03m\"\"\"\u001B[39;00m\n\u001B[1;32m    664\u001B[0m \u001B[38;5;28;01mfrom\u001B[39;00m \u001B[38;5;21;01m.\u001B[39;00m\u001B[38;5;21;01mmetrics\u001B[39;00m \u001B[38;5;28;01mimport\u001B[39;00m accuracy_score\n\u001B[0;32m--> 666\u001B[0m \u001B[38;5;28;01mreturn\u001B[39;00m accuracy_score(y, \u001B[38;5;28;43mself\u001B[39;49m\u001B[38;5;241;43m.\u001B[39;49m\u001B[43mpredict\u001B[49m\u001B[43m(\u001B[49m\u001B[43mX\u001B[49m\u001B[43m)\u001B[49m, sample_weight\u001B[38;5;241m=\u001B[39msample_weight)\n",
      "File \u001B[0;32m~/opt/anaconda3/lib/python3.9/site-packages/sklearn/neighbors/_classification.py:219\u001B[0m, in \u001B[0;36mKNeighborsClassifier.predict\u001B[0;34m(self, X)\u001B[0m\n\u001B[1;32m    203\u001B[0m \u001B[38;5;124;03m\"\"\"Predict the class labels for the provided data.\u001B[39;00m\n\u001B[1;32m    204\u001B[0m \n\u001B[1;32m    205\u001B[0m \u001B[38;5;124;03mParameters\u001B[39;00m\n\u001B[0;32m   (...)\u001B[0m\n\u001B[1;32m    214\u001B[0m \u001B[38;5;124;03m    Class labels for each data sample.\u001B[39;00m\n\u001B[1;32m    215\u001B[0m \u001B[38;5;124;03m\"\"\"\u001B[39;00m\n\u001B[1;32m    216\u001B[0m \u001B[38;5;28;01mif\u001B[39;00m \u001B[38;5;28mself\u001B[39m\u001B[38;5;241m.\u001B[39mweights \u001B[38;5;241m==\u001B[39m \u001B[38;5;124m\"\u001B[39m\u001B[38;5;124muniform\u001B[39m\u001B[38;5;124m\"\u001B[39m:\n\u001B[1;32m    217\u001B[0m     \u001B[38;5;66;03m# In that case, we do not need the distances to perform\u001B[39;00m\n\u001B[1;32m    218\u001B[0m     \u001B[38;5;66;03m# the weighting so we do not compute them.\u001B[39;00m\n\u001B[0;32m--> 219\u001B[0m     neigh_ind \u001B[38;5;241m=\u001B[39m \u001B[38;5;28;43mself\u001B[39;49m\u001B[38;5;241;43m.\u001B[39;49m\u001B[43mkneighbors\u001B[49m\u001B[43m(\u001B[49m\u001B[43mX\u001B[49m\u001B[43m,\u001B[49m\u001B[43m \u001B[49m\u001B[43mreturn_distance\u001B[49m\u001B[38;5;241;43m=\u001B[39;49m\u001B[38;5;28;43;01mFalse\u001B[39;49;00m\u001B[43m)\u001B[49m\n\u001B[1;32m    220\u001B[0m     neigh_dist \u001B[38;5;241m=\u001B[39m \u001B[38;5;28;01mNone\u001B[39;00m\n\u001B[1;32m    221\u001B[0m \u001B[38;5;28;01melse\u001B[39;00m:\n",
      "File \u001B[0;32m~/opt/anaconda3/lib/python3.9/site-packages/sklearn/neighbors/_base.py:763\u001B[0m, in \u001B[0;36mKNeighborsMixin.kneighbors\u001B[0;34m(self, X, n_neighbors, return_distance)\u001B[0m\n\u001B[1;32m    756\u001B[0m use_pairwise_distances_reductions \u001B[38;5;241m=\u001B[39m (\n\u001B[1;32m    757\u001B[0m     \u001B[38;5;28mself\u001B[39m\u001B[38;5;241m.\u001B[39m_fit_method \u001B[38;5;241m==\u001B[39m \u001B[38;5;124m\"\u001B[39m\u001B[38;5;124mbrute\u001B[39m\u001B[38;5;124m\"\u001B[39m\n\u001B[1;32m    758\u001B[0m     \u001B[38;5;129;01mand\u001B[39;00m PairwiseDistancesArgKmin\u001B[38;5;241m.\u001B[39mis_usable_for(\n\u001B[1;32m    759\u001B[0m         X \u001B[38;5;28;01mif\u001B[39;00m X \u001B[38;5;129;01mis\u001B[39;00m \u001B[38;5;129;01mnot\u001B[39;00m \u001B[38;5;28;01mNone\u001B[39;00m \u001B[38;5;28;01melse\u001B[39;00m \u001B[38;5;28mself\u001B[39m\u001B[38;5;241m.\u001B[39m_fit_X, \u001B[38;5;28mself\u001B[39m\u001B[38;5;241m.\u001B[39m_fit_X, \u001B[38;5;28mself\u001B[39m\u001B[38;5;241m.\u001B[39meffective_metric_\n\u001B[1;32m    760\u001B[0m     )\n\u001B[1;32m    761\u001B[0m )\n\u001B[1;32m    762\u001B[0m \u001B[38;5;28;01mif\u001B[39;00m use_pairwise_distances_reductions:\n\u001B[0;32m--> 763\u001B[0m     results \u001B[38;5;241m=\u001B[39m \u001B[43mPairwiseDistancesArgKmin\u001B[49m\u001B[38;5;241;43m.\u001B[39;49m\u001B[43mcompute\u001B[49m\u001B[43m(\u001B[49m\n\u001B[1;32m    764\u001B[0m \u001B[43m        \u001B[49m\u001B[43mX\u001B[49m\u001B[38;5;241;43m=\u001B[39;49m\u001B[43mX\u001B[49m\u001B[43m,\u001B[49m\n\u001B[1;32m    765\u001B[0m \u001B[43m        \u001B[49m\u001B[43mY\u001B[49m\u001B[38;5;241;43m=\u001B[39;49m\u001B[38;5;28;43mself\u001B[39;49m\u001B[38;5;241;43m.\u001B[39;49m\u001B[43m_fit_X\u001B[49m\u001B[43m,\u001B[49m\n\u001B[1;32m    766\u001B[0m \u001B[43m        \u001B[49m\u001B[43mk\u001B[49m\u001B[38;5;241;43m=\u001B[39;49m\u001B[43mn_neighbors\u001B[49m\u001B[43m,\u001B[49m\n\u001B[1;32m    767\u001B[0m \u001B[43m        \u001B[49m\u001B[43mmetric\u001B[49m\u001B[38;5;241;43m=\u001B[39;49m\u001B[38;5;28;43mself\u001B[39;49m\u001B[38;5;241;43m.\u001B[39;49m\u001B[43meffective_metric_\u001B[49m\u001B[43m,\u001B[49m\n\u001B[1;32m    768\u001B[0m \u001B[43m        \u001B[49m\u001B[43mmetric_kwargs\u001B[49m\u001B[38;5;241;43m=\u001B[39;49m\u001B[38;5;28;43mself\u001B[39;49m\u001B[38;5;241;43m.\u001B[39;49m\u001B[43meffective_metric_params_\u001B[49m\u001B[43m,\u001B[49m\n\u001B[1;32m    769\u001B[0m \u001B[43m        \u001B[49m\u001B[43mstrategy\u001B[49m\u001B[38;5;241;43m=\u001B[39;49m\u001B[38;5;124;43m\"\u001B[39;49m\u001B[38;5;124;43mauto\u001B[39;49m\u001B[38;5;124;43m\"\u001B[39;49m\u001B[43m,\u001B[49m\n\u001B[1;32m    770\u001B[0m \u001B[43m        \u001B[49m\u001B[43mreturn_distance\u001B[49m\u001B[38;5;241;43m=\u001B[39;49m\u001B[43mreturn_distance\u001B[49m\u001B[43m,\u001B[49m\n\u001B[1;32m    771\u001B[0m \u001B[43m    \u001B[49m\u001B[43m)\u001B[49m\n\u001B[1;32m    773\u001B[0m \u001B[38;5;28;01melif\u001B[39;00m (\n\u001B[1;32m    774\u001B[0m     \u001B[38;5;28mself\u001B[39m\u001B[38;5;241m.\u001B[39m_fit_method \u001B[38;5;241m==\u001B[39m \u001B[38;5;124m\"\u001B[39m\u001B[38;5;124mbrute\u001B[39m\u001B[38;5;124m\"\u001B[39m \u001B[38;5;129;01mand\u001B[39;00m \u001B[38;5;28mself\u001B[39m\u001B[38;5;241m.\u001B[39mmetric \u001B[38;5;241m==\u001B[39m \u001B[38;5;124m\"\u001B[39m\u001B[38;5;124mprecomputed\u001B[39m\u001B[38;5;124m\"\u001B[39m \u001B[38;5;129;01mand\u001B[39;00m issparse(X)\n\u001B[1;32m    775\u001B[0m ):\n\u001B[1;32m    776\u001B[0m     results \u001B[38;5;241m=\u001B[39m _kneighbors_from_graph(\n\u001B[1;32m    777\u001B[0m         X, n_neighbors\u001B[38;5;241m=\u001B[39mn_neighbors, return_distance\u001B[38;5;241m=\u001B[39mreturn_distance\n\u001B[1;32m    778\u001B[0m     )\n",
      "File \u001B[0;32msklearn/metrics/_pairwise_distances_reduction.pyx:691\u001B[0m, in \u001B[0;36msklearn.metrics._pairwise_distances_reduction.PairwiseDistancesArgKmin.compute\u001B[0;34m()\u001B[0m\n",
      "File \u001B[0;32m~/opt/anaconda3/lib/python3.9/site-packages/sklearn/utils/fixes.py:151\u001B[0m, in \u001B[0;36mthreadpool_limits\u001B[0;34m(limits, user_api)\u001B[0m\n\u001B[1;32m    149\u001B[0m     \u001B[38;5;28;01mreturn\u001B[39;00m controller\u001B[38;5;241m.\u001B[39mlimit(limits\u001B[38;5;241m=\u001B[39mlimits, user_api\u001B[38;5;241m=\u001B[39muser_api)\n\u001B[1;32m    150\u001B[0m \u001B[38;5;28;01melse\u001B[39;00m:\n\u001B[0;32m--> 151\u001B[0m     \u001B[38;5;28;01mreturn\u001B[39;00m \u001B[43mthreadpoolctl\u001B[49m\u001B[38;5;241;43m.\u001B[39;49m\u001B[43mthreadpool_limits\u001B[49m\u001B[43m(\u001B[49m\u001B[43mlimits\u001B[49m\u001B[38;5;241;43m=\u001B[39;49m\u001B[43mlimits\u001B[49m\u001B[43m,\u001B[49m\u001B[43m \u001B[49m\u001B[43muser_api\u001B[49m\u001B[38;5;241;43m=\u001B[39;49m\u001B[43muser_api\u001B[49m\u001B[43m)\u001B[49m\n",
      "File \u001B[0;32m~/opt/anaconda3/lib/python3.9/site-packages/threadpoolctl.py:171\u001B[0m, in \u001B[0;36mthreadpool_limits.__init__\u001B[0;34m(self, limits, user_api)\u001B[0m\n\u001B[1;32m    167\u001B[0m \u001B[38;5;28;01mdef\u001B[39;00m \u001B[38;5;21m__init__\u001B[39m(\u001B[38;5;28mself\u001B[39m, limits\u001B[38;5;241m=\u001B[39m\u001B[38;5;28;01mNone\u001B[39;00m, user_api\u001B[38;5;241m=\u001B[39m\u001B[38;5;28;01mNone\u001B[39;00m):\n\u001B[1;32m    168\u001B[0m     \u001B[38;5;28mself\u001B[39m\u001B[38;5;241m.\u001B[39m_limits, \u001B[38;5;28mself\u001B[39m\u001B[38;5;241m.\u001B[39m_user_api, \u001B[38;5;28mself\u001B[39m\u001B[38;5;241m.\u001B[39m_prefixes \u001B[38;5;241m=\u001B[39m \\\n\u001B[1;32m    169\u001B[0m         \u001B[38;5;28mself\u001B[39m\u001B[38;5;241m.\u001B[39m_check_params(limits, user_api)\n\u001B[0;32m--> 171\u001B[0m     \u001B[38;5;28mself\u001B[39m\u001B[38;5;241m.\u001B[39m_original_info \u001B[38;5;241m=\u001B[39m \u001B[38;5;28;43mself\u001B[39;49m\u001B[38;5;241;43m.\u001B[39;49m\u001B[43m_set_threadpool_limits\u001B[49m\u001B[43m(\u001B[49m\u001B[43m)\u001B[49m\n",
      "File \u001B[0;32m~/opt/anaconda3/lib/python3.9/site-packages/threadpoolctl.py:268\u001B[0m, in \u001B[0;36mthreadpool_limits._set_threadpool_limits\u001B[0;34m(self)\u001B[0m\n\u001B[1;32m    265\u001B[0m \u001B[38;5;28;01mif\u001B[39;00m \u001B[38;5;28mself\u001B[39m\u001B[38;5;241m.\u001B[39m_limits \u001B[38;5;129;01mis\u001B[39;00m \u001B[38;5;28;01mNone\u001B[39;00m:\n\u001B[1;32m    266\u001B[0m     \u001B[38;5;28;01mreturn\u001B[39;00m \u001B[38;5;28;01mNone\u001B[39;00m\n\u001B[0;32m--> 268\u001B[0m modules \u001B[38;5;241m=\u001B[39m \u001B[43m_ThreadpoolInfo\u001B[49m\u001B[43m(\u001B[49m\u001B[43mprefixes\u001B[49m\u001B[38;5;241;43m=\u001B[39;49m\u001B[38;5;28;43mself\u001B[39;49m\u001B[38;5;241;43m.\u001B[39;49m\u001B[43m_prefixes\u001B[49m\u001B[43m,\u001B[49m\n\u001B[1;32m    269\u001B[0m \u001B[43m                          \u001B[49m\u001B[43muser_api\u001B[49m\u001B[38;5;241;43m=\u001B[39;49m\u001B[38;5;28;43mself\u001B[39;49m\u001B[38;5;241;43m.\u001B[39;49m\u001B[43m_user_api\u001B[49m\u001B[43m)\u001B[49m\n\u001B[1;32m    270\u001B[0m \u001B[38;5;28;01mfor\u001B[39;00m module \u001B[38;5;129;01min\u001B[39;00m modules:\n\u001B[1;32m    271\u001B[0m     \u001B[38;5;66;03m# self._limits is a dict {key: num_threads} where key is either\u001B[39;00m\n\u001B[1;32m    272\u001B[0m     \u001B[38;5;66;03m# a prefix or a user_api. If a module matches both, the limit\u001B[39;00m\n\u001B[1;32m    273\u001B[0m     \u001B[38;5;66;03m# corresponding to the prefix is chosed.\u001B[39;00m\n\u001B[1;32m    274\u001B[0m     \u001B[38;5;28;01mif\u001B[39;00m module\u001B[38;5;241m.\u001B[39mprefix \u001B[38;5;129;01min\u001B[39;00m \u001B[38;5;28mself\u001B[39m\u001B[38;5;241m.\u001B[39m_limits:\n",
      "File \u001B[0;32m~/opt/anaconda3/lib/python3.9/site-packages/threadpoolctl.py:340\u001B[0m, in \u001B[0;36m_ThreadpoolInfo.__init__\u001B[0;34m(self, user_api, prefixes, modules)\u001B[0m\n\u001B[1;32m    337\u001B[0m     \u001B[38;5;28mself\u001B[39m\u001B[38;5;241m.\u001B[39muser_api \u001B[38;5;241m=\u001B[39m [] \u001B[38;5;28;01mif\u001B[39;00m user_api \u001B[38;5;129;01mis\u001B[39;00m \u001B[38;5;28;01mNone\u001B[39;00m \u001B[38;5;28;01melse\u001B[39;00m user_api\n\u001B[1;32m    339\u001B[0m     \u001B[38;5;28mself\u001B[39m\u001B[38;5;241m.\u001B[39mmodules \u001B[38;5;241m=\u001B[39m []\n\u001B[0;32m--> 340\u001B[0m     \u001B[38;5;28;43mself\u001B[39;49m\u001B[38;5;241;43m.\u001B[39;49m\u001B[43m_load_modules\u001B[49m\u001B[43m(\u001B[49m\u001B[43m)\u001B[49m\n\u001B[1;32m    341\u001B[0m     \u001B[38;5;28mself\u001B[39m\u001B[38;5;241m.\u001B[39m_warn_if_incompatible_openmp()\n\u001B[1;32m    342\u001B[0m \u001B[38;5;28;01melse\u001B[39;00m:\n",
      "File \u001B[0;32m~/opt/anaconda3/lib/python3.9/site-packages/threadpoolctl.py:371\u001B[0m, in \u001B[0;36m_ThreadpoolInfo._load_modules\u001B[0;34m(self)\u001B[0m\n\u001B[1;32m    369\u001B[0m \u001B[38;5;124;03m\"\"\"Loop through loaded libraries and store supported ones\"\"\"\u001B[39;00m\n\u001B[1;32m    370\u001B[0m \u001B[38;5;28;01mif\u001B[39;00m sys\u001B[38;5;241m.\u001B[39mplatform \u001B[38;5;241m==\u001B[39m \u001B[38;5;124m\"\u001B[39m\u001B[38;5;124mdarwin\u001B[39m\u001B[38;5;124m\"\u001B[39m:\n\u001B[0;32m--> 371\u001B[0m     \u001B[38;5;28;43mself\u001B[39;49m\u001B[38;5;241;43m.\u001B[39;49m\u001B[43m_find_modules_with_dyld\u001B[49m\u001B[43m(\u001B[49m\u001B[43m)\u001B[49m\n\u001B[1;32m    372\u001B[0m \u001B[38;5;28;01melif\u001B[39;00m sys\u001B[38;5;241m.\u001B[39mplatform \u001B[38;5;241m==\u001B[39m \u001B[38;5;124m\"\u001B[39m\u001B[38;5;124mwin32\u001B[39m\u001B[38;5;124m\"\u001B[39m:\n\u001B[1;32m    373\u001B[0m     \u001B[38;5;28mself\u001B[39m\u001B[38;5;241m.\u001B[39m_find_modules_with_enum_process_module_ex()\n",
      "File \u001B[0;32m~/opt/anaconda3/lib/python3.9/site-packages/threadpoolctl.py:428\u001B[0m, in \u001B[0;36m_ThreadpoolInfo._find_modules_with_dyld\u001B[0;34m(self)\u001B[0m\n\u001B[1;32m    425\u001B[0m filepath \u001B[38;5;241m=\u001B[39m filepath\u001B[38;5;241m.\u001B[39mdecode(\u001B[38;5;124m\"\u001B[39m\u001B[38;5;124mutf-8\u001B[39m\u001B[38;5;124m\"\u001B[39m)\n\u001B[1;32m    427\u001B[0m \u001B[38;5;66;03m# Store the module if it is supported and selected\u001B[39;00m\n\u001B[0;32m--> 428\u001B[0m \u001B[38;5;28;43mself\u001B[39;49m\u001B[38;5;241;43m.\u001B[39;49m\u001B[43m_make_module_from_path\u001B[49m\u001B[43m(\u001B[49m\u001B[43mfilepath\u001B[49m\u001B[43m)\u001B[49m\n",
      "File \u001B[0;32m~/opt/anaconda3/lib/python3.9/site-packages/threadpoolctl.py:515\u001B[0m, in \u001B[0;36m_ThreadpoolInfo._make_module_from_path\u001B[0;34m(self, filepath)\u001B[0m\n\u001B[1;32m    513\u001B[0m \u001B[38;5;28;01mif\u001B[39;00m prefix \u001B[38;5;129;01min\u001B[39;00m \u001B[38;5;28mself\u001B[39m\u001B[38;5;241m.\u001B[39mprefixes \u001B[38;5;129;01mor\u001B[39;00m user_api \u001B[38;5;129;01min\u001B[39;00m \u001B[38;5;28mself\u001B[39m\u001B[38;5;241m.\u001B[39muser_api:\n\u001B[1;32m    514\u001B[0m     module_class \u001B[38;5;241m=\u001B[39m \u001B[38;5;28mglobals\u001B[39m()[module_class]\n\u001B[0;32m--> 515\u001B[0m     module \u001B[38;5;241m=\u001B[39m \u001B[43mmodule_class\u001B[49m\u001B[43m(\u001B[49m\u001B[43mfilepath\u001B[49m\u001B[43m,\u001B[49m\u001B[43m \u001B[49m\u001B[43mprefix\u001B[49m\u001B[43m,\u001B[49m\u001B[43m \u001B[49m\u001B[43muser_api\u001B[49m\u001B[43m,\u001B[49m\u001B[43m \u001B[49m\u001B[43minternal_api\u001B[49m\u001B[43m)\u001B[49m\n\u001B[1;32m    516\u001B[0m     \u001B[38;5;28mself\u001B[39m\u001B[38;5;241m.\u001B[39mmodules\u001B[38;5;241m.\u001B[39mappend(module)\n",
      "File \u001B[0;32m~/opt/anaconda3/lib/python3.9/site-packages/threadpoolctl.py:608\u001B[0m, in \u001B[0;36m_Module.__init__\u001B[0;34m(self, filepath, prefix, user_api, internal_api)\u001B[0m\n\u001B[1;32m    606\u001B[0m \u001B[38;5;28mself\u001B[39m\u001B[38;5;241m.\u001B[39mversion \u001B[38;5;241m=\u001B[39m \u001B[38;5;28mself\u001B[39m\u001B[38;5;241m.\u001B[39mget_version()\n\u001B[1;32m    607\u001B[0m \u001B[38;5;28mself\u001B[39m\u001B[38;5;241m.\u001B[39mnum_threads \u001B[38;5;241m=\u001B[39m \u001B[38;5;28mself\u001B[39m\u001B[38;5;241m.\u001B[39mget_num_threads()\n\u001B[0;32m--> 608\u001B[0m \u001B[38;5;28;43mself\u001B[39;49m\u001B[38;5;241;43m.\u001B[39;49m\u001B[43m_get_extra_info\u001B[49m\u001B[43m(\u001B[49m\u001B[43m)\u001B[49m\n",
      "File \u001B[0;32m~/opt/anaconda3/lib/python3.9/site-packages/threadpoolctl.py:662\u001B[0m, in \u001B[0;36m_OpenBLASModule._get_extra_info\u001B[0;34m(self)\u001B[0m\n\u001B[1;32m    661\u001B[0m \u001B[38;5;28;01mdef\u001B[39;00m \u001B[38;5;21m_get_extra_info\u001B[39m(\u001B[38;5;28mself\u001B[39m):\n\u001B[0;32m--> 662\u001B[0m     \u001B[38;5;28mself\u001B[39m\u001B[38;5;241m.\u001B[39mthreading_layer \u001B[38;5;241m=\u001B[39m \u001B[38;5;28;43mself\u001B[39;49m\u001B[38;5;241;43m.\u001B[39;49m\u001B[43mget_threading_layer\u001B[49m\u001B[43m(\u001B[49m\u001B[43m)\u001B[49m\n\u001B[1;32m    663\u001B[0m     \u001B[38;5;28mself\u001B[39m\u001B[38;5;241m.\u001B[39marchitecture \u001B[38;5;241m=\u001B[39m \u001B[38;5;28mself\u001B[39m\u001B[38;5;241m.\u001B[39mget_architecture()\n",
      "File \u001B[0;32m~/opt/anaconda3/lib/python3.9/site-packages/threadpoolctl.py:667\u001B[0m, in \u001B[0;36m_OpenBLASModule.get_threading_layer\u001B[0;34m(self)\u001B[0m\n\u001B[1;32m    665\u001B[0m \u001B[38;5;28;01mdef\u001B[39;00m \u001B[38;5;21mget_threading_layer\u001B[39m(\u001B[38;5;28mself\u001B[39m):\n\u001B[1;32m    666\u001B[0m     \u001B[38;5;124;03m\"\"\"Return the threading layer of OpenBLAS\"\"\"\u001B[39;00m\n\u001B[0;32m--> 667\u001B[0m     threading_layer \u001B[38;5;241m=\u001B[39m \u001B[38;5;28;43mself\u001B[39;49m\u001B[38;5;241;43m.\u001B[39;49m\u001B[43m_dynlib\u001B[49m\u001B[38;5;241;43m.\u001B[39;49m\u001B[43mopenblas_get_parallel\u001B[49m()\n\u001B[1;32m    668\u001B[0m     \u001B[38;5;28;01mif\u001B[39;00m threading_layer \u001B[38;5;241m==\u001B[39m \u001B[38;5;241m2\u001B[39m:\n\u001B[1;32m    669\u001B[0m         \u001B[38;5;28;01mreturn\u001B[39;00m \u001B[38;5;124m\"\u001B[39m\u001B[38;5;124mopenmp\u001B[39m\u001B[38;5;124m\"\u001B[39m\n",
      "File \u001B[0;32m~/opt/anaconda3/lib/python3.9/ctypes/__init__.py:395\u001B[0m, in \u001B[0;36mCDLL.__getattr__\u001B[0;34m(self, name)\u001B[0m\n\u001B[1;32m    393\u001B[0m \u001B[38;5;28;01mif\u001B[39;00m name\u001B[38;5;241m.\u001B[39mstartswith(\u001B[38;5;124m'\u001B[39m\u001B[38;5;124m__\u001B[39m\u001B[38;5;124m'\u001B[39m) \u001B[38;5;129;01mand\u001B[39;00m name\u001B[38;5;241m.\u001B[39mendswith(\u001B[38;5;124m'\u001B[39m\u001B[38;5;124m__\u001B[39m\u001B[38;5;124m'\u001B[39m):\n\u001B[1;32m    394\u001B[0m     \u001B[38;5;28;01mraise\u001B[39;00m \u001B[38;5;167;01mAttributeError\u001B[39;00m(name)\n\u001B[0;32m--> 395\u001B[0m func \u001B[38;5;241m=\u001B[39m \u001B[38;5;28;43mself\u001B[39;49m\u001B[38;5;241;43m.\u001B[39;49m\u001B[38;5;21;43m__getitem__\u001B[39;49m\u001B[43m(\u001B[49m\u001B[43mname\u001B[49m\u001B[43m)\u001B[49m\n\u001B[1;32m    396\u001B[0m \u001B[38;5;28msetattr\u001B[39m(\u001B[38;5;28mself\u001B[39m, name, func)\n\u001B[1;32m    397\u001B[0m \u001B[38;5;28;01mreturn\u001B[39;00m func\n",
      "File \u001B[0;32m~/opt/anaconda3/lib/python3.9/ctypes/__init__.py:400\u001B[0m, in \u001B[0;36mCDLL.__getitem__\u001B[0;34m(self, name_or_ordinal)\u001B[0m\n\u001B[1;32m    399\u001B[0m \u001B[38;5;28;01mdef\u001B[39;00m \u001B[38;5;21m__getitem__\u001B[39m(\u001B[38;5;28mself\u001B[39m, name_or_ordinal):\n\u001B[0;32m--> 400\u001B[0m     func \u001B[38;5;241m=\u001B[39m \u001B[38;5;28;43mself\u001B[39;49m\u001B[38;5;241;43m.\u001B[39;49m\u001B[43m_FuncPtr\u001B[49m\u001B[43m(\u001B[49m\u001B[43m(\u001B[49m\u001B[43mname_or_ordinal\u001B[49m\u001B[43m,\u001B[49m\u001B[43m \u001B[49m\u001B[38;5;28;43mself\u001B[39;49m\u001B[43m)\u001B[49m\u001B[43m)\u001B[49m\n\u001B[1;32m    401\u001B[0m     \u001B[38;5;28;01mif\u001B[39;00m \u001B[38;5;129;01mnot\u001B[39;00m \u001B[38;5;28misinstance\u001B[39m(name_or_ordinal, \u001B[38;5;28mint\u001B[39m):\n\u001B[1;32m    402\u001B[0m         func\u001B[38;5;241m.\u001B[39m\u001B[38;5;18m__name__\u001B[39m \u001B[38;5;241m=\u001B[39m name_or_ordinal\n",
      "\u001B[0;31mAttributeError\u001B[0m: dlsym(0x9ade32b0, openblas_get_parallel): symbol not found"
     ]
    }
   ],
   "source": [
    "# KNN模型 KNeighborsClassifier\n",
    "# 数据2：分类\n",
    "\n",
    "from sklearn.neighbors import KNeighborsClassifier\n",
    "from sklearn.metrics import mean_squared_error\n",
    "from sklearn.preprocessing import StandardScaler\n",
    "\n",
    "stdScaler = StandardScaler()\n",
    "X = stdScaler.fit_transform(train)\n",
    "# Split the data into a training set and a test set\n",
    "X_train, X_test, y_train, y_test = train_test_split(X, target, random_state=0)\n",
    "clf = KNeighborsClassifier(n_neighbors=3)\n",
    "%time clf.fit(X_train, y_train)\n",
    "clf.score(X_test, y_test)"
   ]
  },
  {
   "cell_type": "code",
   "execution_count": 5,
   "id": "27a34ad0",
   "metadata": {},
   "outputs": [
    {
     "name": "stdout",
     "output_type": "stream",
     "text": [
      "CPU times: user 3.79 ms, sys: 1.55 ms, total: 5.33 ms\n",
      "Wall time: 5.37 ms\n"
     ]
    },
    {
     "data": {
      "text/plain": [
       "0.424"
      ]
     },
     "execution_count": 5,
     "metadata": {},
     "output_type": "execute_result"
    }
   ],
   "source": [
    "# NB模型 GaussianNB\n",
    "# 数据2：分类\n",
    "\n",
    "from sklearn.naive_bayes import GaussianNB\n",
    "from sklearn.preprocessing import StandardScaler\n",
    "stdScaler = StandardScaler()\n",
    "X = stdScaler.fit_transform(train)\n",
    "# Split the data into a training set and a test set\n",
    "X_train, X_test, y_train, y_test = train_test_split(X, target, random_state=0)\n",
    "%time clf = GaussianNB().fit(X_train, y_train)\n",
    "clf.score(X_test, y_test)"
   ]
  },
  {
   "cell_type": "code",
   "execution_count": 7,
   "id": "ebeb61f4",
   "metadata": {},
   "outputs": [
    {
     "name": "stdout",
     "output_type": "stream",
     "text": [
      "CPU times: user 77.9 ms, sys: 400 µs, total: 78.3 ms\n",
      "Wall time: 78.6 ms\n"
     ]
    },
    {
     "data": {
      "text/plain": [
       "0.864"
      ]
     },
     "execution_count": 7,
     "metadata": {},
     "output_type": "execute_result"
    }
   ],
   "source": [
    "# 树模型 tree\n",
    "# 数据2：分类\n",
    "\n",
    "from sklearn import tree\n",
    "# Split the data into a training set and a test set\n",
    "X_train, X_test, y_train, y_test = train_test_split(train, target, random_state=0)\n",
    "clf = tree.DecisionTreeClassifier()\n",
    "%time clf = clf.fit(X_train, y_train)\n",
    "clf.score(X_test, y_test)"
   ]
  },
  {
   "cell_type": "code",
   "execution_count": 9,
   "id": "10dc8f2f",
   "metadata": {},
   "outputs": [
    {
     "name": "stdout",
     "output_type": "stream",
     "text": [
      "CPU times: user 14.7 ms, sys: 1.18 ms, total: 15.9 ms\n",
      "Wall time: 15.9 ms\n"
     ]
    },
    {
     "ename": "AttributeError",
     "evalue": "dlsym(0x9ade32b0, openblas_get_parallel): symbol not found",
     "output_type": "error",
     "traceback": [
      "\u001B[0;31m---------------------------------------------------------------------------\u001B[0m",
      "\u001B[0;31mAttributeError\u001B[0m                            Traceback (most recent call last)",
      "Input \u001B[0;32mIn [9]\u001B[0m, in \u001B[0;36m<cell line: 10>\u001B[0;34m()\u001B[0m\n\u001B[1;32m      8\u001B[0m clf \u001B[38;5;241m=\u001B[39m BaggingClassifier(KNeighborsClassifier(), max_samples\u001B[38;5;241m=\u001B[39m\u001B[38;5;241m0.5\u001B[39m, max_features\u001B[38;5;241m=\u001B[39m\u001B[38;5;241m0.5\u001B[39m)\n\u001B[1;32m      9\u001B[0m get_ipython()\u001B[38;5;241m.\u001B[39mrun_line_magic(\u001B[38;5;124m'\u001B[39m\u001B[38;5;124mtime\u001B[39m\u001B[38;5;124m'\u001B[39m, \u001B[38;5;124m'\u001B[39m\u001B[38;5;124mclf = clf.fit(X_train, y_train)\u001B[39m\u001B[38;5;124m'\u001B[39m)\n\u001B[0;32m---> 10\u001B[0m \u001B[43mclf\u001B[49m\u001B[38;5;241;43m.\u001B[39;49m\u001B[43mscore\u001B[49m\u001B[43m(\u001B[49m\u001B[43mX_test\u001B[49m\u001B[43m,\u001B[49m\u001B[43m \u001B[49m\u001B[43my_test\u001B[49m\u001B[43m)\u001B[49m\n",
      "File \u001B[0;32m~/opt/anaconda3/lib/python3.9/site-packages/sklearn/base.py:666\u001B[0m, in \u001B[0;36mClassifierMixin.score\u001B[0;34m(self, X, y, sample_weight)\u001B[0m\n\u001B[1;32m    641\u001B[0m \u001B[38;5;124;03m\"\"\"\u001B[39;00m\n\u001B[1;32m    642\u001B[0m \u001B[38;5;124;03mReturn the mean accuracy on the given test data and labels.\u001B[39;00m\n\u001B[1;32m    643\u001B[0m \n\u001B[0;32m   (...)\u001B[0m\n\u001B[1;32m    662\u001B[0m \u001B[38;5;124;03m    Mean accuracy of ``self.predict(X)`` wrt. `y`.\u001B[39;00m\n\u001B[1;32m    663\u001B[0m \u001B[38;5;124;03m\"\"\"\u001B[39;00m\n\u001B[1;32m    664\u001B[0m \u001B[38;5;28;01mfrom\u001B[39;00m \u001B[38;5;21;01m.\u001B[39;00m\u001B[38;5;21;01mmetrics\u001B[39;00m \u001B[38;5;28;01mimport\u001B[39;00m accuracy_score\n\u001B[0;32m--> 666\u001B[0m \u001B[38;5;28;01mreturn\u001B[39;00m accuracy_score(y, \u001B[38;5;28;43mself\u001B[39;49m\u001B[38;5;241;43m.\u001B[39;49m\u001B[43mpredict\u001B[49m\u001B[43m(\u001B[49m\u001B[43mX\u001B[49m\u001B[43m)\u001B[49m, sample_weight\u001B[38;5;241m=\u001B[39msample_weight)\n",
      "File \u001B[0;32m~/opt/anaconda3/lib/python3.9/site-packages/sklearn/ensemble/_bagging.py:785\u001B[0m, in \u001B[0;36mBaggingClassifier.predict\u001B[0;34m(self, X)\u001B[0m\n\u001B[1;32m    767\u001B[0m \u001B[38;5;28;01mdef\u001B[39;00m \u001B[38;5;21mpredict\u001B[39m(\u001B[38;5;28mself\u001B[39m, X):\n\u001B[1;32m    768\u001B[0m     \u001B[38;5;124;03m\"\"\"Predict class for X.\u001B[39;00m\n\u001B[1;32m    769\u001B[0m \n\u001B[1;32m    770\u001B[0m \u001B[38;5;124;03m    The predicted class of an input sample is computed as the class with\u001B[39;00m\n\u001B[0;32m   (...)\u001B[0m\n\u001B[1;32m    783\u001B[0m \u001B[38;5;124;03m        The predicted classes.\u001B[39;00m\n\u001B[1;32m    784\u001B[0m \u001B[38;5;124;03m    \"\"\"\u001B[39;00m\n\u001B[0;32m--> 785\u001B[0m     predicted_probabilitiy \u001B[38;5;241m=\u001B[39m \u001B[38;5;28;43mself\u001B[39;49m\u001B[38;5;241;43m.\u001B[39;49m\u001B[43mpredict_proba\u001B[49m\u001B[43m(\u001B[49m\u001B[43mX\u001B[49m\u001B[43m)\u001B[49m\n\u001B[1;32m    786\u001B[0m     \u001B[38;5;28;01mreturn\u001B[39;00m \u001B[38;5;28mself\u001B[39m\u001B[38;5;241m.\u001B[39mclasses_\u001B[38;5;241m.\u001B[39mtake((np\u001B[38;5;241m.\u001B[39margmax(predicted_probabilitiy, axis\u001B[38;5;241m=\u001B[39m\u001B[38;5;241m1\u001B[39m)), axis\u001B[38;5;241m=\u001B[39m\u001B[38;5;241m0\u001B[39m)\n",
      "File \u001B[0;32m~/opt/anaconda3/lib/python3.9/site-packages/sklearn/ensemble/_bagging.py:825\u001B[0m, in \u001B[0;36mBaggingClassifier.predict_proba\u001B[0;34m(self, X)\u001B[0m\n\u001B[1;32m    820\u001B[0m \u001B[38;5;66;03m# Parallel loop\u001B[39;00m\n\u001B[1;32m    821\u001B[0m n_jobs, n_estimators, starts \u001B[38;5;241m=\u001B[39m _partition_estimators(\n\u001B[1;32m    822\u001B[0m     \u001B[38;5;28mself\u001B[39m\u001B[38;5;241m.\u001B[39mn_estimators, \u001B[38;5;28mself\u001B[39m\u001B[38;5;241m.\u001B[39mn_jobs\n\u001B[1;32m    823\u001B[0m )\n\u001B[0;32m--> 825\u001B[0m all_proba \u001B[38;5;241m=\u001B[39m \u001B[43mParallel\u001B[49m\u001B[43m(\u001B[49m\n\u001B[1;32m    826\u001B[0m \u001B[43m    \u001B[49m\u001B[43mn_jobs\u001B[49m\u001B[38;5;241;43m=\u001B[39;49m\u001B[43mn_jobs\u001B[49m\u001B[43m,\u001B[49m\u001B[43m \u001B[49m\u001B[43mverbose\u001B[49m\u001B[38;5;241;43m=\u001B[39;49m\u001B[38;5;28;43mself\u001B[39;49m\u001B[38;5;241;43m.\u001B[39;49m\u001B[43mverbose\u001B[49m\u001B[43m,\u001B[49m\u001B[43m \u001B[49m\u001B[38;5;241;43m*\u001B[39;49m\u001B[38;5;241;43m*\u001B[39;49m\u001B[38;5;28;43mself\u001B[39;49m\u001B[38;5;241;43m.\u001B[39;49m\u001B[43m_parallel_args\u001B[49m\u001B[43m(\u001B[49m\u001B[43m)\u001B[49m\n\u001B[1;32m    827\u001B[0m \u001B[43m\u001B[49m\u001B[43m)\u001B[49m\u001B[43m(\u001B[49m\n\u001B[1;32m    828\u001B[0m \u001B[43m    \u001B[49m\u001B[43mdelayed\u001B[49m\u001B[43m(\u001B[49m\u001B[43m_parallel_predict_proba\u001B[49m\u001B[43m)\u001B[49m\u001B[43m(\u001B[49m\n\u001B[1;32m    829\u001B[0m \u001B[43m        \u001B[49m\u001B[38;5;28;43mself\u001B[39;49m\u001B[38;5;241;43m.\u001B[39;49m\u001B[43mestimators_\u001B[49m\u001B[43m[\u001B[49m\u001B[43mstarts\u001B[49m\u001B[43m[\u001B[49m\u001B[43mi\u001B[49m\u001B[43m]\u001B[49m\u001B[43m \u001B[49m\u001B[43m:\u001B[49m\u001B[43m \u001B[49m\u001B[43mstarts\u001B[49m\u001B[43m[\u001B[49m\u001B[43mi\u001B[49m\u001B[43m \u001B[49m\u001B[38;5;241;43m+\u001B[39;49m\u001B[43m \u001B[49m\u001B[38;5;241;43m1\u001B[39;49m\u001B[43m]\u001B[49m\u001B[43m]\u001B[49m\u001B[43m,\u001B[49m\n\u001B[1;32m    830\u001B[0m \u001B[43m        \u001B[49m\u001B[38;5;28;43mself\u001B[39;49m\u001B[38;5;241;43m.\u001B[39;49m\u001B[43mestimators_features_\u001B[49m\u001B[43m[\u001B[49m\u001B[43mstarts\u001B[49m\u001B[43m[\u001B[49m\u001B[43mi\u001B[49m\u001B[43m]\u001B[49m\u001B[43m \u001B[49m\u001B[43m:\u001B[49m\u001B[43m \u001B[49m\u001B[43mstarts\u001B[49m\u001B[43m[\u001B[49m\u001B[43mi\u001B[49m\u001B[43m \u001B[49m\u001B[38;5;241;43m+\u001B[39;49m\u001B[43m \u001B[49m\u001B[38;5;241;43m1\u001B[39;49m\u001B[43m]\u001B[49m\u001B[43m]\u001B[49m\u001B[43m,\u001B[49m\n\u001B[1;32m    831\u001B[0m \u001B[43m        \u001B[49m\u001B[43mX\u001B[49m\u001B[43m,\u001B[49m\n\u001B[1;32m    832\u001B[0m \u001B[43m        \u001B[49m\u001B[38;5;28;43mself\u001B[39;49m\u001B[38;5;241;43m.\u001B[39;49m\u001B[43mn_classes_\u001B[49m\u001B[43m,\u001B[49m\n\u001B[1;32m    833\u001B[0m \u001B[43m    \u001B[49m\u001B[43m)\u001B[49m\n\u001B[1;32m    834\u001B[0m \u001B[43m    \u001B[49m\u001B[38;5;28;43;01mfor\u001B[39;49;00m\u001B[43m \u001B[49m\u001B[43mi\u001B[49m\u001B[43m \u001B[49m\u001B[38;5;129;43;01min\u001B[39;49;00m\u001B[43m \u001B[49m\u001B[38;5;28;43mrange\u001B[39;49m\u001B[43m(\u001B[49m\u001B[43mn_jobs\u001B[49m\u001B[43m)\u001B[49m\n\u001B[1;32m    835\u001B[0m \u001B[43m\u001B[49m\u001B[43m)\u001B[49m\n\u001B[1;32m    837\u001B[0m \u001B[38;5;66;03m# Reduce\u001B[39;00m\n\u001B[1;32m    838\u001B[0m proba \u001B[38;5;241m=\u001B[39m \u001B[38;5;28msum\u001B[39m(all_proba) \u001B[38;5;241m/\u001B[39m \u001B[38;5;28mself\u001B[39m\u001B[38;5;241m.\u001B[39mn_estimators\n",
      "File \u001B[0;32m~/opt/anaconda3/lib/python3.9/site-packages/joblib/parallel.py:1043\u001B[0m, in \u001B[0;36mParallel.__call__\u001B[0;34m(self, iterable)\u001B[0m\n\u001B[1;32m   1034\u001B[0m \u001B[38;5;28;01mtry\u001B[39;00m:\n\u001B[1;32m   1035\u001B[0m     \u001B[38;5;66;03m# Only set self._iterating to True if at least a batch\u001B[39;00m\n\u001B[1;32m   1036\u001B[0m     \u001B[38;5;66;03m# was dispatched. In particular this covers the edge\u001B[39;00m\n\u001B[0;32m   (...)\u001B[0m\n\u001B[1;32m   1040\u001B[0m     \u001B[38;5;66;03m# was very quick and its callback already dispatched all the\u001B[39;00m\n\u001B[1;32m   1041\u001B[0m     \u001B[38;5;66;03m# remaining jobs.\u001B[39;00m\n\u001B[1;32m   1042\u001B[0m     \u001B[38;5;28mself\u001B[39m\u001B[38;5;241m.\u001B[39m_iterating \u001B[38;5;241m=\u001B[39m \u001B[38;5;28;01mFalse\u001B[39;00m\n\u001B[0;32m-> 1043\u001B[0m     \u001B[38;5;28;01mif\u001B[39;00m \u001B[38;5;28;43mself\u001B[39;49m\u001B[38;5;241;43m.\u001B[39;49m\u001B[43mdispatch_one_batch\u001B[49m\u001B[43m(\u001B[49m\u001B[43miterator\u001B[49m\u001B[43m)\u001B[49m:\n\u001B[1;32m   1044\u001B[0m         \u001B[38;5;28mself\u001B[39m\u001B[38;5;241m.\u001B[39m_iterating \u001B[38;5;241m=\u001B[39m \u001B[38;5;28mself\u001B[39m\u001B[38;5;241m.\u001B[39m_original_iterator \u001B[38;5;129;01mis\u001B[39;00m \u001B[38;5;129;01mnot\u001B[39;00m \u001B[38;5;28;01mNone\u001B[39;00m\n\u001B[1;32m   1046\u001B[0m     \u001B[38;5;28;01mwhile\u001B[39;00m \u001B[38;5;28mself\u001B[39m\u001B[38;5;241m.\u001B[39mdispatch_one_batch(iterator):\n",
      "File \u001B[0;32m~/opt/anaconda3/lib/python3.9/site-packages/joblib/parallel.py:861\u001B[0m, in \u001B[0;36mParallel.dispatch_one_batch\u001B[0;34m(self, iterator)\u001B[0m\n\u001B[1;32m    859\u001B[0m     \u001B[38;5;28;01mreturn\u001B[39;00m \u001B[38;5;28;01mFalse\u001B[39;00m\n\u001B[1;32m    860\u001B[0m \u001B[38;5;28;01melse\u001B[39;00m:\n\u001B[0;32m--> 861\u001B[0m     \u001B[38;5;28;43mself\u001B[39;49m\u001B[38;5;241;43m.\u001B[39;49m\u001B[43m_dispatch\u001B[49m\u001B[43m(\u001B[49m\u001B[43mtasks\u001B[49m\u001B[43m)\u001B[49m\n\u001B[1;32m    862\u001B[0m     \u001B[38;5;28;01mreturn\u001B[39;00m \u001B[38;5;28;01mTrue\u001B[39;00m\n",
      "File \u001B[0;32m~/opt/anaconda3/lib/python3.9/site-packages/joblib/parallel.py:779\u001B[0m, in \u001B[0;36mParallel._dispatch\u001B[0;34m(self, batch)\u001B[0m\n\u001B[1;32m    777\u001B[0m \u001B[38;5;28;01mwith\u001B[39;00m \u001B[38;5;28mself\u001B[39m\u001B[38;5;241m.\u001B[39m_lock:\n\u001B[1;32m    778\u001B[0m     job_idx \u001B[38;5;241m=\u001B[39m \u001B[38;5;28mlen\u001B[39m(\u001B[38;5;28mself\u001B[39m\u001B[38;5;241m.\u001B[39m_jobs)\n\u001B[0;32m--> 779\u001B[0m     job \u001B[38;5;241m=\u001B[39m \u001B[38;5;28;43mself\u001B[39;49m\u001B[38;5;241;43m.\u001B[39;49m\u001B[43m_backend\u001B[49m\u001B[38;5;241;43m.\u001B[39;49m\u001B[43mapply_async\u001B[49m\u001B[43m(\u001B[49m\u001B[43mbatch\u001B[49m\u001B[43m,\u001B[49m\u001B[43m \u001B[49m\u001B[43mcallback\u001B[49m\u001B[38;5;241;43m=\u001B[39;49m\u001B[43mcb\u001B[49m\u001B[43m)\u001B[49m\n\u001B[1;32m    780\u001B[0m     \u001B[38;5;66;03m# A job can complete so quickly than its callback is\u001B[39;00m\n\u001B[1;32m    781\u001B[0m     \u001B[38;5;66;03m# called before we get here, causing self._jobs to\u001B[39;00m\n\u001B[1;32m    782\u001B[0m     \u001B[38;5;66;03m# grow. To ensure correct results ordering, .insert is\u001B[39;00m\n\u001B[1;32m    783\u001B[0m     \u001B[38;5;66;03m# used (rather than .append) in the following line\u001B[39;00m\n\u001B[1;32m    784\u001B[0m     \u001B[38;5;28mself\u001B[39m\u001B[38;5;241m.\u001B[39m_jobs\u001B[38;5;241m.\u001B[39minsert(job_idx, job)\n",
      "File \u001B[0;32m~/opt/anaconda3/lib/python3.9/site-packages/joblib/_parallel_backends.py:208\u001B[0m, in \u001B[0;36mSequentialBackend.apply_async\u001B[0;34m(self, func, callback)\u001B[0m\n\u001B[1;32m    206\u001B[0m \u001B[38;5;28;01mdef\u001B[39;00m \u001B[38;5;21mapply_async\u001B[39m(\u001B[38;5;28mself\u001B[39m, func, callback\u001B[38;5;241m=\u001B[39m\u001B[38;5;28;01mNone\u001B[39;00m):\n\u001B[1;32m    207\u001B[0m     \u001B[38;5;124;03m\"\"\"Schedule a func to be run\"\"\"\u001B[39;00m\n\u001B[0;32m--> 208\u001B[0m     result \u001B[38;5;241m=\u001B[39m \u001B[43mImmediateResult\u001B[49m\u001B[43m(\u001B[49m\u001B[43mfunc\u001B[49m\u001B[43m)\u001B[49m\n\u001B[1;32m    209\u001B[0m     \u001B[38;5;28;01mif\u001B[39;00m callback:\n\u001B[1;32m    210\u001B[0m         callback(result)\n",
      "File \u001B[0;32m~/opt/anaconda3/lib/python3.9/site-packages/joblib/_parallel_backends.py:572\u001B[0m, in \u001B[0;36mImmediateResult.__init__\u001B[0;34m(self, batch)\u001B[0m\n\u001B[1;32m    569\u001B[0m \u001B[38;5;28;01mdef\u001B[39;00m \u001B[38;5;21m__init__\u001B[39m(\u001B[38;5;28mself\u001B[39m, batch):\n\u001B[1;32m    570\u001B[0m     \u001B[38;5;66;03m# Don't delay the application, to avoid keeping the input\u001B[39;00m\n\u001B[1;32m    571\u001B[0m     \u001B[38;5;66;03m# arguments in memory\u001B[39;00m\n\u001B[0;32m--> 572\u001B[0m     \u001B[38;5;28mself\u001B[39m\u001B[38;5;241m.\u001B[39mresults \u001B[38;5;241m=\u001B[39m \u001B[43mbatch\u001B[49m\u001B[43m(\u001B[49m\u001B[43m)\u001B[49m\n",
      "File \u001B[0;32m~/opt/anaconda3/lib/python3.9/site-packages/joblib/parallel.py:262\u001B[0m, in \u001B[0;36mBatchedCalls.__call__\u001B[0;34m(self)\u001B[0m\n\u001B[1;32m    258\u001B[0m \u001B[38;5;28;01mdef\u001B[39;00m \u001B[38;5;21m__call__\u001B[39m(\u001B[38;5;28mself\u001B[39m):\n\u001B[1;32m    259\u001B[0m     \u001B[38;5;66;03m# Set the default nested backend to self._backend but do not set the\u001B[39;00m\n\u001B[1;32m    260\u001B[0m     \u001B[38;5;66;03m# change the default number of processes to -1\u001B[39;00m\n\u001B[1;32m    261\u001B[0m     \u001B[38;5;28;01mwith\u001B[39;00m parallel_backend(\u001B[38;5;28mself\u001B[39m\u001B[38;5;241m.\u001B[39m_backend, n_jobs\u001B[38;5;241m=\u001B[39m\u001B[38;5;28mself\u001B[39m\u001B[38;5;241m.\u001B[39m_n_jobs):\n\u001B[0;32m--> 262\u001B[0m         \u001B[38;5;28;01mreturn\u001B[39;00m [func(\u001B[38;5;241m*\u001B[39margs, \u001B[38;5;241m*\u001B[39m\u001B[38;5;241m*\u001B[39mkwargs)\n\u001B[1;32m    263\u001B[0m                 \u001B[38;5;28;01mfor\u001B[39;00m func, args, kwargs \u001B[38;5;129;01min\u001B[39;00m \u001B[38;5;28mself\u001B[39m\u001B[38;5;241m.\u001B[39mitems]\n",
      "File \u001B[0;32m~/opt/anaconda3/lib/python3.9/site-packages/joblib/parallel.py:262\u001B[0m, in \u001B[0;36m<listcomp>\u001B[0;34m(.0)\u001B[0m\n\u001B[1;32m    258\u001B[0m \u001B[38;5;28;01mdef\u001B[39;00m \u001B[38;5;21m__call__\u001B[39m(\u001B[38;5;28mself\u001B[39m):\n\u001B[1;32m    259\u001B[0m     \u001B[38;5;66;03m# Set the default nested backend to self._backend but do not set the\u001B[39;00m\n\u001B[1;32m    260\u001B[0m     \u001B[38;5;66;03m# change the default number of processes to -1\u001B[39;00m\n\u001B[1;32m    261\u001B[0m     \u001B[38;5;28;01mwith\u001B[39;00m parallel_backend(\u001B[38;5;28mself\u001B[39m\u001B[38;5;241m.\u001B[39m_backend, n_jobs\u001B[38;5;241m=\u001B[39m\u001B[38;5;28mself\u001B[39m\u001B[38;5;241m.\u001B[39m_n_jobs):\n\u001B[0;32m--> 262\u001B[0m         \u001B[38;5;28;01mreturn\u001B[39;00m [\u001B[43mfunc\u001B[49m\u001B[43m(\u001B[49m\u001B[38;5;241;43m*\u001B[39;49m\u001B[43margs\u001B[49m\u001B[43m,\u001B[49m\u001B[43m \u001B[49m\u001B[38;5;241;43m*\u001B[39;49m\u001B[38;5;241;43m*\u001B[39;49m\u001B[43mkwargs\u001B[49m\u001B[43m)\u001B[49m\n\u001B[1;32m    263\u001B[0m                 \u001B[38;5;28;01mfor\u001B[39;00m func, args, kwargs \u001B[38;5;129;01min\u001B[39;00m \u001B[38;5;28mself\u001B[39m\u001B[38;5;241m.\u001B[39mitems]\n",
      "File \u001B[0;32m~/opt/anaconda3/lib/python3.9/site-packages/sklearn/utils/fixes.py:117\u001B[0m, in \u001B[0;36m_FuncWrapper.__call__\u001B[0;34m(self, *args, **kwargs)\u001B[0m\n\u001B[1;32m    115\u001B[0m \u001B[38;5;28;01mdef\u001B[39;00m \u001B[38;5;21m__call__\u001B[39m(\u001B[38;5;28mself\u001B[39m, \u001B[38;5;241m*\u001B[39margs, \u001B[38;5;241m*\u001B[39m\u001B[38;5;241m*\u001B[39mkwargs):\n\u001B[1;32m    116\u001B[0m     \u001B[38;5;28;01mwith\u001B[39;00m config_context(\u001B[38;5;241m*\u001B[39m\u001B[38;5;241m*\u001B[39m\u001B[38;5;28mself\u001B[39m\u001B[38;5;241m.\u001B[39mconfig):\n\u001B[0;32m--> 117\u001B[0m         \u001B[38;5;28;01mreturn\u001B[39;00m \u001B[38;5;28;43mself\u001B[39;49m\u001B[38;5;241;43m.\u001B[39;49m\u001B[43mfunction\u001B[49m\u001B[43m(\u001B[49m\u001B[38;5;241;43m*\u001B[39;49m\u001B[43margs\u001B[49m\u001B[43m,\u001B[49m\u001B[43m \u001B[49m\u001B[38;5;241;43m*\u001B[39;49m\u001B[38;5;241;43m*\u001B[39;49m\u001B[43mkwargs\u001B[49m\u001B[43m)\u001B[49m\n",
      "File \u001B[0;32m~/opt/anaconda3/lib/python3.9/site-packages/sklearn/ensemble/_bagging.py:156\u001B[0m, in \u001B[0;36m_parallel_predict_proba\u001B[0;34m(estimators, estimators_features, X, n_classes)\u001B[0m\n\u001B[1;32m    154\u001B[0m \u001B[38;5;28;01mfor\u001B[39;00m estimator, features \u001B[38;5;129;01min\u001B[39;00m \u001B[38;5;28mzip\u001B[39m(estimators, estimators_features):\n\u001B[1;32m    155\u001B[0m     \u001B[38;5;28;01mif\u001B[39;00m \u001B[38;5;28mhasattr\u001B[39m(estimator, \u001B[38;5;124m\"\u001B[39m\u001B[38;5;124mpredict_proba\u001B[39m\u001B[38;5;124m\"\u001B[39m):\n\u001B[0;32m--> 156\u001B[0m         proba_estimator \u001B[38;5;241m=\u001B[39m \u001B[43mestimator\u001B[49m\u001B[38;5;241;43m.\u001B[39;49m\u001B[43mpredict_proba\u001B[49m\u001B[43m(\u001B[49m\u001B[43mX\u001B[49m\u001B[43m[\u001B[49m\u001B[43m:\u001B[49m\u001B[43m,\u001B[49m\u001B[43m \u001B[49m\u001B[43mfeatures\u001B[49m\u001B[43m]\u001B[49m\u001B[43m)\u001B[49m\n\u001B[1;32m    158\u001B[0m         \u001B[38;5;28;01mif\u001B[39;00m n_classes \u001B[38;5;241m==\u001B[39m \u001B[38;5;28mlen\u001B[39m(estimator\u001B[38;5;241m.\u001B[39mclasses_):\n\u001B[1;32m    159\u001B[0m             proba \u001B[38;5;241m+\u001B[39m\u001B[38;5;241m=\u001B[39m proba_estimator\n",
      "File \u001B[0;32m~/opt/anaconda3/lib/python3.9/site-packages/sklearn/neighbors/_classification.py:268\u001B[0m, in \u001B[0;36mKNeighborsClassifier.predict_proba\u001B[0;34m(self, X)\u001B[0m\n\u001B[1;32m    250\u001B[0m \u001B[38;5;124;03m\"\"\"Return probability estimates for the test data X.\u001B[39;00m\n\u001B[1;32m    251\u001B[0m \n\u001B[1;32m    252\u001B[0m \u001B[38;5;124;03mParameters\u001B[39;00m\n\u001B[0;32m   (...)\u001B[0m\n\u001B[1;32m    263\u001B[0m \u001B[38;5;124;03m    by lexicographic order.\u001B[39;00m\n\u001B[1;32m    264\u001B[0m \u001B[38;5;124;03m\"\"\"\u001B[39;00m\n\u001B[1;32m    265\u001B[0m \u001B[38;5;28;01mif\u001B[39;00m \u001B[38;5;28mself\u001B[39m\u001B[38;5;241m.\u001B[39mweights \u001B[38;5;241m==\u001B[39m \u001B[38;5;124m\"\u001B[39m\u001B[38;5;124muniform\u001B[39m\u001B[38;5;124m\"\u001B[39m:\n\u001B[1;32m    266\u001B[0m     \u001B[38;5;66;03m# In that case, we do not need the distances to perform\u001B[39;00m\n\u001B[1;32m    267\u001B[0m     \u001B[38;5;66;03m# the weighting so we do not compute them.\u001B[39;00m\n\u001B[0;32m--> 268\u001B[0m     neigh_ind \u001B[38;5;241m=\u001B[39m \u001B[38;5;28;43mself\u001B[39;49m\u001B[38;5;241;43m.\u001B[39;49m\u001B[43mkneighbors\u001B[49m\u001B[43m(\u001B[49m\u001B[43mX\u001B[49m\u001B[43m,\u001B[49m\u001B[43m \u001B[49m\u001B[43mreturn_distance\u001B[49m\u001B[38;5;241;43m=\u001B[39;49m\u001B[38;5;28;43;01mFalse\u001B[39;49;00m\u001B[43m)\u001B[49m\n\u001B[1;32m    269\u001B[0m     neigh_dist \u001B[38;5;241m=\u001B[39m \u001B[38;5;28;01mNone\u001B[39;00m\n\u001B[1;32m    270\u001B[0m \u001B[38;5;28;01melse\u001B[39;00m:\n",
      "File \u001B[0;32m~/opt/anaconda3/lib/python3.9/site-packages/sklearn/neighbors/_base.py:763\u001B[0m, in \u001B[0;36mKNeighborsMixin.kneighbors\u001B[0;34m(self, X, n_neighbors, return_distance)\u001B[0m\n\u001B[1;32m    756\u001B[0m use_pairwise_distances_reductions \u001B[38;5;241m=\u001B[39m (\n\u001B[1;32m    757\u001B[0m     \u001B[38;5;28mself\u001B[39m\u001B[38;5;241m.\u001B[39m_fit_method \u001B[38;5;241m==\u001B[39m \u001B[38;5;124m\"\u001B[39m\u001B[38;5;124mbrute\u001B[39m\u001B[38;5;124m\"\u001B[39m\n\u001B[1;32m    758\u001B[0m     \u001B[38;5;129;01mand\u001B[39;00m PairwiseDistancesArgKmin\u001B[38;5;241m.\u001B[39mis_usable_for(\n\u001B[1;32m    759\u001B[0m         X \u001B[38;5;28;01mif\u001B[39;00m X \u001B[38;5;129;01mis\u001B[39;00m \u001B[38;5;129;01mnot\u001B[39;00m \u001B[38;5;28;01mNone\u001B[39;00m \u001B[38;5;28;01melse\u001B[39;00m \u001B[38;5;28mself\u001B[39m\u001B[38;5;241m.\u001B[39m_fit_X, \u001B[38;5;28mself\u001B[39m\u001B[38;5;241m.\u001B[39m_fit_X, \u001B[38;5;28mself\u001B[39m\u001B[38;5;241m.\u001B[39meffective_metric_\n\u001B[1;32m    760\u001B[0m     )\n\u001B[1;32m    761\u001B[0m )\n\u001B[1;32m    762\u001B[0m \u001B[38;5;28;01mif\u001B[39;00m use_pairwise_distances_reductions:\n\u001B[0;32m--> 763\u001B[0m     results \u001B[38;5;241m=\u001B[39m \u001B[43mPairwiseDistancesArgKmin\u001B[49m\u001B[38;5;241;43m.\u001B[39;49m\u001B[43mcompute\u001B[49m\u001B[43m(\u001B[49m\n\u001B[1;32m    764\u001B[0m \u001B[43m        \u001B[49m\u001B[43mX\u001B[49m\u001B[38;5;241;43m=\u001B[39;49m\u001B[43mX\u001B[49m\u001B[43m,\u001B[49m\n\u001B[1;32m    765\u001B[0m \u001B[43m        \u001B[49m\u001B[43mY\u001B[49m\u001B[38;5;241;43m=\u001B[39;49m\u001B[38;5;28;43mself\u001B[39;49m\u001B[38;5;241;43m.\u001B[39;49m\u001B[43m_fit_X\u001B[49m\u001B[43m,\u001B[49m\n\u001B[1;32m    766\u001B[0m \u001B[43m        \u001B[49m\u001B[43mk\u001B[49m\u001B[38;5;241;43m=\u001B[39;49m\u001B[43mn_neighbors\u001B[49m\u001B[43m,\u001B[49m\n\u001B[1;32m    767\u001B[0m \u001B[43m        \u001B[49m\u001B[43mmetric\u001B[49m\u001B[38;5;241;43m=\u001B[39;49m\u001B[38;5;28;43mself\u001B[39;49m\u001B[38;5;241;43m.\u001B[39;49m\u001B[43meffective_metric_\u001B[49m\u001B[43m,\u001B[49m\n\u001B[1;32m    768\u001B[0m \u001B[43m        \u001B[49m\u001B[43mmetric_kwargs\u001B[49m\u001B[38;5;241;43m=\u001B[39;49m\u001B[38;5;28;43mself\u001B[39;49m\u001B[38;5;241;43m.\u001B[39;49m\u001B[43meffective_metric_params_\u001B[49m\u001B[43m,\u001B[49m\n\u001B[1;32m    769\u001B[0m \u001B[43m        \u001B[49m\u001B[43mstrategy\u001B[49m\u001B[38;5;241;43m=\u001B[39;49m\u001B[38;5;124;43m\"\u001B[39;49m\u001B[38;5;124;43mauto\u001B[39;49m\u001B[38;5;124;43m\"\u001B[39;49m\u001B[43m,\u001B[49m\n\u001B[1;32m    770\u001B[0m \u001B[43m        \u001B[49m\u001B[43mreturn_distance\u001B[49m\u001B[38;5;241;43m=\u001B[39;49m\u001B[43mreturn_distance\u001B[49m\u001B[43m,\u001B[49m\n\u001B[1;32m    771\u001B[0m \u001B[43m    \u001B[49m\u001B[43m)\u001B[49m\n\u001B[1;32m    773\u001B[0m \u001B[38;5;28;01melif\u001B[39;00m (\n\u001B[1;32m    774\u001B[0m     \u001B[38;5;28mself\u001B[39m\u001B[38;5;241m.\u001B[39m_fit_method \u001B[38;5;241m==\u001B[39m \u001B[38;5;124m\"\u001B[39m\u001B[38;5;124mbrute\u001B[39m\u001B[38;5;124m\"\u001B[39m \u001B[38;5;129;01mand\u001B[39;00m \u001B[38;5;28mself\u001B[39m\u001B[38;5;241m.\u001B[39mmetric \u001B[38;5;241m==\u001B[39m \u001B[38;5;124m\"\u001B[39m\u001B[38;5;124mprecomputed\u001B[39m\u001B[38;5;124m\"\u001B[39m \u001B[38;5;129;01mand\u001B[39;00m issparse(X)\n\u001B[1;32m    775\u001B[0m ):\n\u001B[1;32m    776\u001B[0m     results \u001B[38;5;241m=\u001B[39m _kneighbors_from_graph(\n\u001B[1;32m    777\u001B[0m         X, n_neighbors\u001B[38;5;241m=\u001B[39mn_neighbors, return_distance\u001B[38;5;241m=\u001B[39mreturn_distance\n\u001B[1;32m    778\u001B[0m     )\n",
      "File \u001B[0;32msklearn/metrics/_pairwise_distances_reduction.pyx:691\u001B[0m, in \u001B[0;36msklearn.metrics._pairwise_distances_reduction.PairwiseDistancesArgKmin.compute\u001B[0;34m()\u001B[0m\n",
      "File \u001B[0;32m~/opt/anaconda3/lib/python3.9/site-packages/sklearn/utils/fixes.py:151\u001B[0m, in \u001B[0;36mthreadpool_limits\u001B[0;34m(limits, user_api)\u001B[0m\n\u001B[1;32m    149\u001B[0m     \u001B[38;5;28;01mreturn\u001B[39;00m controller\u001B[38;5;241m.\u001B[39mlimit(limits\u001B[38;5;241m=\u001B[39mlimits, user_api\u001B[38;5;241m=\u001B[39muser_api)\n\u001B[1;32m    150\u001B[0m \u001B[38;5;28;01melse\u001B[39;00m:\n\u001B[0;32m--> 151\u001B[0m     \u001B[38;5;28;01mreturn\u001B[39;00m \u001B[43mthreadpoolctl\u001B[49m\u001B[38;5;241;43m.\u001B[39;49m\u001B[43mthreadpool_limits\u001B[49m\u001B[43m(\u001B[49m\u001B[43mlimits\u001B[49m\u001B[38;5;241;43m=\u001B[39;49m\u001B[43mlimits\u001B[49m\u001B[43m,\u001B[49m\u001B[43m \u001B[49m\u001B[43muser_api\u001B[49m\u001B[38;5;241;43m=\u001B[39;49m\u001B[43muser_api\u001B[49m\u001B[43m)\u001B[49m\n",
      "File \u001B[0;32m~/opt/anaconda3/lib/python3.9/site-packages/threadpoolctl.py:171\u001B[0m, in \u001B[0;36mthreadpool_limits.__init__\u001B[0;34m(self, limits, user_api)\u001B[0m\n\u001B[1;32m    167\u001B[0m \u001B[38;5;28;01mdef\u001B[39;00m \u001B[38;5;21m__init__\u001B[39m(\u001B[38;5;28mself\u001B[39m, limits\u001B[38;5;241m=\u001B[39m\u001B[38;5;28;01mNone\u001B[39;00m, user_api\u001B[38;5;241m=\u001B[39m\u001B[38;5;28;01mNone\u001B[39;00m):\n\u001B[1;32m    168\u001B[0m     \u001B[38;5;28mself\u001B[39m\u001B[38;5;241m.\u001B[39m_limits, \u001B[38;5;28mself\u001B[39m\u001B[38;5;241m.\u001B[39m_user_api, \u001B[38;5;28mself\u001B[39m\u001B[38;5;241m.\u001B[39m_prefixes \u001B[38;5;241m=\u001B[39m \\\n\u001B[1;32m    169\u001B[0m         \u001B[38;5;28mself\u001B[39m\u001B[38;5;241m.\u001B[39m_check_params(limits, user_api)\n\u001B[0;32m--> 171\u001B[0m     \u001B[38;5;28mself\u001B[39m\u001B[38;5;241m.\u001B[39m_original_info \u001B[38;5;241m=\u001B[39m \u001B[38;5;28;43mself\u001B[39;49m\u001B[38;5;241;43m.\u001B[39;49m\u001B[43m_set_threadpool_limits\u001B[49m\u001B[43m(\u001B[49m\u001B[43m)\u001B[49m\n",
      "File \u001B[0;32m~/opt/anaconda3/lib/python3.9/site-packages/threadpoolctl.py:268\u001B[0m, in \u001B[0;36mthreadpool_limits._set_threadpool_limits\u001B[0;34m(self)\u001B[0m\n\u001B[1;32m    265\u001B[0m \u001B[38;5;28;01mif\u001B[39;00m \u001B[38;5;28mself\u001B[39m\u001B[38;5;241m.\u001B[39m_limits \u001B[38;5;129;01mis\u001B[39;00m \u001B[38;5;28;01mNone\u001B[39;00m:\n\u001B[1;32m    266\u001B[0m     \u001B[38;5;28;01mreturn\u001B[39;00m \u001B[38;5;28;01mNone\u001B[39;00m\n\u001B[0;32m--> 268\u001B[0m modules \u001B[38;5;241m=\u001B[39m \u001B[43m_ThreadpoolInfo\u001B[49m\u001B[43m(\u001B[49m\u001B[43mprefixes\u001B[49m\u001B[38;5;241;43m=\u001B[39;49m\u001B[38;5;28;43mself\u001B[39;49m\u001B[38;5;241;43m.\u001B[39;49m\u001B[43m_prefixes\u001B[49m\u001B[43m,\u001B[49m\n\u001B[1;32m    269\u001B[0m \u001B[43m                          \u001B[49m\u001B[43muser_api\u001B[49m\u001B[38;5;241;43m=\u001B[39;49m\u001B[38;5;28;43mself\u001B[39;49m\u001B[38;5;241;43m.\u001B[39;49m\u001B[43m_user_api\u001B[49m\u001B[43m)\u001B[49m\n\u001B[1;32m    270\u001B[0m \u001B[38;5;28;01mfor\u001B[39;00m module \u001B[38;5;129;01min\u001B[39;00m modules:\n\u001B[1;32m    271\u001B[0m     \u001B[38;5;66;03m# self._limits is a dict {key: num_threads} where key is either\u001B[39;00m\n\u001B[1;32m    272\u001B[0m     \u001B[38;5;66;03m# a prefix or a user_api. If a module matches both, the limit\u001B[39;00m\n\u001B[1;32m    273\u001B[0m     \u001B[38;5;66;03m# corresponding to the prefix is chosed.\u001B[39;00m\n\u001B[1;32m    274\u001B[0m     \u001B[38;5;28;01mif\u001B[39;00m module\u001B[38;5;241m.\u001B[39mprefix \u001B[38;5;129;01min\u001B[39;00m \u001B[38;5;28mself\u001B[39m\u001B[38;5;241m.\u001B[39m_limits:\n",
      "File \u001B[0;32m~/opt/anaconda3/lib/python3.9/site-packages/threadpoolctl.py:340\u001B[0m, in \u001B[0;36m_ThreadpoolInfo.__init__\u001B[0;34m(self, user_api, prefixes, modules)\u001B[0m\n\u001B[1;32m    337\u001B[0m     \u001B[38;5;28mself\u001B[39m\u001B[38;5;241m.\u001B[39muser_api \u001B[38;5;241m=\u001B[39m [] \u001B[38;5;28;01mif\u001B[39;00m user_api \u001B[38;5;129;01mis\u001B[39;00m \u001B[38;5;28;01mNone\u001B[39;00m \u001B[38;5;28;01melse\u001B[39;00m user_api\n\u001B[1;32m    339\u001B[0m     \u001B[38;5;28mself\u001B[39m\u001B[38;5;241m.\u001B[39mmodules \u001B[38;5;241m=\u001B[39m []\n\u001B[0;32m--> 340\u001B[0m     \u001B[38;5;28;43mself\u001B[39;49m\u001B[38;5;241;43m.\u001B[39;49m\u001B[43m_load_modules\u001B[49m\u001B[43m(\u001B[49m\u001B[43m)\u001B[49m\n\u001B[1;32m    341\u001B[0m     \u001B[38;5;28mself\u001B[39m\u001B[38;5;241m.\u001B[39m_warn_if_incompatible_openmp()\n\u001B[1;32m    342\u001B[0m \u001B[38;5;28;01melse\u001B[39;00m:\n",
      "File \u001B[0;32m~/opt/anaconda3/lib/python3.9/site-packages/threadpoolctl.py:371\u001B[0m, in \u001B[0;36m_ThreadpoolInfo._load_modules\u001B[0;34m(self)\u001B[0m\n\u001B[1;32m    369\u001B[0m \u001B[38;5;124;03m\"\"\"Loop through loaded libraries and store supported ones\"\"\"\u001B[39;00m\n\u001B[1;32m    370\u001B[0m \u001B[38;5;28;01mif\u001B[39;00m sys\u001B[38;5;241m.\u001B[39mplatform \u001B[38;5;241m==\u001B[39m \u001B[38;5;124m\"\u001B[39m\u001B[38;5;124mdarwin\u001B[39m\u001B[38;5;124m\"\u001B[39m:\n\u001B[0;32m--> 371\u001B[0m     \u001B[38;5;28;43mself\u001B[39;49m\u001B[38;5;241;43m.\u001B[39;49m\u001B[43m_find_modules_with_dyld\u001B[49m\u001B[43m(\u001B[49m\u001B[43m)\u001B[49m\n\u001B[1;32m    372\u001B[0m \u001B[38;5;28;01melif\u001B[39;00m sys\u001B[38;5;241m.\u001B[39mplatform \u001B[38;5;241m==\u001B[39m \u001B[38;5;124m\"\u001B[39m\u001B[38;5;124mwin32\u001B[39m\u001B[38;5;124m\"\u001B[39m:\n\u001B[1;32m    373\u001B[0m     \u001B[38;5;28mself\u001B[39m\u001B[38;5;241m.\u001B[39m_find_modules_with_enum_process_module_ex()\n",
      "File \u001B[0;32m~/opt/anaconda3/lib/python3.9/site-packages/threadpoolctl.py:428\u001B[0m, in \u001B[0;36m_ThreadpoolInfo._find_modules_with_dyld\u001B[0;34m(self)\u001B[0m\n\u001B[1;32m    425\u001B[0m filepath \u001B[38;5;241m=\u001B[39m filepath\u001B[38;5;241m.\u001B[39mdecode(\u001B[38;5;124m\"\u001B[39m\u001B[38;5;124mutf-8\u001B[39m\u001B[38;5;124m\"\u001B[39m)\n\u001B[1;32m    427\u001B[0m \u001B[38;5;66;03m# Store the module if it is supported and selected\u001B[39;00m\n\u001B[0;32m--> 428\u001B[0m \u001B[38;5;28;43mself\u001B[39;49m\u001B[38;5;241;43m.\u001B[39;49m\u001B[43m_make_module_from_path\u001B[49m\u001B[43m(\u001B[49m\u001B[43mfilepath\u001B[49m\u001B[43m)\u001B[49m\n",
      "File \u001B[0;32m~/opt/anaconda3/lib/python3.9/site-packages/threadpoolctl.py:515\u001B[0m, in \u001B[0;36m_ThreadpoolInfo._make_module_from_path\u001B[0;34m(self, filepath)\u001B[0m\n\u001B[1;32m    513\u001B[0m \u001B[38;5;28;01mif\u001B[39;00m prefix \u001B[38;5;129;01min\u001B[39;00m \u001B[38;5;28mself\u001B[39m\u001B[38;5;241m.\u001B[39mprefixes \u001B[38;5;129;01mor\u001B[39;00m user_api \u001B[38;5;129;01min\u001B[39;00m \u001B[38;5;28mself\u001B[39m\u001B[38;5;241m.\u001B[39muser_api:\n\u001B[1;32m    514\u001B[0m     module_class \u001B[38;5;241m=\u001B[39m \u001B[38;5;28mglobals\u001B[39m()[module_class]\n\u001B[0;32m--> 515\u001B[0m     module \u001B[38;5;241m=\u001B[39m \u001B[43mmodule_class\u001B[49m\u001B[43m(\u001B[49m\u001B[43mfilepath\u001B[49m\u001B[43m,\u001B[49m\u001B[43m \u001B[49m\u001B[43mprefix\u001B[49m\u001B[43m,\u001B[49m\u001B[43m \u001B[49m\u001B[43muser_api\u001B[49m\u001B[43m,\u001B[49m\u001B[43m \u001B[49m\u001B[43minternal_api\u001B[49m\u001B[43m)\u001B[49m\n\u001B[1;32m    516\u001B[0m     \u001B[38;5;28mself\u001B[39m\u001B[38;5;241m.\u001B[39mmodules\u001B[38;5;241m.\u001B[39mappend(module)\n",
      "File \u001B[0;32m~/opt/anaconda3/lib/python3.9/site-packages/threadpoolctl.py:608\u001B[0m, in \u001B[0;36m_Module.__init__\u001B[0;34m(self, filepath, prefix, user_api, internal_api)\u001B[0m\n\u001B[1;32m    606\u001B[0m \u001B[38;5;28mself\u001B[39m\u001B[38;5;241m.\u001B[39mversion \u001B[38;5;241m=\u001B[39m \u001B[38;5;28mself\u001B[39m\u001B[38;5;241m.\u001B[39mget_version()\n\u001B[1;32m    607\u001B[0m \u001B[38;5;28mself\u001B[39m\u001B[38;5;241m.\u001B[39mnum_threads \u001B[38;5;241m=\u001B[39m \u001B[38;5;28mself\u001B[39m\u001B[38;5;241m.\u001B[39mget_num_threads()\n\u001B[0;32m--> 608\u001B[0m \u001B[38;5;28;43mself\u001B[39;49m\u001B[38;5;241;43m.\u001B[39;49m\u001B[43m_get_extra_info\u001B[49m\u001B[43m(\u001B[49m\u001B[43m)\u001B[49m\n",
      "File \u001B[0;32m~/opt/anaconda3/lib/python3.9/site-packages/threadpoolctl.py:662\u001B[0m, in \u001B[0;36m_OpenBLASModule._get_extra_info\u001B[0;34m(self)\u001B[0m\n\u001B[1;32m    661\u001B[0m \u001B[38;5;28;01mdef\u001B[39;00m \u001B[38;5;21m_get_extra_info\u001B[39m(\u001B[38;5;28mself\u001B[39m):\n\u001B[0;32m--> 662\u001B[0m     \u001B[38;5;28mself\u001B[39m\u001B[38;5;241m.\u001B[39mthreading_layer \u001B[38;5;241m=\u001B[39m \u001B[38;5;28;43mself\u001B[39;49m\u001B[38;5;241;43m.\u001B[39;49m\u001B[43mget_threading_layer\u001B[49m\u001B[43m(\u001B[49m\u001B[43m)\u001B[49m\n\u001B[1;32m    663\u001B[0m     \u001B[38;5;28mself\u001B[39m\u001B[38;5;241m.\u001B[39marchitecture \u001B[38;5;241m=\u001B[39m \u001B[38;5;28mself\u001B[39m\u001B[38;5;241m.\u001B[39mget_architecture()\n",
      "File \u001B[0;32m~/opt/anaconda3/lib/python3.9/site-packages/threadpoolctl.py:667\u001B[0m, in \u001B[0;36m_OpenBLASModule.get_threading_layer\u001B[0;34m(self)\u001B[0m\n\u001B[1;32m    665\u001B[0m \u001B[38;5;28;01mdef\u001B[39;00m \u001B[38;5;21mget_threading_layer\u001B[39m(\u001B[38;5;28mself\u001B[39m):\n\u001B[1;32m    666\u001B[0m     \u001B[38;5;124;03m\"\"\"Return the threading layer of OpenBLAS\"\"\"\u001B[39;00m\n\u001B[0;32m--> 667\u001B[0m     threading_layer \u001B[38;5;241m=\u001B[39m \u001B[38;5;28;43mself\u001B[39;49m\u001B[38;5;241;43m.\u001B[39;49m\u001B[43m_dynlib\u001B[49m\u001B[38;5;241;43m.\u001B[39;49m\u001B[43mopenblas_get_parallel\u001B[49m()\n\u001B[1;32m    668\u001B[0m     \u001B[38;5;28;01mif\u001B[39;00m threading_layer \u001B[38;5;241m==\u001B[39m \u001B[38;5;241m2\u001B[39m:\n\u001B[1;32m    669\u001B[0m         \u001B[38;5;28;01mreturn\u001B[39;00m \u001B[38;5;124m\"\u001B[39m\u001B[38;5;124mopenmp\u001B[39m\u001B[38;5;124m\"\u001B[39m\n",
      "File \u001B[0;32m~/opt/anaconda3/lib/python3.9/ctypes/__init__.py:395\u001B[0m, in \u001B[0;36mCDLL.__getattr__\u001B[0;34m(self, name)\u001B[0m\n\u001B[1;32m    393\u001B[0m \u001B[38;5;28;01mif\u001B[39;00m name\u001B[38;5;241m.\u001B[39mstartswith(\u001B[38;5;124m'\u001B[39m\u001B[38;5;124m__\u001B[39m\u001B[38;5;124m'\u001B[39m) \u001B[38;5;129;01mand\u001B[39;00m name\u001B[38;5;241m.\u001B[39mendswith(\u001B[38;5;124m'\u001B[39m\u001B[38;5;124m__\u001B[39m\u001B[38;5;124m'\u001B[39m):\n\u001B[1;32m    394\u001B[0m     \u001B[38;5;28;01mraise\u001B[39;00m \u001B[38;5;167;01mAttributeError\u001B[39;00m(name)\n\u001B[0;32m--> 395\u001B[0m func \u001B[38;5;241m=\u001B[39m \u001B[38;5;28;43mself\u001B[39;49m\u001B[38;5;241;43m.\u001B[39;49m\u001B[38;5;21;43m__getitem__\u001B[39;49m\u001B[43m(\u001B[49m\u001B[43mname\u001B[49m\u001B[43m)\u001B[49m\n\u001B[1;32m    396\u001B[0m \u001B[38;5;28msetattr\u001B[39m(\u001B[38;5;28mself\u001B[39m, name, func)\n\u001B[1;32m    397\u001B[0m \u001B[38;5;28;01mreturn\u001B[39;00m func\n",
      "File \u001B[0;32m~/opt/anaconda3/lib/python3.9/ctypes/__init__.py:400\u001B[0m, in \u001B[0;36mCDLL.__getitem__\u001B[0;34m(self, name_or_ordinal)\u001B[0m\n\u001B[1;32m    399\u001B[0m \u001B[38;5;28;01mdef\u001B[39;00m \u001B[38;5;21m__getitem__\u001B[39m(\u001B[38;5;28mself\u001B[39m, name_or_ordinal):\n\u001B[0;32m--> 400\u001B[0m     func \u001B[38;5;241m=\u001B[39m \u001B[38;5;28;43mself\u001B[39;49m\u001B[38;5;241;43m.\u001B[39;49m\u001B[43m_FuncPtr\u001B[49m\u001B[43m(\u001B[49m\u001B[43m(\u001B[49m\u001B[43mname_or_ordinal\u001B[49m\u001B[43m,\u001B[49m\u001B[43m \u001B[49m\u001B[38;5;28;43mself\u001B[39;49m\u001B[43m)\u001B[49m\u001B[43m)\u001B[49m\n\u001B[1;32m    401\u001B[0m     \u001B[38;5;28;01mif\u001B[39;00m \u001B[38;5;129;01mnot\u001B[39;00m \u001B[38;5;28misinstance\u001B[39m(name_or_ordinal, \u001B[38;5;28mint\u001B[39m):\n\u001B[1;32m    402\u001B[0m         func\u001B[38;5;241m.\u001B[39m\u001B[38;5;18m__name__\u001B[39m \u001B[38;5;241m=\u001B[39m name_or_ordinal\n",
      "\u001B[0;31mAttributeError\u001B[0m: dlsym(0x9ade32b0, openblas_get_parallel): symbol not found"
     ]
    }
   ],
   "source": [
    "# bagging模型 BaggingClassifier\n",
    "# 数据2：分类\n",
    "\n",
    "from sklearn.ensemble import BaggingClassifier\n",
    "from sklearn.neighbors import KNeighborsClassifier\n",
    "# Split the data into a training set and a test set\n",
    "X_train, X_test, y_train, y_test = train_test_split(train, target, random_state=0)\n",
    "clf = BaggingClassifier(KNeighborsClassifier(), max_samples=0.5, max_features=0.5)\n",
    "%time clf = clf.fit(X_train, y_train)\n",
    "clf.score(X_test, y_test)"
   ]
  },
  {
   "cell_type": "code",
   "execution_count": 10,
   "id": "168881e1",
   "metadata": {},
   "outputs": [
    {
     "name": "stdout",
     "output_type": "stream",
     "text": [
      "CPU times: user 37.7 ms, sys: 267 µs, total: 38 ms\n",
      "Wall time: 38.2 ms\n"
     ]
    },
    {
     "data": {
      "text/plain": [
       "0.93"
      ]
     },
     "execution_count": 10,
     "metadata": {},
     "output_type": "execute_result"
    }
   ],
   "source": [
    "# 随机森林模型 RandomForestClassifier (**)\n",
    "# 数据2：分类\n",
    "\n",
    "from sklearn.ensemble import RandomForestClassifier\n",
    "# Split the data into a training set and a test set\n",
    "X_train, X_test, y_train, y_test = train_test_split(train, target, random_state=0)\n",
    "clf = clf = RandomForestClassifier(n_estimators=10, max_depth=None, min_samples_split=2, random_state=0)\n",
    "%time clf = clf.fit(X_train, y_train)\n",
    "clf.score(X_test, y_test)"
   ]
  },
  {
   "cell_type": "code",
   "execution_count": 12,
   "id": "bf45d6e3",
   "metadata": {},
   "outputs": [
    {
     "name": "stdout",
     "output_type": "stream",
     "text": [
      "CPU times: user 28.2 ms, sys: 656 µs, total: 28.9 ms\n",
      "Wall time: 28.9 ms\n"
     ]
    },
    {
     "data": {
      "text/plain": [
       "0.924"
      ]
     },
     "execution_count": 12,
     "metadata": {},
     "output_type": "execute_result"
    }
   ],
   "source": [
    "# 随机森林模型 ExtraTreesClassifier\n",
    "# 数据2：分类\n",
    "\n",
    "from sklearn.ensemble import ExtraTreesClassifier\n",
    "# Split the data into a training set and a test set\n",
    "X_train, X_test, y_train, y_test = train_test_split(train, target, random_state=0)\n",
    "clf = ExtraTreesClassifier(n_estimators=10, max_depth=None, min_samples_split=2, random_state=0)\n",
    "%time clf = clf.fit(X_train, y_train)\n",
    "clf.score(X_test, y_test)"
   ]
  },
  {
   "cell_type": "code",
   "execution_count": 14,
   "id": "7df5f706",
   "metadata": {},
   "outputs": [
    {
     "name": "stdout",
     "output_type": "stream",
     "text": [
      "CPU times: user 491 ms, sys: 2.24 ms, total: 493 ms\n",
      "Wall time: 501 ms\n"
     ]
    },
    {
     "data": {
      "text/plain": [
       "0.928"
      ]
     },
     "execution_count": 14,
     "metadata": {},
     "output_type": "execute_result"
    }
   ],
   "source": [
    "# AdaBoost模型 AdaBoostClassifier (*)\n",
    "# 数据2：分类\n",
    "\n",
    "from sklearn.ensemble import AdaBoostClassifier\n",
    "# Split the data into a training set and a test set\n",
    "X_train, X_test, y_train, y_test = train_test_split(train, target, random_state=0)\n",
    "clf = AdaBoostClassifier(n_estimators=100)\n",
    "%time clf = clf.fit(X_train, y_train)\n",
    "clf.score(X_test, y_test)"
   ]
  },
  {
   "cell_type": "code",
   "execution_count": 15,
   "id": "574de6f8",
   "metadata": {},
   "outputs": [
    {
     "name": "stdout",
     "output_type": "stream",
     "text": [
      "CPU times: user 374 ms, sys: 1.61 ms, total: 375 ms\n",
      "Wall time: 384 ms\n"
     ]
    },
    {
     "data": {
      "text/plain": [
       "0.926"
      ]
     },
     "execution_count": 15,
     "metadata": {},
     "output_type": "execute_result"
    }
   ],
   "source": [
    "# GradientBoosting模型 GradientBoostingClassifier (*)\n",
    "# 数据2：分类\n",
    "\n",
    "from sklearn.ensemble import GradientBoostingClassifier\n",
    "# Split the data into a training set and a test set\n",
    "X_train, X_test, y_train, y_test = train_test_split(train, target, random_state=0)\n",
    "clf = GradientBoostingClassifier(n_estimators=100, learning_rate=1.0, max_depth=1, random_state=0)\n",
    "%time clf = clf.fit(X_train, y_train)\n",
    "clf.score(X_test, y_test)"
   ]
  },
  {
   "cell_type": "code",
   "execution_count": 48,
   "id": "98b7f39d",
   "metadata": {},
   "outputs": [
    {
     "name": "stdout",
     "output_type": "stream",
     "text": [
      "[LightGBM] [Warning] Unknown parameter: colsample_bylevel\n",
      "[LightGBM] [Warning] Unknown parameter: silent\n",
      "[LightGBM] [Warning] Unknown parameter: tree_method\n",
      "[1]\tvalid_0's multi_logloss: 0.317017\n",
      "Training until validation scores don't improve for 100 rounds\n",
      "[2]\tvalid_0's multi_logloss: 0.317358\n",
      "[3]\tvalid_0's multi_logloss: 0.317882\n",
      "[4]\tvalid_0's multi_logloss: 0.318213\n",
      "[5]\tvalid_0's multi_logloss: 0.318525\n",
      "[6]\tvalid_0's multi_logloss: 0.318657\n",
      "[7]\tvalid_0's multi_logloss: 0.319168\n",
      "[8]\tvalid_0's multi_logloss: 0.319498\n",
      "[9]\tvalid_0's multi_logloss: 0.319846\n",
      "[10]\tvalid_0's multi_logloss: 0.319889\n",
      "[11]\tvalid_0's multi_logloss: 0.320273\n",
      "[12]\tvalid_0's multi_logloss: 0.320499\n",
      "[13]\tvalid_0's multi_logloss: 0.320718\n",
      "[14]\tvalid_0's multi_logloss: 0.321266\n",
      "[15]\tvalid_0's multi_logloss: 0.321416\n",
      "[16]\tvalid_0's multi_logloss: 0.321429\n",
      "[17]\tvalid_0's multi_logloss: 0.321682\n",
      "[18]\tvalid_0's multi_logloss: 0.321813\n",
      "[19]\tvalid_0's multi_logloss: 0.321911\n",
      "[20]\tvalid_0's multi_logloss: 0.322143\n",
      "[21]\tvalid_0's multi_logloss: 0.322415\n",
      "[22]\tvalid_0's multi_logloss: 0.32279\n",
      "[23]\tvalid_0's multi_logloss: 0.322898\n",
      "[24]\tvalid_0's multi_logloss: 0.32322\n",
      "[25]\tvalid_0's multi_logloss: 0.323686\n",
      "[26]\tvalid_0's multi_logloss: 0.323997\n",
      "[27]\tvalid_0's multi_logloss: 0.324261\n",
      "[28]\tvalid_0's multi_logloss: 0.32453\n",
      "[29]\tvalid_0's multi_logloss: 0.325055\n",
      "[30]\tvalid_0's multi_logloss: 0.325465\n",
      "[31]\tvalid_0's multi_logloss: 0.325663\n",
      "[32]\tvalid_0's multi_logloss: 0.325762\n",
      "[33]\tvalid_0's multi_logloss: 0.326032\n",
      "[34]\tvalid_0's multi_logloss: 0.326238\n",
      "[35]\tvalid_0's multi_logloss: 0.326693\n",
      "[36]\tvalid_0's multi_logloss: 0.326877\n",
      "[37]\tvalid_0's multi_logloss: 0.327292\n",
      "[38]\tvalid_0's multi_logloss: 0.327092\n",
      "[39]\tvalid_0's multi_logloss: 0.327242\n",
      "[40]\tvalid_0's multi_logloss: 0.327584\n",
      "[41]\tvalid_0's multi_logloss: 0.327999\n",
      "[42]\tvalid_0's multi_logloss: 0.328083\n",
      "[43]\tvalid_0's multi_logloss: 0.328449\n",
      "[44]\tvalid_0's multi_logloss: 0.328479\n",
      "[45]\tvalid_0's multi_logloss: 0.328786\n",
      "[46]\tvalid_0's multi_logloss: 0.329054\n",
      "[47]\tvalid_0's multi_logloss: 0.329188\n",
      "[48]\tvalid_0's multi_logloss: 0.329544\n",
      "[49]\tvalid_0's multi_logloss: 0.330031\n",
      "[50]\tvalid_0's multi_logloss: 0.330054\n",
      "[51]\tvalid_0's multi_logloss: 0.330332\n",
      "[52]\tvalid_0's multi_logloss: 0.33044\n",
      "[53]\tvalid_0's multi_logloss: 0.330584\n",
      "[54]\tvalid_0's multi_logloss: 0.330949\n",
      "[55]\tvalid_0's multi_logloss: 0.330822\n",
      "[56]\tvalid_0's multi_logloss: 0.331155\n",
      "[57]\tvalid_0's multi_logloss: 0.331267\n",
      "[58]\tvalid_0's multi_logloss: 0.331484\n",
      "[59]\tvalid_0's multi_logloss: 0.33182\n",
      "[60]\tvalid_0's multi_logloss: 0.332024\n",
      "[61]\tvalid_0's multi_logloss: 0.332283\n",
      "[62]\tvalid_0's multi_logloss: 0.332664\n",
      "[63]\tvalid_0's multi_logloss: 0.3331\n",
      "[64]\tvalid_0's multi_logloss: 0.333149\n",
      "[65]\tvalid_0's multi_logloss: 0.333434\n",
      "[66]\tvalid_0's multi_logloss: 0.333491\n",
      "[67]\tvalid_0's multi_logloss: 0.333806\n",
      "[68]\tvalid_0's multi_logloss: 0.334049\n",
      "[69]\tvalid_0's multi_logloss: 0.334534\n",
      "[70]\tvalid_0's multi_logloss: 0.334573\n",
      "[71]\tvalid_0's multi_logloss: 0.334724\n",
      "[72]\tvalid_0's multi_logloss: 0.33481\n",
      "[73]\tvalid_0's multi_logloss: 0.335113\n",
      "[74]\tvalid_0's multi_logloss: 0.335336\n",
      "[75]\tvalid_0's multi_logloss: 0.335406\n",
      "[76]\tvalid_0's multi_logloss: 0.33553\n",
      "[77]\tvalid_0's multi_logloss: 0.335857\n",
      "[78]\tvalid_0's multi_logloss: 0.33602\n",
      "[79]\tvalid_0's multi_logloss: 0.336299\n",
      "[80]\tvalid_0's multi_logloss: 0.336229\n",
      "[81]\tvalid_0's multi_logloss: 0.336497\n",
      "[82]\tvalid_0's multi_logloss: 0.336268\n",
      "[83]\tvalid_0's multi_logloss: 0.336521\n",
      "[84]\tvalid_0's multi_logloss: 0.336908\n",
      "[85]\tvalid_0's multi_logloss: 0.337197\n",
      "[86]\tvalid_0's multi_logloss: 0.337396\n",
      "[87]\tvalid_0's multi_logloss: 0.337318\n",
      "[88]\tvalid_0's multi_logloss: 0.337535\n",
      "[89]\tvalid_0's multi_logloss: 0.337266\n",
      "[90]\tvalid_0's multi_logloss: 0.337346\n",
      "[91]\tvalid_0's multi_logloss: 0.337475\n",
      "[92]\tvalid_0's multi_logloss: 0.337699\n",
      "[93]\tvalid_0's multi_logloss: 0.337878\n",
      "[94]\tvalid_0's multi_logloss: 0.337874\n",
      "[95]\tvalid_0's multi_logloss: 0.337984\n",
      "[96]\tvalid_0's multi_logloss: 0.33828\n",
      "[97]\tvalid_0's multi_logloss: 0.338536\n",
      "[98]\tvalid_0's multi_logloss: 0.338746\n",
      "[99]\tvalid_0's multi_logloss: 0.338966\n",
      "[100]\tvalid_0's multi_logloss: 0.338866\n",
      "[101]\tvalid_0's multi_logloss: 0.339012\n",
      "Early stopping, best iteration is:\n",
      "[1]\tvalid_0's multi_logloss: 0.317017\n",
      "score :  0.9475\n"
     ]
    }
   ],
   "source": [
    "# lightgbm模型 lightgbm (***)\n",
    "# 数据2：分类\n",
    "\n",
    "import lightgbm\n",
    "X_train, X_test, y_train, y_test = train_test_split(train, target, test_size=0.4, random_state=0)\n",
    "X_test, X_valid, y_test, y_valid = train_test_split(X_test, y_test, test_size=0.5, random_state=0)\n",
    "\n",
    "clf = lightgbm\n",
    "train_matrix = clf.Dataset(X_train, label=y_train)\n",
    "test_matrix = clf.Dataset(X_test, label=y_test)\n",
    "params = {'boosting_type': 'gbdt', #'boosting_type': 'dart',\n",
    "          'objective': 'multiclass', 'metric': 'multi_logloss', 'min_child_weight': 1.5, 'num_leaves': 2**5,\n",
    "          'lambda_l2': 10, 'subsample': 0.7, 'colsample_bytree': 0.7, 'colsample_bylevel': 0.7, 'learning_rate': 0.03,\n",
    "          'tree_method': 'exact', 'seed': 2017, \"num_class\": 2, 'silent': True, 'verbose': -1}\n",
    "# params = {'boosting_type': 'gbdt', 'objective': 'binary', 'eval_metric': 'auc', 'n_estimators': 200, 'max_depth': 5, 'num_leaves': 40, \n",
    "#     'max_bin': 400, 'min_data_in_leaf': 120, 'learning_rate': 0.1, 'lambda_l1': 1e-05, 'lambda_l2': 1e-05, 'min_split_gain': 0.0, \n",
    "#     'bagging_freq': 4, 'bagging_fraction': 0.9, 'feature_fraction': 0.6, 'seed': 1024, 'n_thread': 12 }\n",
    "# lightgbm.LGBMClassifier(params)\n",
    "num_round = 10000\n",
    "early_stopping_rounds = 100\n",
    "model = clf.train(params, train_matrix, num_round, valid_sets=test_matrix, early_stopping_rounds=early_stopping_rounds)\n",
    "pre= model.predict(X_valid,num_iteration=model.best_iteration)\n",
    "print('score : ', np.mean((pre[:,1]>0.5)==y_valid))\n",
    "\n",
    "# 树模型可视化\n",
    "ax = clf.plot_tree(clf, tree_index=1, figsize=(20, 8), show_info=['split_gain'])\n",
    "plt.show();"
   ]
  },
  {
   "cell_type": "code",
   "execution_count": 2,
   "outputs": [
    {
     "name": "stdout",
     "output_type": "stream",
     "text": [
      "第1天:\n",
      "[('mean_5_day_nopromo', 720.3852458000183), ('mean_10_dow6', 691.1623229980469), ('mean_15_dow0', 506.5112819671631), ('mean_90_day', 475.885986328125), ('sum_20_dow0', 441.0540008544922), ('mean_15_dow1', 433.49130058288574), ('mean_21_day', 374.1997003555298), ('max_5_dow0', 311.4636001586914), ('mean_15_dow6', 293.37929916381836), ('nopromo_counts_365_2017', 284.44779205322266), ('mean_20_dow0', 265.6749954223633), ('sum_21_day', 229.8470001220703), ('sum_15_dow1', 221.3560028076172), ('nopromo_counts_90_2017', 201.47849655151367), ('mean_5_dow3', 189.92980098724365), ('mean_7_day', 179.37160110473633), ('day_2_hist_nopromo', 158.1943016052246), ('mean_5_dow6', 151.14758729934692), ('mean_5_dow0', 150.447998046875), ('mean_20_dow6', 149.14500427246094)]\n",
      "lightGbm mse0:   0.3521323912927727 \n",
      "\n",
      "第2天:\n",
      "[('mean_14_day_nopromo', 837.6064910888672), ('mean_5_dow6', 475.66400146484375), ('mean_15_dow1', 467.7904052734375), ('mean_5_dow3', 431.04259490966797), ('mean_30_day_nopromo', 385.22300720214844), ('mean_5_dow0', 352.0635070800781), ('sum_15_dow1', 277.93800354003906), ('day_7_hist', 258.7768964767456), ('mean_10_dow1', 253.433198928833), ('nopromo_counts_14_2017', 244.04139232635498), ('mean_5_dow2', 242.37459564208984), ('median_90_day', 196.50100708007812), ('mean_60_day_nopromo', 185.06099891662598), ('sum_20_dow6', 152.26499938964844), ('mean_5_day_nopromo', 148.92229461669922), ('median_5_dow3', 147.99120140075684), ('median_7_day_nopromo', 134.44839668273926), ('mean_7_day_nopromo', 104.31849670410156), ('sum_10_dow6', 99.8895034790039), ('nopromo_counts_90_2017', 83.08769989013672)]\n",
      "lightGbm mse1:   0.3802255050338434 \n",
      "\n",
      "第3天:\n",
      "[('max_5_dow2', 1630.7356910705566), ('mean_20_dow2', 1379.3408966064453), ('mean_5_day_nopromo', 979.6358051300049), ('day_5_hist', 531.1930961608887), ('mean_15_dow2', 467.89563512802124), ('mean_10_dow6', 347.5496997833252), ('mean_5_dow6', 309.21708059310913), ('mean_5_dow2', 256.93049716949463), ('mean_5_dow0', 221.60680389404297), ('item_nbr_5_0_max', 217.30370330810547), ('mean_30_day_nopromo', 178.47570037841797), ('sum_20_dow6', 174.0030059814453), ('sum_20_dow2', 151.4239959716797), ('item_nbr_7_0_max', 141.97847080230713), ('median_10_dow3', 135.44700622558594), ('max_5_dow6', 126.97716951370239), ('nopromo_counts_14_2017', 125.24209976196289), ('sum_10_dow6', 100.6500015258789), ('std_14_day_nopromo', 82.89652967453003), ('max_20_dow3', 78.48029899597168)]\n",
      "lightGbm mse2:   0.41625496002294143 \n",
      "\n",
      "第4天:\n",
      "[('mean_10_dow3', 2018.211503982544), ('mean_5_dow3', 718.5390949249268), ('mean_5_day_nopromo', 540.1765937805176), ('mean_5_dow4', 451.3376703262329), ('sum_5_dow3', 219.35050201416016), ('nopromo_counts_60_2017', 204.36729526519775), ('mean_5_dow0', 202.21429824829102), ('nopromo_counts_21_2017', 191.29810523986816), ('mean_10_dow4', 188.28279781341553), ('max_3_day_nopromo', 169.69829940795898), ('mean_15_dow3', 150.68499755859375), ('median_10_dow3', 148.7310028076172), ('mean_10_dow5', 147.64080238342285), ('sum_5_dow4', 143.90470123291016), ('mean_14_day_nopromo', 128.843994140625), ('mean_30_day', 125.6240005493164), ('median_5_day_nopromo', 119.43760108947754), ('nopromo_counts_30_2017', 104.65456819534302), ('max_10_dow3', 103.82450103759766), ('median_20_dow5', 97.02347040176392)]\n",
      "lightGbm mse3:   0.36372564081971037 \n",
      "\n",
      "第5天:\n",
      "[('mean_365_day_nopromo', 398.7806053161621), ('median_7_day', 227.08369636535645), ('mean_5_dow2', 172.88226127624512), ('mean_10_dow5', 157.8981113433838), ('mean_10_dow2', 155.7729034423828), ('mean_365_day', 144.77800369262695), ('median_10_dow3', 129.6072998046875), ('mean_10_dow4', 126.66211080551147), ('mean_20_dow5', 123.04970169067383), ('sum_20_dow4', 96.65410709381104), ('median_14_day', 95.80729675292969), ('day_6_hist_nopromo', 93.32626914978027), ('median_30_day', 88.83039855957031), ('max_5_dow5', 88.6352014541626), ('sum_150_day', 86.93150329589844), ('mean_10_dow3', 81.24390029907227), ('mean_20_dow4', 79.05219841003418), ('max_60_day_nopromo', 77.11731052398682), ('item_nbr_365_0_mean', 72.23989963531494), ('max_5_dow3', 69.92382955551147)]\n",
      "lightGbm mse4:   0.3007777704569458 \n",
      "\n",
      "第6天:\n",
      "[('mean_5_dow5', 835.5081901550293), ('mean_20_dow6', 502.36798095703125), ('mean_5_day_nopromo', 360.17599868774414), ('median_5_dow1', 347.9199905395508), ('sum_20_dow3', 303.61600494384766), ('day_1_hist', 296.1633014678955), ('max_5_dow1', 239.3842010498047), ('mean_5_dow0', 229.04079818725586), ('mean_20_dow5', 219.27801132202148), ('mean_15_dow6', 207.08280563354492), ('sum_20_dow6', 200.90899658203125), ('mean_30_day_nopromo', 196.49639892578125), ('nopromo_counts_365_2017', 192.99558639526367), ('sum_15_dow1', 163.9759979248047), ('mean_7_day_nopromo', 160.468994140625), ('median_20_dow5', 152.6939992904663), ('median_15_dow5', 148.88300704956055), ('median_365_day', 144.75370025634766), ('mean_365_day_nopromo', 140.61199951171875), ('mean_10_dow1', 134.56370162963867)]\n",
      "lightGbm mse5:   0.3930340982744688 \n",
      "\n",
      "第7天:\n",
      "[('mean_5_dow0', 1066.2893056869507), ('mean_30_day_nopromo', 900.8664093017578), ('mean_14_day_nopromo', 562.7765007019043), ('mean_5_dow5', 507.7863998413086), ('mean_7_day_nopromo', 428.6403408050537), ('skew_90_day_nopromo', 314.89549446105957), ('sum_5_dow0', 263.72300720214844), ('mean_15_dow3', 219.97480392456055), ('median_10_dow6', 204.3713812828064), ('mean_10_dow6', 178.89750289916992), ('std_5_dow0', 178.01320147514343), ('median_10_dow0', 162.98950386047363), ('mean_90_day_nopromo', 159.4070110321045), ('mean_21_day_nopromo', 137.8820037841797), ('nopromo_counts_14_2017', 136.26589965820312), ('mean_60_day_nopromo', 115.91698884963989), ('day_7_hist', 115.43529796600342), ('item_nbr_90_0_max', 106.35200214385986), ('sum_5_dow6', 101.50599670410156), ('min_5_day_nopromo', 82.96129989624023)]\n",
      "lightGbm mse6:   0.4273987126031383 \n",
      "\n",
      "第8天:\n",
      "[('mean_5_dow0', 786.7649984359741), ('sum_20_dow3', 485.25379180908203), ('nopromo_counts_90_2017', 469.13731384277344), ('mean_14_day_nopromo', 424.26630210876465), ('mean_10_dow1', 414.4314007759094), ('mean_60_day', 386.5229949951172), ('mean_20_dow0', 279.1160626411438), ('mean_10_dow3', 262.3884086608887), ('mean_20_dow3', 248.98849296569824), ('mean_15_dow3', 238.45849609375), ('nopromo_counts_60_2017', 231.86420249938965), ('median_10_dow3', 210.62349319458008), ('median_15_dow0', 208.01600646972656), ('mean_60_day_nopromo', 199.09679412841797), ('nopromo_counts_14_2017', 184.15160274505615), ('day_5_hist', 163.4815034866333), ('day_7_hist', 159.49462127685547), ('mean_5_dow6', 158.0428009033203), ('max_20_dow1', 108.25220012664795), ('median_10_dow6', 107.91971015930176)]\n",
      "lightGbm mse7:   0.4205397796004493 \n",
      "\n",
      "第9天:\n",
      "[('mean_10_dow1', 578.2169189453125), ('median_10_dow1', 493.8792037963867), ('mean_20_dow1', 415.0459976196289), ('sum_10_dow1', 320.3097972869873), ('median_5_dow3', 292.3363027572632), ('mean_20_dow2', 209.41230010986328), ('mean_15_dow2', 199.1212043762207), ('mean_30_day', 163.75770092010498), ('mean_60_day_nopromo', 152.24600219726562), ('mean_7_day', 150.6914005279541), ('min_5_dow1', 147.82865047454834), ('mean_20_dow6', 146.21400451660156), ('mean_10_dow5', 145.16832971572876), ('sum_5_dow1', 144.40499877929688), ('mean_10_dow2', 140.46660232543945), ('median_365_day', 135.89869689941406), ('median_5_day_nopromo', 125.12950134277344), ('median_10_dow2', 121.01599884033203), ('mean_21_day_nopromo', 120.24989700317383), ('mean_5_dow1', 116.26870346069336)]\n",
      "lightGbm mse8:   0.38008301395029614 \n",
      "\n",
      "第10天:\n",
      "[('mean_15_dow2', 1902.7278079986572), ('mean_20_dow2', 741.4533929824829), ('mean_10_dow2', 560.4538898468018), ('day_5_hist_nopromo', 513.6895799636841), ('mean_5_dow6', 503.4049987792969), ('median_10_dow2', 419.0491347312927), ('mean_10_dow3', 308.3760051727295), ('sum_20_dow2', 306.80280113220215), ('sum_15_dow2', 226.16929626464844), ('mean_21_day_nopromo', 210.28860092163086), ('sum_5_dow6', 166.49519729614258), ('sum_10_dow2', 144.97349548339844), ('mean_7_day_nopromo', 137.8984513282776), ('mean_5_day_nopromo', 122.30839920043945), ('mean_15_dow6', 120.94499969482422), ('max_5_dow2', 113.11664867401123), ('sum_21_day_nopromo', 83.88244915008545), ('mean_10_dow6', 78.39142084121704), ('mean_60_day_nopromo', 75.36899948120117), ('mean_5_dow0', 68.3304591178894)]\n",
      "lightGbm mse9:   0.4620288575364493 \n",
      "\n",
      "第11天:\n",
      "[('mean_15_dow3', 711.7960977554321), ('mean_30_day_nopromo', 598.053897857666), ('mean_10_dow6', 502.4497013092041), ('nopromo_counts_90_2017', 469.90199851989746), ('median_20_dow3', 399.1880006790161), ('sum_15_dow3', 306.03900146484375), ('max_5_dow3', 301.31763648986816), ('mean_20_dow3', 198.87320518493652), ('sum_20_dow3', 183.29029655456543), ('mean_150_decay_1', 172.9069061279297), ('sum_30_day', 166.1320037841797), ('max_14_day', 161.89989948272705), ('mean_15_dow4', 149.4209041595459), ('sum_15_dow4', 147.31129837036133), ('mean_5_dow6', 146.5792989730835), ('mean_150_day_nopromo', 133.83200073242188), ('mean_21_day_nopromo', 117.15040302276611), ('mean_30_decay_1', 102.34700012207031), ('sum_60_day', 100.35600280761719), ('mean_30_day', 88.18579864501953)]\n",
      "lightGbm mse10:   0.374985752392261 \n",
      "\n",
      "第12天:\n",
      "[('mean_5_dow5', 299.4409008026123), ('mean_20_dow4', 283.15611386299133), ('mean_60_day', 227.239501953125), ('mean_14_decay_1', 225.28949737548828), ('mean_10_dow4', 216.40180206298828), ('mean_5_dow3', 151.6102533340454), ('mean_20_dow5', 138.3861837387085), ('mean_21_decay_1', 110.2031021118164), ('mean_150_decay_1', 96.34760284423828), ('skew_150_day_nopromo', 94.88481903076172), ('max_5_dow3', 87.18765830993652), ('median_20_dow6', 75.83490180969238), ('sum_5_dow5', 72.71080207824707), ('median_3_day_nopromo', 63.33295965194702), ('mean_10_dow5', 58.374799728393555), ('max_10_dow1', 45.80989933013916), ('item_nbr_365_0_median', 40.26573896408081), ('mean_10_dow3', 36.98500061035156), ('item_nbr_90_0_mean', 36.7209997177124), ('max_5_dow5', 36.23592948913574)]\n",
      "lightGbm mse11:   0.31250332737117126 \n",
      "\n",
      "第13天:\n",
      "[('mean_10_dow5', 1208.058795928955), ('mean_15_dow5', 702.9712982177734), ('mean_15_dow6', 563.7337989807129), ('nopromo_counts_365_2017', 434.30480670928955), ('nopromo_counts_21_2017', 385.15313816070557), ('mean_5_dow5', 293.1894989013672), ('item_nbr_21_0_mean', 272.26140308380127), ('mean_20_dow5', 251.45479202270508), ('mean_15_dow0', 245.6586036682129), ('mean_15_dow1', 239.68009567260742), ('nopromo_counts_90_2017', 220.2689971923828), ('sum_15_dow5', 183.01699829101562), ('skew_150_day_nopromo', 179.46609497070312), ('mean_90_day', 141.5590057373047), ('mean_20_dow0', 137.6179962158203), ('nopromo_counts_150_2017', 135.9854326248169), ('sum_15_dow6', 119.40299987792969), ('skew_150_day', 113.16720008850098), ('mean_5_dow3', 101.50299835205078), ('day_7_hist_nopromo', 99.17010116577148)]\n",
      "lightGbm mse12:   0.4103588767130692 \n",
      "\n",
      "第14天:\n",
      "[('mean_15_dow6', 1736.7698860168457), ('mean_21_day_nopromo', 712.811393737793), ('median_10_dow6', 692.3219985961914), ('mean_20_dow6', 517.6533966064453), ('mean_15_dow5', 333.9789009094238), ('mean_10_dow3', 310.1634063720703), ('max_30_day_nopromo', 268.71730041503906), ('mean_7_day', 249.91050338745117), ('day_1_hist_nopromo', 236.6598801612854), ('max_14_day', 177.8447036743164), ('mean_3_day_nopromo', 159.67730140686035), ('mean_30_day', 154.16769981384277), ('median_150_day', 138.03599548339844), ('max_5_dow1', 134.3643980026245), ('mean_15_dow3', 128.39329624176025), ('mean_5_dow0', 126.52400207519531), ('mean_150_decay_1', 100.65110111236572), ('sum_10_dow6', 99.47916603088379), ('nopromo_counts_21_2017', 90.01902198791504), ('mean_10_dow6', 88.89588975906372)]\n",
      "lightGbm mse13:   0.45189668360942087 \n",
      "\n",
      "第15天:\n",
      "[('mean_5_dow0', 734.0249309539795), ('mean_10_dow0', 666.4844093322754), ('mean_20_dow0', 600.6020021438599), ('mean_30_day_nopromo', 491.3322067260742), ('sum_5_dow0', 334.0660037994385), ('mean_15_dow1', 310.5540008544922), ('mean_10_dow6', 280.7329921722412), ('mean_150_day_nopromo', 265.427001953125), ('mean_7_day', 217.44280242919922), ('mean_20_dow6', 208.3622055053711), ('max_10_dow0', 206.2419033050537), ('mean_15_dow6', 198.25599670410156), ('mean_21_day', 192.15080165863037), ('sum_15_dow0', 156.01800537109375), ('mean_15_dow0', 150.5658507347107), ('median_30_day_nopromo', 146.4290008544922), ('nopromo_counts_60_2017', 139.0753583908081), ('mean_10_dow5', 119.5719985961914), ('mean_7_decay_2', 114.81370162963867), ('sum_5_dow6', 102.70840072631836)]\n",
      "lightGbm mse14:   0.4334996594751623 \n",
      "\n",
      "第16天:\n",
      "[('mean_60_day_nopromo', 1610.4726028442383), ('mean_10_dow3', 593.9307060241699), ('mean_10_dow1', 481.00943660736084), ('mean_21_day', 462.7525062561035), ('nopromo_counts_30_2017', 330.9526062011719), ('mean_90_day_nopromo', 254.11740493774414), ('median_20_dow1', 207.64680099487305), ('mean_30_day', 191.3070068359375), ('max_14_day', 186.84640312194824), ('mean_5_dow0', 169.6942377090454), ('mean_5_dow5', 162.80649757385254), ('mean_10_dow0', 127.88209915161133), ('mean_21_day_nopromo', 123.85900115966797), ('sum_10_dow1', 123.49570274353027), ('median_5_dow1', 119.87030220031738), ('mean_5_dow1', 106.31070041656494), ('mean_5_dow2', 101.45635414123535), ('max_5_day_nopromo', 90.50080108642578), ('sum_10_dow5', 87.26969909667969), ('sum_20_dow3', 85.19020080566406)]\n",
      "lightGbm mse15:   0.44672814477700484 \n"
     ]
    }
   ],
   "source": [
    "# lightgbm: \n",
    "# 数据集4：时间序列-kaggle销量预测\n",
    "\n",
    "import lightgbm as lgb\n",
    "import sys, os\n",
    "from sklearn.metrics import mean_squared_error\n",
    "from tqdm import tqdm\n",
    "import numpy as np\n",
    "import warnings\n",
    "warnings.filterwarnings(\"ignore\")\n",
    "%matplotlib inline\n",
    "sys.stdout = sys.stdout\n",
    "\n",
    "params = {'num_leaves': 80, 'objective': 'regression', 'min_data_in_leaf': 200, 'learning_rate': 0.02, 'feature_fraction': 0.8, 'bagging_fraction': 0.7,\n",
    "    'bagging_freq': 1, 'metric': 'l2', 'n_jobs': 24, 'num_threads': -1, 'verbose': -1}\n",
    "MAX_ROUNDS = 100\n",
    "def run(i, X_train, y_train, X_val, y_val, train_weight, val_weight):\n",
    "    _original_stdout = sys.stdout # 输出重定向（设定）\n",
    "    sys.stdout = open(os.devnull, 'w') # 输出重定向（设定）\n",
    "    dtrain = lgb.Dataset(X_train, label=y_train, weight=train_weight)\n",
    "    dval = lgb.Dataset(X_val, label=y_val, reference=dtrain, weight=val_weight)\n",
    "    bst = lgb.train(params, dtrain, num_boost_round=MAX_ROUNDS, valid_sets=[dtrain, dval], verbose_eval=100)\n",
    "    val_pred = bst.predict(X_val, num_iteration=bst.best_iteration or MAX_ROUNDS)\n",
    "    score = mean_squared_error(y_val, val_pred)\n",
    "    sys.stdout.close() # 输出重定向（还原）\n",
    "    sys.stdout = _original_stdout # 输出重定向（还原）\n",
    "    print(\"第\"+str(i+1)+\"天:\")\n",
    "    print(list(sorted(zip(X_train.columns, bst.feature_importance(\"gain\")), key=lambda x: x[1], reverse=True))[:20])\n",
    "    print(\"lightGbm mse\"+str(i)+\":   \" + str(score),'\\n\\n')\n",
    "num = 1000\n",
    "for i in range(16):\n",
    "    run(i, X_train.iloc[:num,:], y_train[:num,i], X_val.iloc[:num,:], y_val[:num,i], train_weight[:num], val_weight[:num])\n"
   ],
   "metadata": {
    "collapsed": false,
    "ExecuteTime": {
     "end_time": "2023-08-26T03:25:36.620590Z",
     "start_time": "2023-08-26T03:25:29.608071Z"
    }
   },
   "id": "dfc2c935f2ce637a"
  },
  {
   "cell_type": "code",
   "execution_count": 12,
   "outputs": [
    {
     "name": "stdout",
     "output_type": "stream",
     "text": [
      "(3000, 1, 1538) (3000, 16) (1000, 1, 1538) (1000, 16) 3000\n",
      "start run LSTM model：\n",
      "\n",
      "Epoch 17: ReduceLROnPlateau reducing learning rate to 0.0005000000237487257.\n",
      "Epoch 17: early stopping\n",
      "第1天:\n",
      "32/32 [==============================] - 0s 2ms/step - loss: 0.3879 - mse: 0.3879\n",
      "[0.3878785967826843, 0.3878785967826843]\n",
      "32/32 [==============================] - 0s 2ms/step\n",
      "\n",
      "Epoch 4: ReduceLROnPlateau reducing learning rate to 0.0005000000237487257.\n",
      "Epoch 4: early stopping\n",
      "第2天:\n",
      "32/32 [==============================] - 0s 2ms/step - loss: 0.5439 - mse: 0.5439\n",
      "[0.5439302921295166, 0.5439302921295166]\n",
      "32/32 [==============================] - 0s 1ms/step\n",
      "\n",
      "Epoch 14: ReduceLROnPlateau reducing learning rate to 0.0005000000237487257.\n",
      "Epoch 14: early stopping\n",
      "第3天:\n",
      "32/32 [==============================] - 0s 2ms/step - loss: 0.5067 - mse: 0.5067\n",
      "[0.5066713690757751, 0.5066713690757751]\n",
      "32/32 [==============================] - 0s 2ms/step\n",
      "\n",
      "Epoch 4: ReduceLROnPlateau reducing learning rate to 0.0005000000237487257.\n",
      "Epoch 4: early stopping\n",
      "第4天:\n",
      "32/32 [==============================] - 0s 2ms/step - loss: 0.4859 - mse: 0.4859\n",
      "[0.48592299222946167, 0.48592299222946167]\n",
      "32/32 [==============================] - 0s 1ms/step\n",
      "\n",
      "Epoch 14: ReduceLROnPlateau reducing learning rate to 0.0005000000237487257.\n",
      "Epoch 14: early stopping\n",
      "第5天:\n",
      "32/32 [==============================] - 0s 2ms/step - loss: 0.2969 - mse: 0.2969\n",
      "[0.2969060242176056, 0.2969060242176056]\n",
      "32/32 [==============================] - 0s 1ms/step\n",
      "\n",
      "Epoch 7: ReduceLROnPlateau reducing learning rate to 0.0005000000237487257.\n",
      "Epoch 7: early stopping\n",
      "第6天:\n",
      "32/32 [==============================] - 0s 2ms/step - loss: 0.4136 - mse: 0.4136\n",
      "[0.4135777950286865, 0.4135777950286865]\n",
      "32/32 [==============================] - 0s 2ms/step\n",
      "\n",
      "Epoch 23: ReduceLROnPlateau reducing learning rate to 0.0005000000237487257.\n",
      "Epoch 23: early stopping\n",
      "第7天:\n",
      "32/32 [==============================] - 0s 2ms/step - loss: 0.4515 - mse: 0.4515\n",
      "[0.45153000950813293, 0.45153000950813293]\n",
      "32/32 [==============================] - 0s 1ms/step\n",
      "\n",
      "Epoch 4: ReduceLROnPlateau reducing learning rate to 0.0005000000237487257.\n",
      "Epoch 4: early stopping\n",
      "第8天:\n",
      "32/32 [==============================] - 0s 2ms/step - loss: 0.6340 - mse: 0.6340\n",
      "[0.6340441107749939, 0.6340441107749939]\n",
      "32/32 [==============================] - 0s 1ms/step\n",
      "\n",
      "Epoch 17: ReduceLROnPlateau reducing learning rate to 0.0005000000237487257.\n",
      "Epoch 17: early stopping\n",
      "第9天:\n",
      "32/32 [==============================] - 0s 2ms/step - loss: 0.4080 - mse: 0.4080\n",
      "[0.40795865654945374, 0.40795865654945374]\n",
      "32/32 [==============================] - 1s 2ms/step\n",
      "\n",
      "Epoch 25: ReduceLROnPlateau reducing learning rate to 0.0005000000237487257.\n",
      "Epoch 25: early stopping\n",
      "第10天:\n",
      "32/32 [==============================] - 0s 2ms/step - loss: 0.4714 - mse: 0.4714\n",
      "[0.4713832139968872, 0.4713832139968872]\n",
      "32/32 [==============================] - 0s 2ms/step\n",
      "\n",
      "Epoch 18: ReduceLROnPlateau reducing learning rate to 0.0005000000237487257.\n",
      "Epoch 18: early stopping\n",
      "第11天:\n",
      "32/32 [==============================] - 0s 2ms/step - loss: 0.3780 - mse: 0.3780\n",
      "[0.3779761791229248, 0.3779761791229248]\n",
      "32/32 [==============================] - 0s 2ms/step\n",
      "\n",
      "Epoch 14: ReduceLROnPlateau reducing learning rate to 0.0005000000237487257.\n",
      "Epoch 14: early stopping\n",
      "第12天:\n",
      "32/32 [==============================] - 0s 2ms/step - loss: 0.3213 - mse: 0.3213\n",
      "[0.32125720381736755, 0.32125720381736755]\n",
      "32/32 [==============================] - 0s 2ms/step\n",
      "\n",
      "Epoch 24: ReduceLROnPlateau reducing learning rate to 0.0005000000237487257.\n",
      "Epoch 24: early stopping\n",
      "第13天:\n",
      "32/32 [==============================] - 0s 2ms/step - loss: 0.4329 - mse: 0.4329\n",
      "[0.43289700150489807, 0.43289700150489807]\n",
      "32/32 [==============================] - 0s 2ms/step\n",
      "\n",
      "Epoch 10: ReduceLROnPlateau reducing learning rate to 0.0005000000237487257.\n",
      "Epoch 10: early stopping\n",
      "第14天:\n",
      "32/32 [==============================] - 0s 2ms/step - loss: 0.4827 - mse: 0.4827\n",
      "[0.48274028301239014, 0.48274028301239014]\n",
      "32/32 [==============================] - 0s 2ms/step\n",
      "\n",
      "Epoch 45: ReduceLROnPlateau reducing learning rate to 0.0005000000237487257.\n",
      "Epoch 45: early stopping\n",
      "第15天:\n",
      "32/32 [==============================] - 0s 2ms/step - loss: 0.4178 - mse: 0.4178\n",
      "[0.417790949344635, 0.417790949344635]\n",
      "32/32 [==============================] - 0s 1ms/step\n",
      "\n",
      "Epoch 5: ReduceLROnPlateau reducing learning rate to 0.0005000000237487257.\n",
      "Epoch 5: early stopping\n",
      "第16天:\n",
      "32/32 [==============================] - 0s 2ms/step - loss: 0.4808 - mse: 0.4808\n",
      "[0.48078763484954834, 0.48078763484954834]\n",
      "32/32 [==============================] - 0s 2ms/step\n"
     ]
    }
   ],
   "source": [
    "# keras LSTM: \n",
    "# 数据集4：时间序列-kaggle销量预测（回归）\n",
    "import pandas as pd\n",
    "import numpy as np\n",
    "\n",
    "from keras.models import Sequential\n",
    "from keras.layers import Dense, Dropout, Activation\n",
    "from keras.layers import BatchNormalization\n",
    "from keras.layers import LSTM\n",
    "from keras import callbacks\n",
    "from keras import optimizers\n",
    "from keras.callbacks import ModelCheckpoint, EarlyStopping, ReduceLROnPlateau\n",
    "from tqdm import tqdm\n",
    "\n",
    "from sklearn.preprocessing import StandardScaler\n",
    "scaler = StandardScaler()\n",
    "scaler.fit(pd.concat([X_train, X_val, X_test]))\n",
    "X_train_ = scaler.transform(X_train) # pandas.DataFrame -> numpy.array\n",
    "X_val_ = scaler.transform(X_val) # pandas.DataFrame -> numpy.array\n",
    "X_test_ = scaler.transform(X_test) # pandas.DataFrame -> numpy.array\n",
    "X_train_ = X_train.values.reshape((X_train_.shape[0], 1, X_train.shape[1]))\n",
    "X_test_ = X_test.values.reshape((X_test_.shape[0], 1, X_test.shape[1]))\n",
    "X_val_ = X_val.values.reshape((X_val_.shape[0], 1, X_val.shape[1]))\n",
    "\n",
    "shape_ = X_train_.shape\n",
    "\n",
    "def build_simple_LSTM_model():\n",
    "    model = Sequential()\n",
    "    model.add(LSTM(128, input_shape=(shape_[-2], shape_[-1]), return_sequences=False)) # 1\n",
    "    model.add(BatchNormalization())\n",
    "    model.add(Dropout(0.2))\n",
    "    model.add(Dense(64)) # 2\n",
    "    model.add(Activation(activation=\"relu\"))\n",
    "    model.add(BatchNormalization())\n",
    "    model.add(Dropout(0.2))\n",
    "    model.add(Dense(16)) # 3\n",
    "    model.add(Activation(activation=\"relu\"))\n",
    "    model.add(BatchNormalization())\n",
    "    model.add(Dropout(0.2))\n",
    "    model.add(Dense(1))\n",
    "    model.compile(loss='mse', optimizer='adam', metrics=['mse'])\n",
    "    return model \n",
    "\n",
    "def build_complex_LSTM_model():\n",
    "    model = Sequential()\n",
    "    model.add(LSTM(512, input_shape=(shape_[-2], shape_[-1]), return_sequences=False)) # 1\n",
    "    model.add(BatchNormalization())\n",
    "    model.add(Dropout(.2))\n",
    "    model.add(Dense(256))# 2\n",
    "    model.add(Activation(activation=\"relu\"))\n",
    "    model.add(BatchNormalization())\n",
    "    model.add(Dropout(.1))\n",
    "    model.add(Dense(256)) # 3\n",
    "    model.add(Activation(activation=\"relu\"))\n",
    "    model.add(BatchNormalization())\n",
    "    model.add(Dropout(.1))\n",
    "    model.add(Dense(128)) # 4\n",
    "    model.add(Activation(activation=\"relu\"))\n",
    "    model.add(BatchNormalization())\n",
    "    model.add(Dropout(.05))\n",
    "    model.add(Dense(64)) # 5\n",
    "    model.add(Activation(activation=\"relu\"))\n",
    "    model.add(BatchNormalization())\n",
    "    model.add(Dropout(.05))\n",
    "    model.add(Dense(32)) # 6\n",
    "    model.add(Activation(activation=\"relu\"))\n",
    "    model.add(BatchNormalization())\n",
    "    model.add(Dropout(.05))\n",
    "    model.add(Dense(16)) # 7\n",
    "    model.add(Activation(activation=\"relu\"))\n",
    "    model.add(BatchNormalization())\n",
    "    model.add(Dropout(.05))\n",
    "    model.add(Dense(1))\n",
    "    model.compile(loss='mse', optimizer='adam', metrics=['mse'])\n",
    "    return model\n",
    "\n",
    "def run(i, train_X, train_y, val_X, val_y, train_weight_):\n",
    "    train_y_mean = train_y.mean()\n",
    "    # 编译部分\n",
    "    lstm_model = build_simple_LSTM_model()\n",
    "    # 回调函数\n",
    "    reduce_lr = ReduceLROnPlateau(monitor='val_loss', factor=0.5, patience=3, min_lr=0.0001, verbose=1)\n",
    "    earlystopping = EarlyStopping(monitor='val_loss', min_delta=0.0001, patience=3, verbose=1, mode='min')\n",
    "    # 训练部分\n",
    "    lstm_model.fit(train_X, train_y-train_y_mean, batch_size = 100, epochs = 10, verbose=1, sample_weight=np.array(train_weight_), validation_data=(val_X, val_y-train_y_mean),  callbacks=[reduce_lr, earlystopping], shuffle=True)\n",
    "    pres = lstm_model.predict(val_X)\n",
    "    return pres\n",
    "num = 1000\n",
    "print('start run LSTM model：')\n",
    "for i in tqdm(range(16)):\n",
    "    print(X_train_[:num,:,:].shape, y_train[:num,i].shape, X_val_[:num,:,:].shape, y_val[:num,i].shape, len(train_weight[:num]))\n",
    "    run(i, X_train_[:num,:,:], y_train[:num,i], X_val_[:num,:,:], y_val[:num,i], train_weight[:num])\n"
   ],
   "metadata": {
    "collapsed": false,
    "ExecuteTime": {
     "end_time": "2023-08-26T06:08:44.249422Z",
     "start_time": "2023-08-26T06:07:19.972210Z"
    }
   },
   "id": "342f44a84d1b8d9b"
  },
  {
   "cell_type": "code",
   "execution_count": 13,
   "outputs": [
    {
     "name": "stdout",
     "output_type": "stream",
     "text": [
      "(3000, 1, 1538) (3000, 16) (1000, 1, 1538) (1000, 16) 3000\n",
      "start run WaveNet model：\n",
      "\n",
      "Epoch 19: ReduceLROnPlateau reducing learning rate to 0.0005000000237487257.\n",
      "Epoch 19: early stopping\n",
      "第1天:\n",
      "32/32 [==============================] - 1s 4ms/step - loss: 1.2952 - mse: 1.2952\n",
      "[1.295210361480713, 1.295210361480713]\n",
      "32/32 [==============================] - 1s 4ms/step\n",
      "\n",
      "Epoch 12: ReduceLROnPlateau reducing learning rate to 0.0005000000237487257.\n",
      "Epoch 12: early stopping\n",
      "第2天:\n",
      "32/32 [==============================] - 1s 6ms/step - loss: 1.1251 - mse: 1.1251\n",
      "[1.1250771284103394, 1.1250771284103394]\n",
      "32/32 [==============================] - 1s 4ms/step\n",
      "\n",
      "Epoch 5: ReduceLROnPlateau reducing learning rate to 0.0005000000237487257.\n",
      "Epoch 5: early stopping\n",
      "第3天:\n",
      "32/32 [==============================] - 1s 6ms/step - loss: 1.0351 - mse: 1.0351\n",
      "[1.0351227521896362, 1.0351227521896362]\n",
      "32/32 [==============================] - 1s 8ms/step\n",
      "\n",
      "Epoch 19: ReduceLROnPlateau reducing learning rate to 0.0005000000237487257.\n",
      "Epoch 19: early stopping\n",
      "第4天:\n",
      "32/32 [==============================] - 1s 4ms/step - loss: 1.1844 - mse: 1.1844\n",
      "[1.1844120025634766, 1.1844120025634766]\n",
      "32/32 [==============================] - 1s 5ms/step\n",
      "\n",
      "Epoch 11: ReduceLROnPlateau reducing learning rate to 0.0005000000237487257.\n",
      "Epoch 11: early stopping\n",
      "第5天:\n",
      "32/32 [==============================] - 1s 11ms/step - loss: 0.6954 - mse: 0.6954\n",
      "[0.6954020857810974, 0.6954020857810974]\n",
      "32/32 [==============================] - 1s 4ms/step\n",
      "\n",
      "Epoch 21: ReduceLROnPlateau reducing learning rate to 0.0005000000237487257.\n",
      "Epoch 21: early stopping\n",
      "第6天:\n",
      "32/32 [==============================] - 1s 8ms/step - loss: 1.1891 - mse: 1.1891\n",
      "[1.1891140937805176, 1.1891140937805176]\n",
      "32/32 [==============================] - 1s 9ms/step\n",
      "\n",
      "Epoch 22: ReduceLROnPlateau reducing learning rate to 0.0005000000237487257.\n",
      "Epoch 22: early stopping\n",
      "第7天:\n",
      "32/32 [==============================] - 1s 5ms/step - loss: 1.3329 - mse: 1.3329\n",
      "[1.332924485206604, 1.332924485206604]\n",
      "32/32 [==============================] - 1s 5ms/step\n",
      "\n",
      "Epoch 34: ReduceLROnPlateau reducing learning rate to 0.0005000000237487257.\n",
      "Epoch 34: early stopping\n",
      "第8天:\n",
      "32/32 [==============================] - 1s 3ms/step - loss: 1.3831 - mse: 1.3831\n",
      "[1.3831197023391724, 1.3831197023391724]\n",
      "32/32 [==============================] - 0s 3ms/step\n",
      "\n",
      "Epoch 19: ReduceLROnPlateau reducing learning rate to 0.0005000000237487257.\n",
      "Epoch 19: early stopping\n",
      "第9天:\n",
      "32/32 [==============================] - 1s 3ms/step - loss: 1.1044 - mse: 1.1044\n",
      "[1.1044481992721558, 1.1044481992721558]\n",
      "32/32 [==============================] - 0s 3ms/step\n",
      "\n",
      "Epoch 21: ReduceLROnPlateau reducing learning rate to 0.0005000000237487257.\n",
      "Epoch 21: early stopping\n",
      "第10天:\n",
      "32/32 [==============================] - 1s 5ms/step - loss: 1.2657 - mse: 1.2657\n",
      "[1.2657129764556885, 1.2657129764556885]\n",
      "32/32 [==============================] - 1s 5ms/step\n",
      "\n",
      "Epoch 11: ReduceLROnPlateau reducing learning rate to 0.0005000000237487257.\n",
      "Epoch 11: early stopping\n",
      "第11天:\n",
      "32/32 [==============================] - 1s 4ms/step - loss: 1.2075 - mse: 1.2075\n",
      "[1.2074558734893799, 1.2074558734893799]\n",
      "32/32 [==============================] - 1s 4ms/step\n",
      "\n",
      "Epoch 15: ReduceLROnPlateau reducing learning rate to 0.0005000000237487257.\n",
      "Epoch 15: early stopping\n",
      "第12天:\n",
      "32/32 [==============================] - 1s 4ms/step - loss: 0.6276 - mse: 0.6276\n",
      "[0.627592921257019, 0.627592921257019]\n",
      "32/32 [==============================] - 0s 3ms/step\n",
      "\n",
      "Epoch 30: ReduceLROnPlateau reducing learning rate to 0.0005000000237487257.\n",
      "Epoch 30: early stopping\n",
      "第13天:\n",
      "32/32 [==============================] - 1s 8ms/step - loss: 1.2224 - mse: 1.2224\n",
      "[1.2224352359771729, 1.2224352359771729]\n",
      "32/32 [==============================] - 1s 3ms/step\n",
      "\n",
      "Epoch 14: ReduceLROnPlateau reducing learning rate to 0.0005000000237487257.\n",
      "Epoch 14: early stopping\n",
      "第14天:\n",
      "32/32 [==============================] - 1s 4ms/step - loss: 1.2074 - mse: 1.2074\n",
      "[1.2073646783828735, 1.2073646783828735]\n",
      "32/32 [==============================] - 0s 3ms/step\n",
      "\n",
      "Epoch 8: ReduceLROnPlateau reducing learning rate to 0.0005000000237487257.\n",
      "Epoch 8: early stopping\n",
      "第15天:\n",
      "32/32 [==============================] - 1s 6ms/step - loss: 1.0921 - mse: 1.0921\n",
      "[1.092122197151184, 1.092122197151184]\n",
      "32/32 [==============================] - 2s 6ms/step\n",
      "\n",
      "Epoch 6: ReduceLROnPlateau reducing learning rate to 0.0005000000237487257.\n",
      "Epoch 6: early stopping\n",
      "第16天:\n",
      "32/32 [==============================] - 1s 6ms/step - loss: 0.8840 - mse: 0.8840\n",
      "[0.8840053081512451, 0.8840053081512451]\n",
      "32/32 [==============================] - 1s 9ms/step\n"
     ]
    }
   ],
   "source": [
    "# keras Wavenet: \n",
    "# 数据集4：时间序列-kaggle销量预测\n",
    "\n",
    "import pandas as pd\n",
    "import numpy as np\n",
    "from sklearn.metrics import mean_squared_error\n",
    "from sklearn.preprocessing import LabelEncoder\n",
    "import lightgbm as lgb\n",
    "from tqdm import tqdm\n",
    "from datetime import date, timedelta\n",
    "from keras.models import Sequential\n",
    "from keras.layers import Dense, Dropout, Activation\n",
    "from keras.layers import BatchNormalization\n",
    "from keras.layers import LSTM,Conv1D, Input, Dense, Add, Multiply\n",
    "from keras import callbacks\n",
    "from keras import optimizers,models\n",
    "from keras.callbacks import ModelCheckpoint, EarlyStopping, ReduceLROnPlateau\n",
    "\n",
    "import warnings\n",
    "warnings.filterwarnings('ignore')\n",
    "\n",
    "\n",
    "def build_Wavenet_model(shape_):\n",
    "    def wave_block(x, filters, kernel_size, n):\n",
    "        dilation_rates = [2**i for i in range(n)]\n",
    "        x = Conv1D(filters = filters, kernel_size = 1, padding = 'same')(x)\n",
    "        res_x = x\n",
    "        for dilation_rate in dilation_rates:\n",
    "            tanh_out = Conv1D(filters = filters, kernel_size = kernel_size, padding = 'same', activation = 'tanh',  dilation_rate = dilation_rate)(x)\n",
    "            sigm_out = Conv1D(filters = filters, kernel_size = kernel_size, padding = 'same', activation = 'sigmoid',  dilation_rate = dilation_rate)(x)\n",
    "            x = Multiply()([tanh_out, sigm_out])\n",
    "            x = Conv1D(filters = filters, kernel_size = 1, padding = 'same')(x)\n",
    "            res_x = Add()([res_x, x])\n",
    "        return res_x\n",
    "    inp = Input(shape = (shape_))\n",
    "    x = wave_block(inp, 32, 3, 8)\n",
    "    x = wave_block(x, 64, 3, 4)\n",
    "    x = wave_block(x, 128, 3, 1)\n",
    "    out = Dense(1, name = 'out')(x)\n",
    "    model = models.Model(inputs = inp, outputs = out)\n",
    "    return model"
   ],
   "metadata": {
    "collapsed": false,
    "ExecuteTime": {
     "end_time": "2023-08-26T06:15:12.591536Z",
     "start_time": "2023-08-26T06:09:10.558909Z"
    }
   },
   "id": "251cec6a3b1b9337"
  },
  {
   "cell_type": "code",
   "execution_count": 69,
   "id": "eeaea625",
   "metadata": {
    "ExecuteTime": {
     "end_time": "2023-08-25T15:34:59.256242Z",
     "start_time": "2023-08-25T15:34:27.175068Z"
    }
   },
   "outputs": [
    {
     "name": "stdout",
     "output_type": "stream",
     "text": [
      "CPU times: user 11.9 s, sys: 1.7 s, total: 13.6 s\n",
      "Wall time: 31.6 s\n",
      "score :  0.92\n"
     ]
    },
    {
     "data": {
      "text/plain": "<Figure size 640x480 with 1 Axes>",
      "image/png": "[encoded data removed]"
     },
     "metadata": {},
     "output_type": "display_data"
    }
   ],
   "source": [
    "# xgboost模型 xgboost (**)\n",
    "# 数据2：分类\n",
    "\n",
    "import warnings\n",
    "warnings.filterwarnings(\"ignore\")\n",
    "%matplotlib inline\n",
    "\n",
    "import matplotlib.pyplot as plt\n",
    "import seaborn as sns\n",
    "\n",
    "from xgboost import XGBClassifier, plot_importance #显示特征重要性\n",
    "X_train, X_test, y_train, y_test = train_test_split(train, target, test_size=0.4, random_state=0)\n",
    "clf = XGBClassifier(max_depth=2, learning_rate=1, n_estimators=1000, #弱分类树太少的话取不到更多的特征重要性\n",
    "          objective='binary:logistic')\n",
    "%time clf = clf.fit(X_train, y_train)\n",
    "print('score : ', clf.score(X_test, y_test))\n",
    "\n",
    "# 可视化特征重要性：xgboost自带的plot_importance\n",
    "plot_importance(clf); #打印重要程度结果。\n"
   ]
  },
  {
   "cell_type": "code",
   "execution_count": 21,
   "id": "332cc915a2deaadf",
   "metadata": {
    "ExecuteTime": {
     "end_time": "2023-08-24T05:19:23.441784Z",
     "start_time": "2023-08-24T05:19:22.393894300Z"
    }
   },
   "outputs": [
    {
     "name": "stdout",
     "output_type": "stream",
     "text": [
      "生成示例数据集:\n"
     ]
    },
    {
     "data": {
      "image/png": "[encoded data removed]",
      "text/plain": [
       "<Figure size 640x480 with 1 Axes>"
      ]
     },
     "metadata": {},
     "output_type": "display_data"
    },
    {
     "name": "stdout",
     "output_type": "stream",
     "text": [
      "LinearRegression mse: 3.0750025765636577\n"
     ]
    },
    {
     "data": {
      "image/png": "[encoded data removed]",
      "text/plain": [
       "<Figure size 640x480 with 1 Axes>"
      ]
     },
     "metadata": {},
     "output_type": "display_data"
    },
    {
     "name": "stdout",
     "output_type": "stream",
     "text": [
      "PolynomialRegression(2) mse: 1.0987392142417856\n"
     ]
    },
    {
     "data": {
      "image/png": "[encoded data removed]",
      "text/plain": [
       "<Figure size 640x480 with 1 Axes>"
      ]
     },
     "metadata": {},
     "output_type": "display_data"
    },
    {
     "name": "stdout",
     "output_type": "stream",
     "text": [
      "PolynomialRegression(10) mse: 1.050846676376418\n"
     ]
    },
    {
     "data": {
      "image/png": "[encoded data removed]",
      "text/plain": [
       "<Figure size 640x480 with 1 Axes>"
      ]
     },
     "metadata": {},
     "output_type": "display_data"
    },
    {
     "name": "stdout",
     "output_type": "stream",
     "text": [
      "PolynomialRegression(100) mse: 0.6877438187057433\n"
     ]
    },
    {
     "data": {
      "image/png": "[encoded data removed]",
      "text/plain": [
       "<Figure size 640x480 with 1 Axes>"
      ]
     },
     "metadata": {},
     "output_type": "display_data"
    }
   ],
   "source": [
    "# 不同复杂程度模型的拟合过程\n",
    "# 数据1：回归\n",
    "\n",
    "import numpy as np\n",
    "import matplotlib.pyplot as plt\n",
    "%matplotlib inline\n",
    "\n",
    "print(\"生成示例数据集:\")\n",
    "np.random.seed(666)\n",
    "x = np.random.uniform(-3.0, 3.0, size=100)\n",
    "X = x.reshape(-1, 1)\n",
    "y = 0.5 * x**2 + x + 2 + np.random.normal(0, 1, size=100)\n",
    "plt.scatter(x, y)\n",
    "plt.show();\n",
    "\n",
    "\n",
    "from sklearn.pipeline import Pipeline\n",
    "from sklearn.preprocessing import PolynomialFeatures, StandardScaler\n",
    "from sklearn.linear_model import LinearRegression\n",
    "from sklearn.metrics import mean_squared_error, mean_absolute_error, r2_score\n",
    "\n",
    "# 线性模型\n",
    "lin_reg = LinearRegression()\n",
    "lin_reg.fit(X, y)\n",
    "lin_reg.score(X, y)\n",
    "y_predict = lin_reg.predict(X)\n",
    "print('LinearRegression mse:', mean_squared_error(y, y_predict))\n",
    "mean_squared_error(y, y_predict)\n",
    "y_predict = lin_reg.predict(X)\n",
    "plt.scatter(x, y)\n",
    "plt.plot(np.sort(x), y_predict[np.argsort(x)], color='r')\n",
    "plt.show();\n",
    "\n",
    "def PolynomialRegression(degree):\n",
    "    return Pipeline([('poly', PolynomialFeatures(degree=degree)),  ('std_scaler', StandardScaler()), ('lin_reg', LinearRegression())])\n",
    "\n",
    "# PolynomialRegression(2)\n",
    "poly2_reg = PolynomialRegression(degree=2)\n",
    "poly2_reg.fit(X, y)\n",
    "y2_predict = poly2_reg.predict(X)\n",
    "print('PolynomialRegression(2) mse:', mean_squared_error(y, y2_predict))\n",
    "plt.scatter(x, y)\n",
    "plt.plot(np.sort(x), y2_predict[np.argsort(x)], color='r')\n",
    "plt.show();\n",
    "\n",
    "# PolynomialRegression(10)\n",
    "poly10_reg = PolynomialRegression(degree=10)\n",
    "poly10_reg.fit(X, y)\n",
    "y10_predict = poly10_reg.predict(X)\n",
    "print('PolynomialRegression(10) mse:', mean_squared_error(y, y10_predict))\n",
    "plt.scatter(x, y)\n",
    "plt.plot(np.sort(x), y10_predict[np.argsort(x)], color='r')\n",
    "plt.show();\n",
    "\n",
    "# PolynomialRegression(100)\n",
    "poly100_reg = PolynomialRegression(degree=100)\n",
    "poly100_reg.fit(X, y)\n",
    "y100_predict = poly100_reg.predict(X)\n",
    "print('PolynomialRegression(100) mse:', mean_squared_error(y, y100_predict))\n",
    "plt.scatter(x, y)\n",
    "plt.plot(np.sort(x), y100_predict[np.argsort(x)], color='r')\n",
    "plt.show();"
   ]
  },
  {
   "cell_type": "code",
   "execution_count": 50,
   "id": "4446b457280b775f",
   "metadata": {
    "ExecuteTime": {
     "end_time": "2023-08-24T05:57:31.012525Z",
     "start_time": "2023-08-24T05:56:41.157391700Z"
    }
   },
   "outputs": [
    {
     "name": "stdout",
     "output_type": "stream",
     "text": [
      "Learning Curves (Naive Bayes):\n",
      "Learning Curves (SVM, RBF kernel, $\\gamma=0.001$):\n",
      "Validation Curve with SVM:\n"
     ]
    },
    {
     "data": {
      "image/png": "[encoded data removed]",
      "text/plain": [
       "<Figure size 640x480 with 1 Axes>"
      ]
     },
     "metadata": {},
     "output_type": "display_data"
    },
    {
     "data": {
      "image/png": "[encoded data removed]",
      "text/plain": [
       "<Figure size 640x480 with 1 Axes>"
      ]
     },
     "metadata": {},
     "output_type": "display_data"
    }
   ],
   "source": [
    "# 学习过程曲线\n",
    "# 数据1：回归\n",
    "\n",
    "import numpy as np\n",
    "import matplotlib.pyplot as plt\n",
    "from sklearn.naive_bayes import GaussianNB\n",
    "from sklearn.svm import SVC\n",
    "from sklearn.datasets import load_digits\n",
    "from sklearn.model_selection import ShuffleSplit, learning_curve, validation_curve\n",
    "\n",
    "digits = load_digits()\n",
    "X, y = digits.data, digits.target\n",
    "\n",
    "def plot_learning_curve(estimator, title, X, y, ylim=None, cv=None, n_jobs=1, train_sizes=np.linspace(.1, 1.0, 5)):\n",
    "    plt.figure()\n",
    "    plt.title(title)\n",
    "    if ylim is not None:\n",
    "        plt.ylim(*ylim)\n",
    "    plt.xlabel(\"Training examples\")\n",
    "    plt.ylabel(\"Score\")\n",
    "    train_sizes, train_scores, test_scores = learning_curve(\n",
    "        estimator, X, y, cv=cv, n_jobs=n_jobs, train_sizes=train_sizes)\n",
    "    train_scores_mean = np.mean(train_scores, axis=1)\n",
    "    train_scores_std = np.std(train_scores, axis=1)\n",
    "    test_scores_mean = np.mean(test_scores, axis=1)\n",
    "    test_scores_std = np.std(test_scores, axis=1)\n",
    "    plt.grid()\n",
    "    plt.fill_between(train_sizes, train_scores_mean - train_scores_std, train_scores_mean + train_scores_std, alpha=0.1, color=\"r\")\n",
    "    plt.fill_between(train_sizes, test_scores_mean - test_scores_std, test_scores_mean + test_scores_std, alpha=0.1, color=\"g\")\n",
    "    plt.plot(train_sizes, train_scores_mean, 'o-', color=\"r\", label=\"Training score\")\n",
    "    plt.plot(train_sizes, test_scores_mean, 'o-', color=\"g\",  label=\"Cross-validation score\")\n",
    "    plt.legend(loc=\"best\")\n",
    "    return plt \n",
    "\n",
    "\n",
    "title = \"Learning Curves (Naive Bayes)\"\n",
    "print(title+\":\")\n",
    "# Cross validation with 100 iterations to get smoother mean test and train\n",
    "# score curves, each time with 20% data randomly selected as a validation set.\n",
    "cv = ShuffleSplit(n_splits=100, test_size=0.2, random_state=0)\n",
    "estimator = GaussianNB()\n",
    "plot_learning_curve(estimator, title, X, y, ylim=(0.7, 1.01), cv=cv, n_jobs=4);\n",
    "\n",
    "\n",
    "title = \"Learning Curves (SVM, RBF kernel, $\\gamma=0.001$)\"\n",
    "print(title+':')\n",
    "# SVC is more expensive so we do a lower number of CV iterations:\n",
    "cv = ShuffleSplit(n_splits=10, test_size=0.2, random_state=0)\n",
    "estimator = SVC(gamma=0.001)\n",
    "plot_learning_curve(estimator, title, X, y, (0.7, 1.01), cv=cv, n_jobs=4);\n",
    "\n",
    "\n",
    "title = \"Validation Curve with SVM\"\n",
    "print(title+':')\n",
    "param_range = np.logspace(-6, -1, 5)\n",
    "train_scores, test_scores = validation_curve(SVC(), X, y, param_name=\"gamma\", param_range=param_range, cv=10, scoring=\"accuracy\", n_jobs=1)\n",
    "train_scores_mean = np.mean(train_scores, axis=1)\n",
    "train_scores_std = np.std(train_scores, axis=1)\n",
    "test_scores_mean = np.mean(test_scores, axis=1)\n",
    "test_scores_std = np.std(test_scores, axis=1)\n",
    "plt.title(title)\n",
    "plt.xlabel(\"$\\gamma$\")\n",
    "plt.ylabel(\"Score\")\n",
    "plt.ylim(0.0, 1.1)\n",
    "plt.semilogx(param_range, train_scores_mean, label=\"Training score\", color=\"r\")\n",
    "plt.fill_between(param_range, train_scores_mean - train_scores_std, train_scores_mean + train_scores_std, alpha=0.2, color=\"r\")\n",
    "plt.semilogx(param_range, test_scores_mean, label=\"Cross-validation score\", color=\"g\")\n",
    "plt.fill_between(param_range, test_scores_mean - test_scores_std, test_scores_mean + test_scores_std, alpha=0.2, color=\"g\")\n",
    "plt.legend(loc=\"best\")\n",
    "plt.show()"
   ]
  },
  {
   "cell_type": "code",
   "execution_count": 54,
   "id": "95b363ae4a00e4c0",
   "metadata": {
    "ExecuteTime": {
     "end_time": "2023-08-24T06:02:58.921090600Z",
     "start_time": "2023-08-24T06:02:56.732649300Z"
    }
   },
   "outputs": [
    {
     "name": "stdout",
     "output_type": "stream",
     "text": [
      "SGDRegressor with L2: train MSE = 0.2889191411245212 test MSE = 0.2509895595332537\n",
      "SGDRegressor with L1: train MSE = 0.288844377241948 test MSE = 0.2513945051912622\n",
      "SGDRegressor with elasticnet: train MSE = 0.2916605510761966 test MSE = 0.25271020528839755\n"
     ]
    }
   ],
   "source": [
    "# 模型正则化\n",
    "# 数据1：回归\n",
    "\n",
    "from sklearn.linear_model import SGDRegressor\n",
    "poly = PolynomialFeatures(3)\n",
    "train_data_poly = poly.fit_transform(train_data)\n",
    "test_data_poly = poly.transform(test_data)\n",
    "\n",
    "# L2范数正则化\n",
    "clf = SGDRegressor(max_iter=1000, tol=1e-3, penalty= 'L2', alpha=0.0001) \n",
    "clf.fit(train_data_poly, train_target)\n",
    "score_train = mean_squared_error(train_target, clf.predict(train_data_poly))\n",
    "score_test = mean_squared_error(test_target, clf.predict(test_data_poly))\n",
    "print(\"SGDRegressor with L2: train MSE =\", score_train, \"test MSE =\", score_test)\n",
    "\n",
    "# L1范数正则化\n",
    "clf = SGDRegressor(max_iter=1000, tol=1e-3, penalty= 'L1', alpha=0.00001) \n",
    "clf.fit(train_data_poly, train_target)\n",
    "score_train = mean_squared_error(train_target, clf.predict(train_data_poly))\n",
    "score_test = mean_squared_error(test_target, clf.predict(test_data_poly))\n",
    "print(\"SGDRegressor with L1: train MSE =\", score_train, \"test MSE =\", score_test)\n",
    "\n",
    "# ElasticNet L1和L2范数加权正则化\n",
    "clf = SGDRegressor(max_iter=1000, tol=1e-3, penalty= 'elasticnet', l1_ratio=0.9, alpha=0.00001) \n",
    "clf.fit(train_data_poly, train_target)\n",
    "score_train = mean_squared_error(train_target, clf.predict(train_data_poly))\n",
    "score_test = mean_squared_error(test_target, clf.predict(test_data_poly))\n",
    "print(\"SGDRegressor with elasticnet: train MSE =\", score_train, \"test MSE =\", score_test)\n"
   ]
  },
  {
   "cell_type": "code",
   "execution_count": 69,
   "id": "78414235e65b97ee",
   "metadata": {
    "ExecuteTime": {
     "end_time": "2023-08-24T06:15:17.560822900Z",
     "start_time": "2023-08-24T06:15:17.055751300Z"
    }
   },
   "outputs": [
    {
     "name": "stdout",
     "output_type": "stream",
     "text": [
      "GridSearchCV:\n",
      "\tParameters:{'gamma': [0.001, 0.01, 0.1, 1, 10, 100], 'C': [0.001, 0.01, 0.1, 1, 10, 100]}\n",
      "\tTest set score:0.97\n",
      "\tBest parameters:{'C': 10, 'gamma': 0.1}\n",
      "\tBest score on train set:0.98\n",
      "RandomizedSearchCV:\n",
      "\tTest set score:0.97\n",
      "\tBest parameters:{'gamma': 0.1, 'C': 10}\n",
      "\tBest score on train set:0.98\n"
     ]
    }
   ],
   "source": [
    "# 参数搜索调优: 调参\n",
    "# 数据1：回归\n",
    "\n",
    "from sklearn.datasets import load_iris\n",
    "from sklearn.svm import SVC\n",
    "from sklearn.model_selection import GridSearchCV\n",
    "iris = load_iris()\n",
    "\n",
    "# 网格搜索 \n",
    "print('GridSearchCV:')\n",
    "param_grid = {\"gamma\":[0.001,0.01,0.1,1,10,100], \"C\":[0.001,0.01,0.1,1,10,100]}\n",
    "print(\"\\tParameters:{}\".format(param_grid))\n",
    "grid_search = GridSearchCV(SVC(),param_grid,cv=5) #实例化一个GridSearchCV类\n",
    "X_train,X_test,y_train,y_test = train_test_split(iris.data,iris.target,random_state=10)\n",
    "grid_search.fit(X_train,y_train) #训练，找到最优的参数，同时使用最优的参数实例化一个新的SVC estimator。\n",
    "# grid_search.best_estimator_\n",
    "print(\"\\tTest set score:{:.2f}\".format(grid_search.score(X_test,y_test)))\n",
    "print(\"\\tBest parameters:{}\".format(grid_search.best_params_))\n",
    "print(\"\\tBest score on train set:{:.2f}\".format(grid_search.best_score_))\n",
    "\n",
    "# 随机参数优化\n",
    "print('RandomizedSearchCV:')\n",
    "from sklearn.model_selection import RandomizedSearchCV\n",
    "param_grid = {\"gamma\":[0.001,0.01,0.1,1,10,100], \"C\":[0.001,0.01,0.1,1,10,100]}\n",
    "rs_search = RandomizedSearchCV(SVC(), param_grid, cv=5)\n",
    "rs_search.fit(X_train,y_train)\n",
    "score_test = mean_squared_error(y_test, rs_search.predict(X_test))\n",
    "print(\"\\tTest set score:{:.2f}\".format(rs_search.score(X_test,y_test)))\n",
    "print(\"\\tBest parameters:{}\".format(rs_search.best_params_))\n",
    "print(\"\\tBest score on train set:{:.2f}\".format(rs_search.best_score_))\n",
    "\n",
    "\n"
   ]
  },
  {
   "cell_type": "code",
   "execution_count": 7,
   "id": "81a1d9fb4b57d4f4",
   "metadata": {},
   "outputs": [
    {
     "name": "stdout",
     "output_type": "stream",
     "text": [
      "Training until validation scores don't improve for 100 rounds\n",
      "[50]\tTrain's l2: 0.428458\tTest's l2: 0.466965\n",
      "[100]\tTrain's l2: 0.221807\tTest's l2: 0.263431\n",
      "[150]\tTrain's l2: 0.135301\tTest's l2: 0.183515\n",
      "[200]\tTrain's l2: 0.0958737\tTest's l2: 0.148825\n",
      "[250]\tTrain's l2: 0.075642\tTest's l2: 0.133187\n",
      "[300]\tTrain's l2: 0.0629311\tTest's l2: 0.125237\n",
      "[350]\tTrain's l2: 0.054088\tTest's l2: 0.121321\n",
      "[400]\tTrain's l2: 0.0473551\tTest's l2: 0.118307\n",
      "[450]\tTrain's l2: 0.0418952\tTest's l2: 0.116414\n",
      "[500]\tTrain's l2: 0.0375119\tTest's l2: 0.114863\n",
      "[550]\tTrain's l2: 0.0337062\tTest's l2: 0.114002\n",
      "[600]\tTrain's l2: 0.0303868\tTest's l2: 0.112781\n",
      "[650]\tTrain's l2: 0.02756\tTest's l2: 0.11207\n",
      "[700]\tTrain's l2: 0.0250506\tTest's l2: 0.111287\n",
      "[750]\tTrain's l2: 0.0228758\tTest's l2: 0.110742\n",
      "[800]\tTrain's l2: 0.0209081\tTest's l2: 0.1103\n",
      "[850]\tTrain's l2: 0.0191684\tTest's l2: 0.109946\n",
      "[900]\tTrain's l2: 0.0176066\tTest's l2: 0.109759\n",
      "[950]\tTrain's l2: 0.0162243\tTest's l2: 0.109423\n",
      "[1000]\tTrain's l2: 0.014984\tTest's l2: 0.109105\n",
      "[1050]\tTrain's l2: 0.0138415\tTest's l2: 0.108795\n",
      "[1100]\tTrain's l2: 0.0128086\tTest's l2: 0.108651\n",
      "[1150]\tTrain's l2: 0.0118895\tTest's l2: 0.10835\n",
      "[1200]\tTrain's l2: 0.0110348\tTest's l2: 0.108169\n",
      "[1250]\tTrain's l2: 0.0102351\tTest's l2: 0.107997\n",
      "[1300]\tTrain's l2: 0.00949631\tTest's l2: 0.107886\n",
      "[1350]\tTrain's l2: 0.00880985\tTest's l2: 0.107708\n",
      "[1400]\tTrain's l2: 0.00818496\tTest's l2: 0.107495\n",
      "[1450]\tTrain's l2: 0.00760212\tTest's l2: 0.107251\n",
      "[1500]\tTrain's l2: 0.00706786\tTest's l2: 0.107126\n",
      "[1550]\tTrain's l2: 0.00657032\tTest's l2: 0.107007\n",
      "[1600]\tTrain's l2: 0.00612321\tTest's l2: 0.10685\n",
      "[1650]\tTrain's l2: 0.00571558\tTest's l2: 0.106697\n",
      "[1700]\tTrain's l2: 0.00532708\tTest's l2: 0.106564\n",
      "[1750]\tTrain's l2: 0.00498736\tTest's l2: 0.106505\n",
      "[1800]\tTrain's l2: 0.0046641\tTest's l2: 0.10643\n",
      "[1850]\tTrain's l2: 0.00435927\tTest's l2: 0.106395\n",
      "[1900]\tTrain's l2: 0.00407441\tTest's l2: 0.106289\n",
      "[1950]\tTrain's l2: 0.00381589\tTest's l2: 0.106228\n",
      "[2000]\tTrain's l2: 0.00358102\tTest's l2: 0.106155\n",
      "[2050]\tTrain's l2: 0.00335863\tTest's l2: 0.106083\n",
      "[2100]\tTrain's l2: 0.00314878\tTest's l2: 0.106064\n",
      "[2150]\tTrain's l2: 0.0029488\tTest's l2: 0.106039\n",
      "[2200]\tTrain's l2: 0.0027557\tTest's l2: 0.105963\n",
      "[2250]\tTrain's l2: 0.00257956\tTest's l2: 0.105857\n",
      "[2300]\tTrain's l2: 0.00242506\tTest's l2: 0.105818\n",
      "[2350]\tTrain's l2: 0.00228008\tTest's l2: 0.105762\n",
      "[2400]\tTrain's l2: 0.00213319\tTest's l2: 0.105696\n",
      "[2450]\tTrain's l2: 0.00199799\tTest's l2: 0.105679\n",
      "[2500]\tTrain's l2: 0.00187769\tTest's l2: 0.10561\n",
      "[2550]\tTrain's l2: 0.0017642\tTest's l2: 0.105564\n",
      "[2600]\tTrain's l2: 0.00165572\tTest's l2: 0.105482\n",
      "[2650]\tTrain's l2: 0.00155773\tTest's l2: 0.105454\n",
      "[2700]\tTrain's l2: 0.0014622\tTest's l2: 0.105423\n",
      "[2750]\tTrain's l2: 0.00137505\tTest's l2: 0.105434\n",
      "Early stopping, best iteration is:\n",
      "[2686]\tTrain's l2: 0.00148912\tTest's l2: 0.105398\n",
      "第1折 训练和预测 训练MSE 预测MSE\n",
      "------\n",
      " 训练MSE\n",
      " 0.0014891170026875994 \n",
      "------\n",
      "------\n",
      " 预测MSE\n",
      " 0.10539809256060709 \n",
      "------\n",
      "\n",
      "Training until validation scores don't improve for 100 rounds\n",
      "[50]\tTrain's l2: 0.436833\tTest's l2: 0.42889\n",
      "[100]\tTrain's l2: 0.221729\tTest's l2: 0.258452\n",
      "[150]\tTrain's l2: 0.132425\tTest's l2: 0.191434\n",
      "[200]\tTrain's l2: 0.0921422\tTest's l2: 0.164395\n",
      "[250]\tTrain's l2: 0.0715837\tTest's l2: 0.153253\n",
      "[300]\tTrain's l2: 0.0591252\tTest's l2: 0.147273\n",
      "[350]\tTrain's l2: 0.0505444\tTest's l2: 0.143558\n",
      "[400]\tTrain's l2: 0.0442696\tTest's l2: 0.141913\n",
      "[450]\tTrain's l2: 0.0391752\tTest's l2: 0.140459\n",
      "[500]\tTrain's l2: 0.0348435\tTest's l2: 0.139286\n",
      "[550]\tTrain's l2: 0.0313073\tTest's l2: 0.13851\n",
      "[600]\tTrain's l2: 0.0283011\tTest's l2: 0.138002\n",
      "[650]\tTrain's l2: 0.0256303\tTest's l2: 0.136922\n",
      "[700]\tTrain's l2: 0.0233832\tTest's l2: 0.1364\n",
      "[750]\tTrain's l2: 0.0213598\tTest's l2: 0.135964\n",
      "[800]\tTrain's l2: 0.0195432\tTest's l2: 0.135562\n",
      "[850]\tTrain's l2: 0.0179503\tTest's l2: 0.134965\n",
      "[900]\tTrain's l2: 0.0165388\tTest's l2: 0.134784\n",
      "[950]\tTrain's l2: 0.0152956\tTest's l2: 0.134611\n",
      "[1000]\tTrain's l2: 0.0141473\tTest's l2: 0.134473\n",
      "[1050]\tTrain's l2: 0.0130803\tTest's l2: 0.13427\n",
      "[1100]\tTrain's l2: 0.0121275\tTest's l2: 0.134171\n",
      "[1150]\tTrain's l2: 0.0112545\tTest's l2: 0.134014\n",
      "[1200]\tTrain's l2: 0.0104587\tTest's l2: 0.133869\n",
      "[1250]\tTrain's l2: 0.00970802\tTest's l2: 0.133655\n",
      "[1300]\tTrain's l2: 0.00900488\tTest's l2: 0.133415\n",
      "[1350]\tTrain's l2: 0.00834902\tTest's l2: 0.133204\n",
      "[1400]\tTrain's l2: 0.00774199\tTest's l2: 0.132926\n",
      "[1450]\tTrain's l2: 0.00720085\tTest's l2: 0.132728\n",
      "[1500]\tTrain's l2: 0.0067149\tTest's l2: 0.132755\n",
      "Early stopping, best iteration is:\n",
      "[1441]\tTrain's l2: 0.00728983\tTest's l2: 0.132697\n",
      "第2折 训练和预测 训练MSE 预测MSE\n",
      "------\n",
      " 训练MSE\n",
      " 0.0072898318628357595 \n",
      "------\n",
      "------\n",
      " 预测MSE\n",
      " 0.13269660321638646 \n",
      "------\n",
      "\n",
      "Training until validation scores don't improve for 100 rounds\n",
      "[50]\tTrain's l2: 0.435334\tTest's l2: 0.435477\n",
      "[100]\tTrain's l2: 0.224797\tTest's l2: 0.241969\n",
      "[150]\tTrain's l2: 0.136834\tTest's l2: 0.165256\n",
      "[200]\tTrain's l2: 0.0968498\tTest's l2: 0.134493\n",
      "[250]\tTrain's l2: 0.0761729\tTest's l2: 0.121531\n",
      "[300]\tTrain's l2: 0.0636853\tTest's l2: 0.11448\n",
      "[350]\tTrain's l2: 0.0546683\tTest's l2: 0.110122\n",
      "[400]\tTrain's l2: 0.0479514\tTest's l2: 0.108073\n",
      "[450]\tTrain's l2: 0.0423758\tTest's l2: 0.107005\n",
      "[500]\tTrain's l2: 0.0377975\tTest's l2: 0.105778\n",
      "[550]\tTrain's l2: 0.0339731\tTest's l2: 0.104464\n",
      "[600]\tTrain's l2: 0.0306455\tTest's l2: 0.103408\n",
      "[650]\tTrain's l2: 0.0278085\tTest's l2: 0.10251\n",
      "[700]\tTrain's l2: 0.0252935\tTest's l2: 0.101614\n",
      "[750]\tTrain's l2: 0.0231005\tTest's l2: 0.101372\n",
      "[800]\tTrain's l2: 0.021199\tTest's l2: 0.101199\n",
      "[850]\tTrain's l2: 0.0194767\tTest's l2: 0.101142\n",
      "[900]\tTrain's l2: 0.0179671\tTest's l2: 0.101309\n",
      "Early stopping, best iteration is:\n",
      "[821]\tTrain's l2: 0.020451\tTest's l2: 0.101119\n",
      "第3折 训练和预测 训练MSE 预测MSE\n",
      "------\n",
      " 训练MSE\n",
      " 0.0204510246350711 \n",
      "------\n",
      "------\n",
      " 预测MSE\n",
      " 0.10111932554955037 \n",
      "------\n",
      "\n",
      "Training until validation scores don't improve for 100 rounds\n",
      "[50]\tTrain's l2: 0.424194\tTest's l2: 0.486322\n",
      "[100]\tTrain's l2: 0.22045\tTest's l2: 0.264404\n",
      "[150]\tTrain's l2: 0.13572\tTest's l2: 0.178101\n",
      "[200]\tTrain's l2: 0.0968777\tTest's l2: 0.144088\n",
      "[250]\tTrain's l2: 0.0765346\tTest's l2: 0.129439\n",
      "[300]\tTrain's l2: 0.0639781\tTest's l2: 0.122908\n",
      "[350]\tTrain's l2: 0.0552914\tTest's l2: 0.118902\n",
      "[400]\tTrain's l2: 0.0485628\tTest's l2: 0.115741\n",
      "[450]\tTrain's l2: 0.0429733\tTest's l2: 0.114079\n",
      "[500]\tTrain's l2: 0.0383471\tTest's l2: 0.11299\n",
      "[550]\tTrain's l2: 0.0344226\tTest's l2: 0.112069\n",
      "[600]\tTrain's l2: 0.0311593\tTest's l2: 0.111212\n",
      "[650]\tTrain's l2: 0.0283902\tTest's l2: 0.110788\n",
      "[700]\tTrain's l2: 0.0258853\tTest's l2: 0.110003\n",
      "[750]\tTrain's l2: 0.0236758\tTest's l2: 0.109461\n",
      "[800]\tTrain's l2: 0.0217031\tTest's l2: 0.108945\n",
      "[850]\tTrain's l2: 0.019937\tTest's l2: 0.10856\n",
      "[900]\tTrain's l2: 0.0183338\tTest's l2: 0.108237\n",
      "[950]\tTrain's l2: 0.0168597\tTest's l2: 0.107832\n",
      "[1000]\tTrain's l2: 0.0155639\tTest's l2: 0.107673\n",
      "[1050]\tTrain's l2: 0.0143787\tTest's l2: 0.107542\n",
      "[1100]\tTrain's l2: 0.0132679\tTest's l2: 0.107417\n",
      "[1150]\tTrain's l2: 0.0123009\tTest's l2: 0.107295\n",
      "[1200]\tTrain's l2: 0.0113964\tTest's l2: 0.107125\n",
      "[1250]\tTrain's l2: 0.0105699\tTest's l2: 0.10694\n",
      "[1300]\tTrain's l2: 0.00982176\tTest's l2: 0.106933\n",
      "[1350]\tTrain's l2: 0.00913726\tTest's l2: 0.106855\n",
      "[1400]\tTrain's l2: 0.00849822\tTest's l2: 0.106897\n",
      "Early stopping, best iteration is:\n",
      "[1334]\tTrain's l2: 0.00935585\tTest's l2: 0.106822\n",
      "第4折 训练和预测 训练MSE 预测MSE\n",
      "------\n",
      " 训练MSE\n",
      " 0.009355847634266074 \n",
      "------\n",
      "------\n",
      " 预测MSE\n",
      " 0.10682190098205552 \n",
      "------\n",
      "\n",
      "Training until validation scores don't improve for 100 rounds\n",
      "[50]\tTrain's l2: 0.435061\tTest's l2: 0.446282\n",
      "[100]\tTrain's l2: 0.224844\tTest's l2: 0.252081\n",
      "[150]\tTrain's l2: 0.136923\tTest's l2: 0.172668\n",
      "[200]\tTrain's l2: 0.0962587\tTest's l2: 0.13786\n",
      "[250]\tTrain's l2: 0.0754087\tTest's l2: 0.122259\n",
      "[300]\tTrain's l2: 0.0625492\tTest's l2: 0.114111\n",
      "[350]\tTrain's l2: 0.05372\tTest's l2: 0.109744\n",
      "[400]\tTrain's l2: 0.0469531\tTest's l2: 0.106481\n",
      "[450]\tTrain's l2: 0.0415226\tTest's l2: 0.104888\n",
      "[500]\tTrain's l2: 0.0370845\tTest's l2: 0.103151\n",
      "[550]\tTrain's l2: 0.033334\tTest's l2: 0.102501\n",
      "[600]\tTrain's l2: 0.0301713\tTest's l2: 0.101926\n",
      "[650]\tTrain's l2: 0.027339\tTest's l2: 0.101613\n",
      "[700]\tTrain's l2: 0.0249321\tTest's l2: 0.10139\n",
      "[750]\tTrain's l2: 0.0228313\tTest's l2: 0.101207\n",
      "[800]\tTrain's l2: 0.0209294\tTest's l2: 0.100924\n",
      "[850]\tTrain's l2: 0.0192055\tTest's l2: 0.100718\n",
      "[900]\tTrain's l2: 0.0176946\tTest's l2: 0.100402\n",
      "[950]\tTrain's l2: 0.0163089\tTest's l2: 0.100187\n"
     ]
    },
    {
     "name": "stdout",
     "output_type": "stream",
     "text": [
      "[1000]\tTrain's l2: 0.0150397\tTest's l2: 0.099986\n",
      "[1050]\tTrain's l2: 0.0138704\tTest's l2: 0.0998263\n",
      "[1100]\tTrain's l2: 0.0128394\tTest's l2: 0.0996427\n",
      "[1150]\tTrain's l2: 0.0118688\tTest's l2: 0.0996074\n",
      "[1200]\tTrain's l2: 0.0110126\tTest's l2: 0.0995783\n",
      "[1250]\tTrain's l2: 0.0102254\tTest's l2: 0.0995361\n",
      "[1300]\tTrain's l2: 0.00951201\tTest's l2: 0.0993949\n",
      "[1350]\tTrain's l2: 0.00884199\tTest's l2: 0.0992683\n",
      "[1400]\tTrain's l2: 0.00822777\tTest's l2: 0.0993064\n",
      "[1450]\tTrain's l2: 0.00767529\tTest's l2: 0.0992335\n",
      "[1500]\tTrain's l2: 0.00712999\tTest's l2: 0.0992797\n",
      "Early stopping, best iteration is:\n",
      "[1423]\tTrain's l2: 0.00797142\tTest's l2: 0.0992124\n",
      "第5折 训练和预测 训练MSE 预测MSE\n",
      "------\n",
      " 训练MSE\n",
      " 0.007971416523938925 \n",
      "------\n",
      "------\n",
      " 预测MSE\n",
      " 0.09921237825179019 \n",
      "------\n",
      "\n",
      "------\n",
      " 训练MSE\n",
      " [0.0014891170026875994, 0.0072898318628357595, 0.0204510246350711, 0.009355847634266074, 0.007971416523938925] \n",
      " 0.009311447531759892 \n",
      "------\n",
      "------\n",
      " 预测MSE\n",
      " [0.10539809256060709, 0.13269660321638646, 0.10111932554955037, 0.10682190098205552, 0.09921237825179019] \n",
      " 0.10904966011207792 \n",
      "------\n"
     ]
    }
   ],
   "source": [
    "# lightGBM 调参案例\n",
    "# 数据1：回归\n",
    "\n",
    "import pandas as pd\n",
    "train_data2 = pd.read_csv('./data/zhengqi/zhengqi_train.txt', sep='\\t')\n",
    "test_data2 = pd.read_csv('./data/zhengqi/zhengqi_test.txt', sep='\\t')\n",
    "\n",
    "train_data2_f = train_data2[test_data2.columns].values\n",
    "train_data2_target = train_data2['target'].values\n",
    "\n",
    "# lgb 模型\n",
    "from sklearn.model_selection import KFold\n",
    "from lightgbm import LGBMRegressor\n",
    "import numpy as np\n",
    "\n",
    "# 5折交叉验证\n",
    "Folds = 5\n",
    "kf = KFold(n_splits=Folds, shuffle=True, random_state=2019)\n",
    "# 记录训练和预测MSE\n",
    "MSE_DICT = {'train_mse': [], 'test_mse': []}\n",
    "\n",
    "# 线下训练预测\n",
    "for i, (train_index, test_index) in enumerate(kf.split(train_data2_f)):\n",
    "    # lgb树模型\n",
    "    lgb_reg = LGBMRegressor(learning_rate=0.01, max_depth=-1, n_estimators=5000, boosting_type='gbdt',\n",
    "        random_state=2019, objective='regression',)\n",
    "    # 切分训练集和预测集\n",
    "    X_train_KFold, X_test_KFold = train_data2_f[train_index], train_data2_f[test_index]\n",
    "    y_train_KFold, y_test_KFold = train_data2_target[train_index], train_data2_target[test_index]\n",
    "    # 训练模型\n",
    "    lgb_reg.fit(X=X_train_KFold, y=y_train_KFold,\n",
    "                eval_set=[(X_train_KFold, y_train_KFold), (X_test_KFold, y_test_KFold)],\n",
    "                eval_names=['Train', 'Test'], early_stopping_rounds=100, eval_metric='MSE', verbose=50)\n",
    "\n",
    "    # 训练集预测 测试集预测\n",
    "    y_train_KFold_predict = lgb_reg.predict(X_train_KFold, num_iteration=lgb_reg.best_iteration_)\n",
    "    y_test_KFold_predict = lgb_reg.predict(X_test_KFold, num_iteration=lgb_reg.best_iteration_)\n",
    "\n",
    "    print('第{}折 训练和预测 训练MSE 预测MSE'.format(i + 1))\n",
    "    train_mse = mean_squared_error(y_train_KFold_predict, y_train_KFold)\n",
    "    print('------\\n', '训练MSE\\n', train_mse, '\\n------')\n",
    "    test_mse = mean_squared_error(y_test_KFold_predict, y_test_KFold)\n",
    "    print('------\\n', '预测MSE\\n', test_mse, '\\n------\\n')\n",
    "\n",
    "    MSE_DICT['train_mse'].append(train_mse)\n",
    "    MSE_DICT['test_mse'].append(test_mse)\n",
    "print('------\\n', '训练MSE\\n', MSE_DICT['train_mse'], '\\n',\n",
    "      np.mean(MSE_DICT['train_mse']), '\\n------')\n",
    "print('------\\n', '预测MSE\\n', MSE_DICT['test_mse'], '\\n',\n",
    "      np.mean(MSE_DICT['test_mse']), '\\n------')"
   ]
  },
  {
   "cell_type": "code",
   "execution_count": 26,
   "id": "c87f5daf",
   "metadata": {
    "ExecuteTime": {
     "end_time": "2023-08-25T13:50:49.195181Z",
     "start_time": "2023-08-25T13:50:17.141954Z"
    }
   },
   "outputs": [
    {
     "name": "stdout",
     "output_type": "stream",
     "text": [
      "rmse: mean = 0.39560381032953973, stdv = 0.000897187586141851\n",
      "rmse: mean = 0.4278982756887534, stdv = 0.003053170072809197                     \n",
      "rmse: mean = 0.37234017514299944, stdv = 0.0075128341334049775                   \n",
      "rmse: mean = 0.39583657254974436, stdv = 0.004572492833138125                    \n",
      "rmse: mean = 0.374383309403573, stdv = 0.016692697543662177                      \n",
      "rmse: mean = 0.3830427008380757, stdv = 0.0007606682887919269                    \n",
      "rmse: mean = 0.3818953412664797, stdv = 0.009277425009617896                     \n",
      "rmse: mean = 0.3609773795343162, stdv = 0.01117958110311143                      \n",
      "rmse: mean = 0.3529414388654882, stdv = 0.007893074882562523                     \n",
      "rmse: mean = 0.37825614551328457, stdv = 0.011134068090891819                   \n",
      "rmse: mean = 0.37715488353764437, stdv = 0.0026057210296076827                   \n",
      "rmse: mean = 0.3601317538172102, stdv = 0.009908512096079763                     \n",
      "rmse: mean = 0.3750499638381267, stdv = 0.014623632834307815                     \n",
      "rmse: mean = 0.3595964585684813, stdv = 0.011422976906054205                     \n",
      "rmse: mean = 0.34277677387161865, stdv = 0.010827382612207809                    \n",
      "rmse: mean = 0.35769472197760976, stdv = 0.006866819286284104                     \n",
      "rmse: mean = 0.3553933904872719, stdv = 0.007957932419063285                      \n",
      "rmse: mean = 0.34170734374844947, stdv = 0.013394014716605562                     \n",
      "rmse: mean = 0.35289382511735456, stdv = 0.01152450071027028                      \n",
      "rmse: mean = 0.3839200163309611, stdv = 0.009194061254825026                      \n",
      "rmse: mean = 0.34202261993551647, stdv = 0.011307452944544938                     \n",
      "rmse: mean = 0.3476472586540411, stdv = 0.008197223893970845                      \n",
      "rmse: mean = 0.3398449518730087, stdv = 0.011582716518462988                      \n",
      "rmse: mean = 0.33937408944899056, stdv = 0.010906213009061971                     \n",
      "rmse: mean = 0.33826627371380286, stdv = 0.011799933212644498                     \n",
      "rmse: mean = 0.3494210828861487, stdv = 0.015088662658293589                      \n",
      "rmse: mean = 0.34194079230622876, stdv = 0.011071167391022652                     \n",
      "rmse: mean = 0.36326748890541943, stdv = 0.011532554511531845                     \n",
      "rmse: mean = 0.3492581448775425, stdv = 0.010008211229249053                      \n",
      "rmse: mean = 0.33686915491584946, stdv = 0.011372926956338375                     \n",
      "100%|██████████| 30/30 [00:28<00:00,  1.04trial/s, best loss: 0.33686915491584946]\n",
      "best parameters: {'bagging_fraction': 0.8600463087344693, 'bagging_freq': 3, 'feature_fraction': 0.5556157111335985, 'learning_rate': 0.015993059191753572, 'min_child_samples': 5, 'num_leaves': 1, 'reg_alpha': 2, 'reg_lambda': 1.062178023849498}\n"
     ]
    }
   ],
   "source": [
    "# 调参案例2：lightgbm + hyperopt\n",
    "# 数据1：回归\n",
    "\n",
    "import lightgbm as lgb\n",
    "from hyperopt import hp, fmin, tpe\n",
    "from numpy.random import RandomState\n",
    "from sklearn.model_selection import KFold\n",
    "import sys, os\n",
    "\n",
    "def feature_select_wrapper(train, test, label):\n",
    "    _original_stdout = sys.stdout # 输出重定向（设定）\n",
    "    sys.stdout = open(os.devnull, 'w') # 输出重定向（设定）\n",
    "    features = train.columns.tolist()\n",
    "    features.remove(label)\n",
    "    # 配置模型的训练参数\n",
    "    params_initial = {'num_leaves': 31, 'learning_rate': 0.1, 'boosting': 'gbdt', 'min_child_samples': 20, 'bagging_seed': 2020, 'bagging_fraction': 0.7, 'bagging_freq': 1, 'feature_fraction': 0.7, 'max_depth': -1, 'metric': 'rmse', 'reg_alpha': 0, 'reg_lambda': 1, 'objective': 'regression' }\n",
    "    kf = KFold(n_splits=5, random_state=2020, shuffle=True)\n",
    "    fse = pd.Series(0, index=features)\n",
    "    for train_part_index, eval_index in kf.split(train[features], train[label]):\n",
    "        print(train[features].shape, train[label].shape)\n",
    "        # 模型训练\n",
    "        train_part = lgb.Dataset(train[features].iloc[train_part_index], train[label].iloc[train_part_index])\n",
    "        eval = lgb.Dataset(train[features].iloc[eval_index], train[label].iloc[eval_index])\n",
    "        model = lgb.train(params_initial, train_part, num_boost_round=10000, valid_sets=[train_part, eval], valid_names=['train', 'valid'], early_stopping_rounds=30, verbose_eval=50)\n",
    "        fse += pd.Series(model.feature_importance(), features)\n",
    "    feature_select = fse.sort_values(ascending=False).index.tolist()[:300]\n",
    "    sys.stdout.close() # 输出重定向（还原）\n",
    "    sys.stdout = _original_stdout # 输出重定向（还原）\n",
    "    return train[feature_select + [label]], test[feature_select], model.feature_importance()\n",
    "def params_append(params):\n",
    "    params['objective'] = 'regression'\n",
    "    params['metric'] = 'rmse'\n",
    "    params['bagging_seed'] = 2020\n",
    "    return params\n",
    "def param_hyperopt(train, label):\n",
    "    features = train.columns.tolist()\n",
    "    features.remove(label)\n",
    "    train_data = lgb.Dataset(train[features], train[label], silent=True)\n",
    "    lgb.feature_pre_filter = False\n",
    "    def hyperopt_objective(params):\n",
    "        params = params_append(params)\n",
    "        # print(params)\n",
    "        _original_stdout = sys.stdout # 输出重定向（设定）\n",
    "        sys.stdout = open(os.devnull, 'w') # 输出重定向（设定）\n",
    "        res = lgb.cv(params, train_data, 1000, nfold=2, stratified=False, shuffle=True, metrics='rmse', early_stopping_rounds=20, verbose_eval=False, show_stdv=False, seed=2020)\n",
    "        sys.stdout.close() # 输出重定向（还原）\n",
    "        sys.stdout = _original_stdout # 输出重定向（还原）\n",
    "        index = res['rmse-mean'].index(min(res['rmse-mean']))\n",
    "        print('rmse: mean = ' + str(res['rmse-mean'][index]) + ', stdv = ' + str(res['rmse-stdv'][index]))\n",
    "        return res['rmse-mean'][index]\n",
    "    params_space = {'learning_rate': hp.uniform('learning_rate', 1e-2, 5e-1), 'bagging_fraction': hp.uniform('bagging_fraction', 0.5, 1),\n",
    "        'feature_fraction': hp.uniform('feature_fraction', 0.5, 1), 'num_leaves': hp.choice('num_leaves', list(range(10, 300, 10))),\n",
    "        'reg_alpha': hp.randint('reg_alpha', 0, 10), 'reg_lambda': hp.uniform('reg_lambda', 0, 10),\n",
    "        'bagging_freq': hp.randint('bagging_freq', 1, 10), 'min_child_samples': hp.choice('min_child_samples', list(range(1, 30, 5))), 'feature_pre_filter':'false'}\n",
    "    params_best = fmin(hyperopt_objective, space=params_space, algo=tpe.suggest, max_evals=30, rstate=RandomState(2020))\n",
    "    print('best parameters:', params_best)\n",
    "    return params_best\n",
    "\n",
    "if __name__ == \"__main__\":\n",
    "    # pandas.Dataframe\n",
    "    train, test, feature_importance = feature_select_wrapper(train_data, test_data, 'target')\n",
    "    best_clf = param_hyperopt(train, 'target')"
   ]
  },
  {
   "cell_type": "code",
   "execution_count": 45,
   "outputs": [
    {
     "name": "stdout",
     "output_type": "stream",
     "text": [
      "|   iter    |  target   | colsam... |    eta    | max_depth | min_ch... | reg_alpha | reg_la... | subsample |\n",
      "-------------------------------------------------------------------------------------------------------------\n",
      "rmse: mean = 0.6939754925164031, std = 8.505373637168745e-05\n",
      "| \u001B[0m1        \u001B[0m | \u001B[0m-0.694   \u001B[0m | \u001B[0m0.5711   \u001B[0m | \u001B[0m0.1229   \u001B[0m | \u001B[0m8.665    \u001B[0m | \u001B[0m3.658    \u001B[0m | \u001B[0m4.412    \u001B[0m | \u001B[0m2.387    \u001B[0m | \u001B[0m0.9114   \u001B[0m |\n",
      "rmse: mean = 0.6973715304624193, std = 0.021168200569523454\n",
      "| \u001B[0m2        \u001B[0m | \u001B[0m-0.6974  \u001B[0m | \u001B[0m0.9934   \u001B[0m | \u001B[0m0.1842   \u001B[0m | \u001B[0m11.49    \u001B[0m | \u001B[0m27.42    \u001B[0m | \u001B[0m4.42     \u001B[0m | \u001B[0m0.5234   \u001B[0m | \u001B[0m0.5375   \u001B[0m |\n",
      "rmse: mean = 0.6692494723047557, std = 0.024692539854973883\n",
      "| \u001B[95m3        \u001B[0m | \u001B[95m-0.6692  \u001B[0m | \u001B[95m0.6078   \u001B[0m | \u001B[95m0.1822   \u001B[0m | \u001B[95m6.569    \u001B[0m | \u001B[95m6.614    \u001B[0m | \u001B[95m0.908    \u001B[0m | \u001B[95m1.192    \u001B[0m | \u001B[95m0.9216   \u001B[0m |\n",
      "rmse: mean = 0.6558967164690909, std = 0.021150634471355345\n",
      "| \u001B[95m4        \u001B[0m | \u001B[95m-0.6559  \u001B[0m | \u001B[95m0.951    \u001B[0m | \u001B[95m0.1099   \u001B[0m | \u001B[95m6.457    \u001B[0m | \u001B[95m15.72    \u001B[0m | \u001B[95m1.765    \u001B[0m | \u001B[95m1.18     \u001B[0m | \u001B[95m0.5107   \u001B[0m |\n",
      "rmse: mean = 0.6762620705919726, std = 0.021639353727133603\n",
      "| \u001B[0m5        \u001B[0m | \u001B[0m-0.6763  \u001B[0m | \u001B[0m0.7119   \u001B[0m | \u001B[0m0.0693   \u001B[0m | \u001B[0m11.66    \u001B[0m | \u001B[0m12.04    \u001B[0m | \u001B[0m2.214    \u001B[0m | \u001B[0m3.343    \u001B[0m | \u001B[0m0.9752   \u001B[0m |\n",
      "rmse: mean = 0.6614821949496803, std = 0.01674644687187732\n",
      "| \u001B[0m6        \u001B[0m | \u001B[0m-0.6615  \u001B[0m | \u001B[0m0.8542   \u001B[0m | \u001B[0m0.03426  \u001B[0m | \u001B[0m6.062    \u001B[0m | \u001B[0m14.37    \u001B[0m | \u001B[0m4.006    \u001B[0m | \u001B[0m2.779    \u001B[0m | \u001B[0m0.6056   \u001B[0m |\n",
      "rmse: mean = 0.6598950360391186, std = 0.01967633892951759\n",
      "| \u001B[0m7        \u001B[0m | \u001B[0m-0.6599  \u001B[0m | \u001B[0m0.9844   \u001B[0m | \u001B[0m0.05352  \u001B[0m | \u001B[0m9.097    \u001B[0m | \u001B[0m13.67    \u001B[0m | \u001B[0m2.489    \u001B[0m | \u001B[0m4.254    \u001B[0m | \u001B[0m0.7089   \u001B[0m |\n",
      "rmse: mean = 0.6418304938094364, std = 0.008328712150426576\n",
      "| \u001B[95m8        \u001B[0m | \u001B[95m-0.6418  \u001B[0m | \u001B[95m0.8882   \u001B[0m | \u001B[95m0.05744  \u001B[0m | \u001B[95m5.216    \u001B[0m | \u001B[95m3.579    \u001B[0m | \u001B[95m0.04138  \u001B[0m | \u001B[95m1.904    \u001B[0m | \u001B[95m0.6301   \u001B[0m |\n",
      "rmse: mean = 0.6636237505372358, std = 0.016509763738727368\n",
      "| \u001B[0m9        \u001B[0m | \u001B[0m-0.6636  \u001B[0m | \u001B[0m0.7704   \u001B[0m | \u001B[0m0.03686  \u001B[0m | \u001B[0m5.666    \u001B[0m | \u001B[0m19.71    \u001B[0m | \u001B[0m3.308    \u001B[0m | \u001B[0m3.039    \u001B[0m | \u001B[0m0.7505   \u001B[0m |\n",
      "rmse: mean = 0.6502099277209118, std = 0.020541932682625497\n",
      "| \u001B[0m10       \u001B[0m | \u001B[0m-0.6502  \u001B[0m | \u001B[0m0.502    \u001B[0m | \u001B[0m0.1503   \u001B[0m | \u001B[0m7.443    \u001B[0m | \u001B[0m10.25    \u001B[0m | \u001B[0m4.805    \u001B[0m | \u001B[0m2.423    \u001B[0m | \u001B[0m0.5675   \u001B[0m |\n",
      "rmse: mean = 0.6793046400175611, std = 0.011489846919225388\n",
      "| \u001B[0m11       \u001B[0m | \u001B[0m-0.6793  \u001B[0m | \u001B[0m0.6963   \u001B[0m | \u001B[0m0.04842  \u001B[0m | \u001B[0m10.65    \u001B[0m | \u001B[0m6.677    \u001B[0m | \u001B[0m3.779    \u001B[0m | \u001B[0m1.334    \u001B[0m | \u001B[0m0.9586   \u001B[0m |\n",
      "rmse: mean = 0.6710201010218622, std = 0.016307946139107854\n",
      "| \u001B[0m12       \u001B[0m | \u001B[0m-0.671   \u001B[0m | \u001B[0m0.53     \u001B[0m | \u001B[0m0.1571   \u001B[0m | \u001B[0m9.482    \u001B[0m | \u001B[0m4.951    \u001B[0m | \u001B[0m1.758    \u001B[0m | \u001B[0m4.642    \u001B[0m | \u001B[0m0.7558   \u001B[0m |\n",
      "rmse: mean = 0.6597891796674049, std = 0.005556110042302498\n",
      "| \u001B[0m13       \u001B[0m | \u001B[0m-0.6598  \u001B[0m | \u001B[0m0.9223   \u001B[0m | \u001B[0m0.1927   \u001B[0m | \u001B[0m6.918    \u001B[0m | \u001B[0m15.15    \u001B[0m | \u001B[0m4.254    \u001B[0m | \u001B[0m4.064    \u001B[0m | \u001B[0m0.8371   \u001B[0m |\n",
      "rmse: mean = 0.6853104249657763, std = 0.005840644748707824\n",
      "| \u001B[0m14       \u001B[0m | \u001B[0m-0.6853  \u001B[0m | \u001B[0m0.7534   \u001B[0m | \u001B[0m0.1843   \u001B[0m | \u001B[0m8.621    \u001B[0m | \u001B[0m5.037    \u001B[0m | \u001B[0m3.152    \u001B[0m | \u001B[0m4.353    \u001B[0m | \u001B[0m0.9921   \u001B[0m |\n",
      "rmse: mean = 0.6506833101251, std = 0.03262415063125684\n",
      "| \u001B[0m15       \u001B[0m | \u001B[0m-0.6507  \u001B[0m | \u001B[0m0.6797   \u001B[0m | \u001B[0m0.08165  \u001B[0m | \u001B[0m6.903    \u001B[0m | \u001B[0m20.58    \u001B[0m | \u001B[0m0.5398   \u001B[0m | \u001B[0m0.0639   \u001B[0m | \u001B[0m0.7486   \u001B[0m |\n",
      "rmse: mean = 0.6529093667152936, std = 0.014010362333626125\n",
      "| \u001B[0m16       \u001B[0m | \u001B[0m-0.6529  \u001B[0m | \u001B[0m0.7694   \u001B[0m | \u001B[0m0.1688   \u001B[0m | \u001B[0m10.21    \u001B[0m | \u001B[0m9.233    \u001B[0m | \u001B[0m0.07521  \u001B[0m | \u001B[0m4.198    \u001B[0m | \u001B[0m0.8201   \u001B[0m |\n",
      "rmse: mean = 0.6515274926377879, std = 0.018356494498306786\n",
      "| \u001B[0m17       \u001B[0m | \u001B[0m-0.6515  \u001B[0m | \u001B[0m0.8874   \u001B[0m | \u001B[0m0.02929  \u001B[0m | \u001B[0m9.551    \u001B[0m | \u001B[0m14.06    \u001B[0m | \u001B[0m1.586    \u001B[0m | \u001B[0m2.204    \u001B[0m | \u001B[0m0.7258   \u001B[0m |\n",
      "rmse: mean = 0.666595481812955, std = 0.027026554843055273\n",
      "| \u001B[0m18       \u001B[0m | \u001B[0m-0.6666  \u001B[0m | \u001B[0m0.6497   \u001B[0m | \u001B[0m0.05832  \u001B[0m | \u001B[0m5.007    \u001B[0m | \u001B[0m9.818    \u001B[0m | \u001B[0m1.685    \u001B[0m | \u001B[0m2.119    \u001B[0m | \u001B[0m0.7162   \u001B[0m |\n",
      "rmse: mean = 0.6721546782636234, std = 0.005075213890126273\n",
      "| \u001B[0m19       \u001B[0m | \u001B[0m-0.6722  \u001B[0m | \u001B[0m0.7879   \u001B[0m | \u001B[0m0.1602   \u001B[0m | \u001B[0m6.684    \u001B[0m | \u001B[0m22.68    \u001B[0m | \u001B[0m0.8951   \u001B[0m | \u001B[0m4.522    \u001B[0m | \u001B[0m0.5287   \u001B[0m |\n",
      "rmse: mean = 0.6625232086878077, std = 0.014186200653371117\n",
      "| \u001B[0m20       \u001B[0m | \u001B[0m-0.6625  \u001B[0m | \u001B[0m0.8528   \u001B[0m | \u001B[0m0.1382   \u001B[0m | \u001B[0m10.12    \u001B[0m | \u001B[0m14.93    \u001B[0m | \u001B[0m4.404    \u001B[0m | \u001B[0m3.628    \u001B[0m | \u001B[0m0.5128   \u001B[0m |\n",
      "rmse: mean = 0.6603970000591219, std = 0.01848933570387301\n",
      "| \u001B[0m21       \u001B[0m | \u001B[0m-0.6604  \u001B[0m | \u001B[0m0.6637   \u001B[0m | \u001B[0m0.06438  \u001B[0m | \u001B[0m6.804    \u001B[0m | \u001B[0m13.3     \u001B[0m | \u001B[0m2.49     \u001B[0m | \u001B[0m2.681    \u001B[0m | \u001B[0m0.8139   \u001B[0m |\n",
      "rmse: mean = 0.6701960783971609, std = 0.009532655863187967\n",
      "| \u001B[0m22       \u001B[0m | \u001B[0m-0.6702  \u001B[0m | \u001B[0m1.0      \u001B[0m | \u001B[0m0.02     \u001B[0m | \u001B[0m5.0      \u001B[0m | \u001B[0m1.062    \u001B[0m | \u001B[0m0.0      \u001B[0m | \u001B[0m1.207    \u001B[0m | \u001B[0m0.5      \u001B[0m |\n",
      "rmse: mean = 0.6596600901953877, std = 0.03215942904878849\n",
      "| \u001B[0m23       \u001B[0m | \u001B[0m-0.6597  \u001B[0m | \u001B[0m0.8236   \u001B[0m | \u001B[0m0.09246  \u001B[0m | \u001B[0m5.397    \u001B[0m | \u001B[0m4.494    \u001B[0m | \u001B[0m0.2675   \u001B[0m | \u001B[0m3.181    \u001B[0m | \u001B[0m0.5297   \u001B[0m |\n",
      "rmse: mean = 0.6810578861607515, std = 0.017458205989440034\n",
      "| \u001B[0m24       \u001B[0m | \u001B[0m-0.6811  \u001B[0m | \u001B[0m1.0      \u001B[0m | \u001B[0m0.02     \u001B[0m | \u001B[0m5.0      \u001B[0m | \u001B[0m4.116    \u001B[0m | \u001B[0m0.0      \u001B[0m | \u001B[0m0.3569   \u001B[0m | \u001B[0m1.0      \u001B[0m |\n",
      "rmse: mean = 0.648905393867286, std = 0.004456246224660787\n",
      "| \u001B[0m25       \u001B[0m | \u001B[0m-0.6489  \u001B[0m | \u001B[0m0.869    \u001B[0m | \u001B[0m0.06571  \u001B[0m | \u001B[0m5.264    \u001B[0m | \u001B[0m3.789    \u001B[0m | \u001B[0m0.09604  \u001B[0m | \u001B[0m2.245    \u001B[0m | \u001B[0m0.5981   \u001B[0m |\n",
      "rmse: mean = 0.668137424358414, std = 0.026581008413876284\n",
      "| \u001B[0m26       \u001B[0m | \u001B[0m-0.6681  \u001B[0m | \u001B[0m0.7318   \u001B[0m | \u001B[0m0.0905   \u001B[0m | \u001B[0m5.372    \u001B[0m | \u001B[0m2.887    \u001B[0m | \u001B[0m0.0      \u001B[0m | \u001B[0m2.03     \u001B[0m | \u001B[0m0.5      \u001B[0m |\n",
      "=============================================================================================================\n",
      "0.6418304938094364 {'colsample_bytree': 0.8882485288308757, 'eta': 0.0574375853997241, 'max_depth': 5.215626697787424, 'min_child_weight': 3.5791936202043386, 'reg_alpha': 0.041375907580100124, 'reg_lambda': 1.9039191474657828, 'subsample': 0.6300990594520784}\n"
     ]
    }
   ],
   "source": [
    "# 调参案例3：xgboost + BayesianOptimization\n",
    "# 数据1：回归\n",
    "\n",
    "import xgboost as xgb\n",
    "from bayes_opt import BayesianOptimization\n",
    "\n",
    "def param_beyesian(train, label):\n",
    "    features = train.columns.tolist()\n",
    "    train_y = train[label]\n",
    "    features.remove(label)\n",
    "    train_matrix = train[features].values\n",
    "    sample_index = train_y.sample(frac=0.1, random_state=2020).index.tolist()\n",
    "    train_data = xgb.DMatrix(train_matrix[sample_index, :], train_y.loc[sample_index].values, silent=True)\n",
    "    def xgb_cv(colsample_bytree, subsample, min_child_weight, max_depth, reg_alpha, eta, reg_lambda):\n",
    "        _original_stdout = sys.stdout # 输出重定向（设定）\n",
    "        sys.stdout = open(os.devnull, 'w') # 输出重定向（设定）\n",
    "        params = {'objective': 'reg:squarederror', 'early_stopping_round': 50, 'eval_metric': 'rmse'}\n",
    "        params['colsample_bytree'] = max(min(colsample_bytree, 1), 0)\n",
    "        params['subsample'] = max(min(subsample, 1), 0)\n",
    "        params[\"min_child_weight\"] = int(min_child_weight)\n",
    "        params['max_depth'] = int(max_depth)\n",
    "        params['eta'] = float(eta)\n",
    "        params['reg_alpha'] = max(reg_alpha, 0)\n",
    "        params['reg_lambda'] = max(reg_lambda, 0)\n",
    "        # print(params)\n",
    "        cv_result = xgb.cv(params, train_data, num_boost_round=1000, nfold=2, seed=2, stratified=False, shuffle=True, early_stopping_rounds=30, verbose_eval=False)\n",
    "        sys.stdout.close() # 输出重定向（还原）\n",
    "        sys.stdout = _original_stdout # 输出重定向（还原）\n",
    "        # cv_result: pandas.core.frame.DataFrame, [train-rmse-mean  train-rmse-std  test-rmse-mean  test-rmse-std]\n",
    "        test_rmse_mean, test_rmse_std = cv_result['test-rmse-mean'].tolist(), cv_result['test-rmse-std'].tolist()\n",
    "        index = test_rmse_mean.index(min(test_rmse_mean))\n",
    "        print('rmse: mean = ' + str(test_rmse_mean[index]) + ', std = ' + str(test_rmse_std[index]))\n",
    "        return -min(cv_result['test-rmse-mean'])\n",
    "    xgb_bo = BayesianOptimization(xgb_cv, {'colsample_bytree': (0.5, 1), 'subsample': (0.5, 1), 'min_child_weight': (1, 30), 'max_depth': (5, 12), 'reg_alpha': (0, 5), 'eta':(0.02, 0.2), 'reg_lambda': (0, 5)})\n",
    "    xgb_bo.maximize(init_points=21, n_iter=5)  # init_points表示初始点，n_iter代表迭代次数（即采样数）\n",
    "    print(-xgb_bo.max['target'], xgb_bo.max['params'])\n",
    "    return xgb_bo.max['params']\n",
    "\n",
    "if __name__ == \"__main__\":\n",
    "    # pandas.Dataframe\n",
    "    best_clf = param_beyesian(train, 'target')\n",
    "    "
   ],
   "metadata": {
    "collapsed": false,
    "ExecuteTime": {
     "end_time": "2023-08-25T14:23:18.979345Z",
     "start_time": "2023-08-25T14:23:11.315068Z"
    }
   },
   "id": "3a6d9949c967736c"
  },
  {
   "cell_type": "code",
   "execution_count": 54,
   "outputs": [
    {
     "name": "stdout",
     "output_type": "stream",
     "text": [
      "Index(['V0', 'V1', 'V2', 'V3', 'V4', 'V5', 'V6', 'V7', 'V8', 'V9', 'V10',\n",
      "       'V11', 'V12', 'V13', 'V14', 'V15', 'V16', 'V17', 'V18', 'V19', 'V20',\n",
      "       'V21', 'V22', 'V23', 'V24', 'V25', 'V26', 'V27', 'V28', 'V29', 'V30',\n",
      "       'V31', 'V32', 'V33', 'V34', 'V35', 'V36', 'V37', 'target'],\n",
      "      dtype='object')\n"
     ]
    },
    {
     "name": "stderr",
     "output_type": "stream",
     "text": [
      "/var/folders/6l/8jb84y794gz98hv20bv2jlmw0000gn/T/ipykernel_4617/3930985435.py:13: FutureWarning: The default dtype for empty Series will be 'object' instead of 'float64' in a future version. Specify a dtype explicitly to silence this warning.\n",
      "  prediction_train = pd.Series()\n"
     ]
    },
    {
     "ename": "CatBoostError",
     "evalue": "/Users/zomb-ml-platform-msk/go-agent-21.2.0/pipelines/BuildMaster/catboost.git/catboost/libs/train_lib/trainer_env.cpp:9: Environment for task type [GPU] not found",
     "output_type": "error",
     "traceback": [
      "\u001B[0;31m---------------------------------------------------------------------------\u001B[0m",
      "\u001B[0;31mCatBoostError\u001B[0m                             Traceback (most recent call last)",
      "Input \u001B[0;32mIn [54]\u001B[0m, in \u001B[0;36m<cell line: 27>\u001B[0;34m()\u001B[0m\n\u001B[1;32m     27\u001B[0m \u001B[38;5;28;01mif\u001B[39;00m \u001B[38;5;18m__name__\u001B[39m \u001B[38;5;241m==\u001B[39m \u001B[38;5;124m\"\u001B[39m\u001B[38;5;124m__main__\u001B[39m\u001B[38;5;124m\"\u001B[39m:\n\u001B[1;32m     28\u001B[0m     \u001B[38;5;66;03m# pandas.Dataframe\u001B[39;00m\n\u001B[1;32m     29\u001B[0m     \u001B[38;5;28mprint\u001B[39m(train_data\u001B[38;5;241m.\u001B[39mcolumns)\n\u001B[0;32m---> 30\u001B[0m     train_auc_mean, test_auc_mean \u001B[38;5;241m=\u001B[39m \u001B[43mtrain_predict\u001B[49m\u001B[43m(\u001B[49m\u001B[43mtrain_data\u001B[49m\u001B[43m,\u001B[49m\u001B[43m \u001B[49m\u001B[38;5;124;43m'\u001B[39;49m\u001B[38;5;124;43mtarget\u001B[39;49m\u001B[38;5;124;43m'\u001B[39;49m\u001B[43m)\u001B[49m\n",
      "Input \u001B[0;32mIn [54]\u001B[0m, in \u001B[0;36mtrain_predict\u001B[0;34m(train, label)\u001B[0m\n\u001B[1;32m     18\u001B[0m test_y \u001B[38;5;241m=\u001B[39m test_pool\u001B[38;5;241m.\u001B[39mget_label()\n\u001B[1;32m     19\u001B[0m model \u001B[38;5;241m=\u001B[39m CatBoostClassifier(iterations\u001B[38;5;241m=\u001B[39m\u001B[38;5;241m100\u001B[39m, learning_rate\u001B[38;5;241m=\u001B[39m\u001B[38;5;241m0.1\u001B[39m, eval_metric\u001B[38;5;241m=\u001B[39m\u001B[38;5;124m'\u001B[39m\u001B[38;5;124mAUC\u001B[39m\u001B[38;5;124m'\u001B[39m, task_type\u001B[38;5;241m=\u001B[39m\u001B[38;5;124m'\u001B[39m\u001B[38;5;124mGPU\u001B[39m\u001B[38;5;124m'\u001B[39m)\n\u001B[0;32m---> 20\u001B[0m \u001B[43mmodel\u001B[49m\u001B[38;5;241;43m.\u001B[39;49m\u001B[43mfit\u001B[49m\u001B[43m(\u001B[49m\u001B[43mlearn_pool\u001B[49m\u001B[43m,\u001B[49m\u001B[43m \u001B[49m\u001B[43meval_set\u001B[49m\u001B[38;5;241;43m=\u001B[39;49m\u001B[43mtest_pool\u001B[49m\u001B[43m,\u001B[49m\u001B[43m \u001B[49m\u001B[43mverbose\u001B[49m\u001B[38;5;241;43m=\u001B[39;49m\u001B[38;5;241;43m50\u001B[39;49m\u001B[43m)\u001B[49m\n\u001B[1;32m     21\u001B[0m score_train\u001B[38;5;241m.\u001B[39mappend(model\u001B[38;5;241m.\u001B[39mbest_score_[\u001B[38;5;124m'\u001B[39m\u001B[38;5;124mvalidation\u001B[39m\u001B[38;5;124m'\u001B[39m][\u001B[38;5;124m'\u001B[39m\u001B[38;5;124mAUC\u001B[39m\u001B[38;5;124m'\u001B[39m])\n\u001B[1;32m     22\u001B[0m \u001B[38;5;28mprint\u001B[39m(roc_auc_score(test_y, prediction_test))\n",
      "File \u001B[0;32m~/opt/anaconda3/lib/python3.9/site-packages/catboost/core.py:5131\u001B[0m, in \u001B[0;36mCatBoostClassifier.fit\u001B[0;34m(self, X, y, cat_features, text_features, embedding_features, sample_weight, baseline, use_best_model, eval_set, verbose, logging_level, plot, plot_file, column_description, verbose_eval, metric_period, silent, early_stopping_rounds, save_snapshot, snapshot_file, snapshot_interval, init_model, callbacks, log_cout, log_cerr)\u001B[0m\n\u001B[1;32m   5128\u001B[0m \u001B[38;5;28;01mif\u001B[39;00m \u001B[38;5;124m'\u001B[39m\u001B[38;5;124mloss_function\u001B[39m\u001B[38;5;124m'\u001B[39m \u001B[38;5;129;01min\u001B[39;00m params:\n\u001B[1;32m   5129\u001B[0m     CatBoostClassifier\u001B[38;5;241m.\u001B[39m_check_is_compatible_loss(params[\u001B[38;5;124m'\u001B[39m\u001B[38;5;124mloss_function\u001B[39m\u001B[38;5;124m'\u001B[39m])\n\u001B[0;32m-> 5131\u001B[0m \u001B[38;5;28;43mself\u001B[39;49m\u001B[38;5;241;43m.\u001B[39;49m\u001B[43m_fit\u001B[49m\u001B[43m(\u001B[49m\u001B[43mX\u001B[49m\u001B[43m,\u001B[49m\u001B[43m \u001B[49m\u001B[43my\u001B[49m\u001B[43m,\u001B[49m\u001B[43m \u001B[49m\u001B[43mcat_features\u001B[49m\u001B[43m,\u001B[49m\u001B[43m \u001B[49m\u001B[43mtext_features\u001B[49m\u001B[43m,\u001B[49m\u001B[43m \u001B[49m\u001B[43membedding_features\u001B[49m\u001B[43m,\u001B[49m\u001B[43m \u001B[49m\u001B[38;5;28;43;01mNone\u001B[39;49;00m\u001B[43m,\u001B[49m\u001B[43m \u001B[49m\u001B[43msample_weight\u001B[49m\u001B[43m,\u001B[49m\u001B[43m \u001B[49m\u001B[38;5;28;43;01mNone\u001B[39;49;00m\u001B[43m,\u001B[49m\u001B[43m \u001B[49m\u001B[38;5;28;43;01mNone\u001B[39;49;00m\u001B[43m,\u001B[49m\u001B[43m \u001B[49m\u001B[38;5;28;43;01mNone\u001B[39;49;00m\u001B[43m,\u001B[49m\u001B[43m \u001B[49m\u001B[38;5;28;43;01mNone\u001B[39;49;00m\u001B[43m,\u001B[49m\u001B[43m \u001B[49m\u001B[43mbaseline\u001B[49m\u001B[43m,\u001B[49m\u001B[43m \u001B[49m\u001B[43muse_best_model\u001B[49m\u001B[43m,\u001B[49m\n\u001B[1;32m   5132\u001B[0m \u001B[43m          \u001B[49m\u001B[43meval_set\u001B[49m\u001B[43m,\u001B[49m\u001B[43m \u001B[49m\u001B[43mverbose\u001B[49m\u001B[43m,\u001B[49m\u001B[43m \u001B[49m\u001B[43mlogging_level\u001B[49m\u001B[43m,\u001B[49m\u001B[43m \u001B[49m\u001B[43mplot\u001B[49m\u001B[43m,\u001B[49m\u001B[43m \u001B[49m\u001B[43mplot_file\u001B[49m\u001B[43m,\u001B[49m\u001B[43m \u001B[49m\u001B[43mcolumn_description\u001B[49m\u001B[43m,\u001B[49m\u001B[43m \u001B[49m\u001B[43mverbose_eval\u001B[49m\u001B[43m,\u001B[49m\u001B[43m \u001B[49m\u001B[43mmetric_period\u001B[49m\u001B[43m,\u001B[49m\n\u001B[1;32m   5133\u001B[0m \u001B[43m          \u001B[49m\u001B[43msilent\u001B[49m\u001B[43m,\u001B[49m\u001B[43m \u001B[49m\u001B[43mearly_stopping_rounds\u001B[49m\u001B[43m,\u001B[49m\u001B[43m \u001B[49m\u001B[43msave_snapshot\u001B[49m\u001B[43m,\u001B[49m\u001B[43m \u001B[49m\u001B[43msnapshot_file\u001B[49m\u001B[43m,\u001B[49m\u001B[43m \u001B[49m\u001B[43msnapshot_interval\u001B[49m\u001B[43m,\u001B[49m\u001B[43m \u001B[49m\u001B[43minit_model\u001B[49m\u001B[43m,\u001B[49m\u001B[43m \u001B[49m\u001B[43mcallbacks\u001B[49m\u001B[43m,\u001B[49m\u001B[43m \u001B[49m\u001B[43mlog_cout\u001B[49m\u001B[43m,\u001B[49m\u001B[43m \u001B[49m\u001B[43mlog_cerr\u001B[49m\u001B[43m)\u001B[49m\n\u001B[1;32m   5134\u001B[0m \u001B[38;5;28;01mreturn\u001B[39;00m \u001B[38;5;28mself\u001B[39m\n",
      "File \u001B[0;32m~/opt/anaconda3/lib/python3.9/site-packages/catboost/core.py:2357\u001B[0m, in \u001B[0;36mCatBoost._fit\u001B[0;34m(self, X, y, cat_features, text_features, embedding_features, pairs, sample_weight, group_id, group_weight, subgroup_id, pairs_weight, baseline, use_best_model, eval_set, verbose, logging_level, plot, plot_file, column_description, verbose_eval, metric_period, silent, early_stopping_rounds, save_snapshot, snapshot_file, snapshot_interval, init_model, callbacks, log_cout, log_cerr)\u001B[0m\n\u001B[1;32m   2353\u001B[0m allow_clear_pool \u001B[38;5;241m=\u001B[39m train_params[\u001B[38;5;124m\"\u001B[39m\u001B[38;5;124mallow_clear_pool\u001B[39m\u001B[38;5;124m\"\u001B[39m]\n\u001B[1;32m   2355\u001B[0m \u001B[38;5;28;01mwith\u001B[39;00m log_fixup(log_cout, log_cerr), \\\n\u001B[1;32m   2356\u001B[0m     plot_wrapper(plot, plot_file, \u001B[38;5;124m'\u001B[39m\u001B[38;5;124mTraining plots\u001B[39m\u001B[38;5;124m'\u001B[39m, [_get_train_dir(\u001B[38;5;28mself\u001B[39m\u001B[38;5;241m.\u001B[39mget_params())]):\n\u001B[0;32m-> 2357\u001B[0m     \u001B[38;5;28;43mself\u001B[39;49m\u001B[38;5;241;43m.\u001B[39;49m\u001B[43m_train\u001B[49m\u001B[43m(\u001B[49m\n\u001B[1;32m   2358\u001B[0m \u001B[43m        \u001B[49m\u001B[43mtrain_pool\u001B[49m\u001B[43m,\u001B[49m\n\u001B[1;32m   2359\u001B[0m \u001B[43m        \u001B[49m\u001B[43mtrain_params\u001B[49m\u001B[43m[\u001B[49m\u001B[38;5;124;43m\"\u001B[39;49m\u001B[38;5;124;43meval_sets\u001B[39;49m\u001B[38;5;124;43m\"\u001B[39;49m\u001B[43m]\u001B[49m\u001B[43m,\u001B[49m\n\u001B[1;32m   2360\u001B[0m \u001B[43m        \u001B[49m\u001B[43mparams\u001B[49m\u001B[43m,\u001B[49m\n\u001B[1;32m   2361\u001B[0m \u001B[43m        \u001B[49m\u001B[43mallow_clear_pool\u001B[49m\u001B[43m,\u001B[49m\n\u001B[1;32m   2362\u001B[0m \u001B[43m        \u001B[49m\u001B[43mtrain_params\u001B[49m\u001B[43m[\u001B[49m\u001B[38;5;124;43m\"\u001B[39;49m\u001B[38;5;124;43minit_model\u001B[39;49m\u001B[38;5;124;43m\"\u001B[39;49m\u001B[43m]\u001B[49m\n\u001B[1;32m   2363\u001B[0m \u001B[43m    \u001B[49m\u001B[43m)\u001B[49m\n\u001B[1;32m   2365\u001B[0m \u001B[38;5;66;03m# Have property feature_importance possibly set\u001B[39;00m\n\u001B[1;32m   2366\u001B[0m loss \u001B[38;5;241m=\u001B[39m \u001B[38;5;28mself\u001B[39m\u001B[38;5;241m.\u001B[39m_object\u001B[38;5;241m.\u001B[39m_get_loss_function_name()\n",
      "File \u001B[0;32m~/opt/anaconda3/lib/python3.9/site-packages/catboost/core.py:1761\u001B[0m, in \u001B[0;36m_CatBoostBase._train\u001B[0;34m(self, train_pool, test_pool, params, allow_clear_pool, init_model)\u001B[0m\n\u001B[1;32m   1760\u001B[0m \u001B[38;5;28;01mdef\u001B[39;00m \u001B[38;5;21m_train\u001B[39m(\u001B[38;5;28mself\u001B[39m, train_pool, test_pool, params, allow_clear_pool, init_model):\n\u001B[0;32m-> 1761\u001B[0m     \u001B[38;5;28;43mself\u001B[39;49m\u001B[38;5;241;43m.\u001B[39;49m\u001B[43m_object\u001B[49m\u001B[38;5;241;43m.\u001B[39;49m\u001B[43m_train\u001B[49m\u001B[43m(\u001B[49m\u001B[43mtrain_pool\u001B[49m\u001B[43m,\u001B[49m\u001B[43m \u001B[49m\u001B[43mtest_pool\u001B[49m\u001B[43m,\u001B[49m\u001B[43m \u001B[49m\u001B[43mparams\u001B[49m\u001B[43m,\u001B[49m\u001B[43m \u001B[49m\u001B[43mallow_clear_pool\u001B[49m\u001B[43m,\u001B[49m\u001B[43m \u001B[49m\u001B[43minit_model\u001B[49m\u001B[38;5;241;43m.\u001B[39;49m\u001B[43m_object\u001B[49m\u001B[43m \u001B[49m\u001B[38;5;28;43;01mif\u001B[39;49;00m\u001B[43m \u001B[49m\u001B[43minit_model\u001B[49m\u001B[43m \u001B[49m\u001B[38;5;28;43;01melse\u001B[39;49;00m\u001B[43m \u001B[49m\u001B[38;5;28;43;01mNone\u001B[39;49;00m\u001B[43m)\u001B[49m\n\u001B[1;32m   1762\u001B[0m     \u001B[38;5;28mself\u001B[39m\u001B[38;5;241m.\u001B[39m_set_trained_model_attributes()\n",
      "File \u001B[0;32m_catboost.pyx:4625\u001B[0m, in \u001B[0;36m_catboost._CatBoost._train\u001B[0;34m()\u001B[0m\n",
      "File \u001B[0;32m_catboost.pyx:4674\u001B[0m, in \u001B[0;36m_catboost._CatBoost._train\u001B[0;34m()\u001B[0m\n",
      "\u001B[0;31mCatBoostError\u001B[0m: /Users/zomb-ml-platform-msk/go-agent-21.2.0/pipelines/BuildMaster/catboost.git/catboost/libs/train_lib/trainer_env.cpp:9: Environment for task type [GPU] not found"
     ]
    }
   ],
   "source": [
    "# 调参案例4：catboost\n",
    "# 还需要使用gpu才能跑通\n",
    "\n",
    "from sklearn.model_selection import KFold\n",
    "from catboost import Pool, CatBoostClassifier\n",
    "from sklearn.metrics import roc_auc_score\n",
    "\n",
    "def train_predict(train, label):\n",
    "    features = train.columns.tolist()\n",
    "    train_y = train[label]\n",
    "    features.remove(label)\n",
    "    kf = KFold(n_splits=5, random_state=2020, shuffle=True)\n",
    "    prediction_test = 0\n",
    "    prediction_train = pd.Series()\n",
    "    score_train = []\n",
    "    for train_part_index, eval_index in kf.split(train[features], train[label]):\n",
    "        learn_pool = Pool(train[features].iloc[train_part_index], train[label].iloc[train_part_index], text_features=[], cat_features= [], feature_names=features)\n",
    "        test_pool = Pool(train[features].iloc[eval_index], train[label].iloc[eval_index], text_features=[], cat_features= [], feature_names=features)\n",
    "        test_y = test_pool.get_label()\n",
    "        model = CatBoostClassifier(iterations=100, learning_rate=0.1, eval_metric='AUC', task_type='GPU')\n",
    "        model.fit(learn_pool, eval_set=test_pool, verbose=50)\n",
    "        score_train.append(model.best_score_['validation']['AUC'])\n",
    "        print(roc_auc_score(test_y, prediction_test))\n",
    "    train_auc_mean = sum(score_train)/5\n",
    "    print('mean auc on train  = ' + str(train_auc_mean))\n",
    "    return train_auc_mean, test_auc_mean\n",
    "\n",
    "if __name__ == \"__main__\":\n",
    "    # pandas.Dataframe\n",
    "    train_auc_mean, test_auc_mean = train_predict(train_data, 'target')\n",
    "    "
   ],
   "metadata": {
    "collapsed": false,
    "ExecuteTime": {
     "end_time": "2023-08-25T14:58:07.699292Z",
     "start_time": "2023-08-25T14:58:06.721997Z"
    }
   },
   "id": "aa50f8def34bc68"
  },
  {
   "cell_type": "code",
   "execution_count": null,
   "outputs": [],
   "source": [],
   "metadata": {
    "collapsed": false
   },
   "id": "aa971887ac07030a"
  }
 ],
 "metadata": {
  "kernelspec": {
   "display_name": "Python 3 (ipykernel)",
   "language": "python",
   "name": "python3"
  },
  "language_info": {
   "codemirror_mode": {
    "name": "ipython",
    "version": 3
   },
   "file_extension": ".py",
   "mimetype": "text/x-python",
   "name": "python",
   "nbconvert_exporter": "python",
   "pygments_lexer": "ipython3",
   "version": "3.9.13"
  }
 },
 "nbformat": 4,
 "nbformat_minor": 5
}
